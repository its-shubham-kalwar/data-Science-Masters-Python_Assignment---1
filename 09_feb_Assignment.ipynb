{
 "cells": [
  {
   "cell_type": "code",
   "execution_count": 1,
   "id": "f73f58db-2930-4151-b970-1ad66a34dad7",
   "metadata": {},
   "outputs": [],
   "source": [
    "# Q1, Create a vehicle class with an init method having instance variables as name_of_vehicle, max_speed\n",
    "# and average_of_vehicle."
   ]
  },
  {
   "cell_type": "code",
   "execution_count": 2,
   "id": "6b3b6311-702c-4090-b177-cbd872e580b4",
   "metadata": {},
   "outputs": [
    {
     "name": "stdout",
     "output_type": "stream",
     "text": [
      "Toyota\n",
      "200\n",
      "80\n"
     ]
    }
   ],
   "source": [
    "# Sure, here's an example of a Python class called \"Vehicle\" with an __init__ method that sets instance \n",
    "# variables for the name of the vehicle, its maximum speed, and its average speed:\n",
    "\n",
    "\n",
    "class Vehicle:\n",
    "    def __init__(self, name_of_vehicle, max_speed, average_speed):\n",
    "        self.name_of_vehicle = name_of_vehicle\n",
    "        self.max_speed = max_speed\n",
    "        self.average_speed = average_speed\n",
    "        \n",
    "# With this class, you can create new instances of vehicles and set their properties:\n",
    "\n",
    "car = Vehicle(\"Toyota\", 200, 80)\n",
    "print(car.name_of_vehicle)  # prints \"Toyota\"\n",
    "print(car.max_speed)        # prints 200\n",
    "print(car.average_speed)    # prints 80\n",
    "\n",
    "# Note that the self parameter in the __init__ method refers to the instance of the class being created, \n",
    "# and the instance variables are assigned to the instance using the dot notation \n",
    "# (self.name_of_vehicle, self.max_speed, self.average_speed)."
   ]
  },
  {
   "cell_type": "code",
   "execution_count": 3,
   "id": "174c8a04-1b9f-4fa1-b9b8-527eaa2dd01b",
   "metadata": {},
   "outputs": [],
   "source": [
    "# Q2. Create a child class car from the vehicle class created in Que 1, which will inherit the vehicle class.\n",
    "# Create a method named seating_capacity which takes capacity as an argument and returns the name of\n",
    "# the vehicle and its seating capacity."
   ]
  },
  {
   "cell_type": "code",
   "execution_count": 4,
   "id": "17b7ad86-90f7-4cb5-9e32-15ad25f4a37e",
   "metadata": {},
   "outputs": [
    {
     "name": "stdout",
     "output_type": "stream",
     "text": [
      "Toyota has a seating capacity of 4 passengers.\n"
     ]
    }
   ],
   "source": [
    "# Sure, here's an example of a Python child class called \"Car\" that inherits from the parent class \n",
    "# \"Vehicle\" and adds a method called \"seating_capacity\":\n",
    "\n",
    "class Vehicle:\n",
    "    def __init__(self, name_of_vehicle, max_speed, average_speed):\n",
    "        self.name_of_vehicle = name_of_vehicle\n",
    "        self.max_speed = max_speed\n",
    "        self.average_speed = average_speed\n",
    "\n",
    "        \n",
    "class Car(Vehicle):\n",
    "    def __init__(self, name_of_vehicle, max_speed, average_speed):\n",
    "        super().__init__(name_of_vehicle, max_speed, average_speed)\n",
    "\n",
    "    def seating_capacity(self, capacity):\n",
    "        return f\"{self.name_of_vehicle} has a seating capacity of {capacity} passengers.\"\n",
    "    \n",
    "# With this class, you can create new instances of cars and use the seating_capacity method to get the \n",
    "# vehicle name and its seating capacity:\n",
    "\n",
    "\n",
    "car = Car(\"Toyota\", 200, 80)\n",
    "print(car.seating_capacity(4))  # prints \"Toyota has a seating capacity of 4 passengers.\"\n",
    "\n",
    "\n",
    "# Note that the super() function in the __init__ method is used to call the parent class's constructor and\n",
    "# pass in the necessary arguments to initialize the instance variables. The seating_capacity method takes a \n",
    "# capacity argument and returns a formatted string that includes the vehicle name and the capacity."
   ]
  },
  {
   "cell_type": "code",
   "execution_count": 5,
   "id": "2c4f8442-2901-4a9b-bb38-ac4b00f37faa",
   "metadata": {},
   "outputs": [],
   "source": [
    "# Q3. What is multiple inheritance? Write a python code to demonstrate multiple inheritance."
   ]
  },
  {
   "cell_type": "code",
   "execution_count": 9,
   "id": "53bf8b78-b352-4092-bbb2-4545a10411b0",
   "metadata": {},
   "outputs": [
    {
     "name": "stdout",
     "output_type": "stream",
     "text": [
      "Tesla Model S has a maximum speed of 250 km/h and a battery capacity of 85 kWh.\n",
      "Tesla Model S is moving at 250 km/h.\n",
      "Charging battery with capacity 85 kWh.\n"
     ]
    }
   ],
   "source": [
    "# Multiple inheritance is a feature of object-oriented programming languages like Python that allows a class\n",
    "# to inherit properties and methods from more than one parent class. This means that a child class can have\n",
    "# multiple parent classes and inherit all of their properties and methods.\n",
    "\n",
    "# Here's an example Python code that demonstrates multiple inheritance:\n",
    "\n",
    "\n",
    "class Vehicle:\n",
    "    def __init__(self, name, max_speed):\n",
    "        self.name = name\n",
    "        self.max_speed = max_speed\n",
    "\n",
    "    def move(self):\n",
    "        print(f\"{self.name} is moving at {self.max_speed} km/h.\")\n",
    "\n",
    "class Electric:\n",
    "    def __init__(self, battery_capacity):\n",
    "        self.battery_capacity = battery_capacity\n",
    "\n",
    "    def charge(self):\n",
    "        print(f\"Charging battery with capacity {self.battery_capacity} kWh.\")\n",
    "\n",
    "class ElectricCar(Vehicle, Electric):\n",
    "    def __init__(self, name, max_speed, battery_capacity):\n",
    "        Vehicle.__init__(self, name, max_speed)\n",
    "        Electric.__init__(self, battery_capacity)\n",
    "\n",
    "    def display_info(self):\n",
    "        print(f\"{self.name} has a maximum speed of {self.max_speed} km/h and a battery capacity of \n",
    "              {self.battery_capacity} kWh.\")\n",
    "\n",
    "my_car = ElectricCar(\"Tesla Model S\", 250, 85)\n",
    "my_car.display_info()\n",
    "my_car.move()\n",
    "my_car.charge()\n",
    "\n",
    "\n",
    "# In this example, we have three classes: Vehicle, Electric, and ElectricCar. Vehicle has properties and \n",
    "# methods related to general vehicles, such as a name and a maximum speed, while Electric has \n",
    "# properties and methods related to electric vehicles, such as a battery capacity and the ability to charge.\n",
    "\n",
    "# ElectricCar is a child class that inherits from both Vehicle and Electric. It has an __init__ method that \n",
    "# calls the constructors of both parent classes to initialize their properties. It also has a display_info \n",
    "# method that prints out information about the car, and it can call methods from both parent classes: move \n",
    "# from Vehicle and charge from Electric.\n",
    "\n",
    "# When we create an instance of ElectricCar and call its display_info, move, and charge methods, we can see \n",
    "# that it is able to inherit and use properties and methods from both parent classes."
   ]
  },
  {
   "cell_type": "code",
   "execution_count": 7,
   "id": "9261eacb-d440-4c49-9a5b-deb0d32d8112",
   "metadata": {},
   "outputs": [],
   "source": [
    "# Q4. What are getter and setter in python? Create a class and create a getter and a setter method in this\n",
    "# class."
   ]
  },
  {
   "cell_type": "code",
   "execution_count": 10,
   "id": "cf078712-0802-4fb7-b767-2cb3a82812fe",
   "metadata": {},
   "outputs": [
    {
     "name": "stdout",
     "output_type": "stream",
     "text": [
      "John\n",
      "Alice\n",
      "30\n",
      "40\n"
     ]
    },
    {
     "ename": "ValueError",
     "evalue": "Age cannot be negative",
     "output_type": "error",
     "traceback": [
      "\u001b[0;31m---------------------------------------------------------------------------\u001b[0m",
      "\u001b[0;31mValueError\u001b[0m                                Traceback (most recent call last)",
      "Cell \u001b[0;32mIn[10], line 51\u001b[0m\n\u001b[1;32m     49\u001b[0m person\u001b[38;5;241m.\u001b[39mset_age(\u001b[38;5;241m40\u001b[39m)\n\u001b[1;32m     50\u001b[0m \u001b[38;5;28mprint\u001b[39m(person\u001b[38;5;241m.\u001b[39mget_age())   \u001b[38;5;66;03m# Output: 40\u001b[39;00m\n\u001b[0;32m---> 51\u001b[0m \u001b[43mperson\u001b[49m\u001b[38;5;241;43m.\u001b[39;49m\u001b[43mset_age\u001b[49m\u001b[43m(\u001b[49m\u001b[38;5;241;43m-\u001b[39;49m\u001b[38;5;241;43m10\u001b[39;49m\u001b[43m)\u001b[49m       \u001b[38;5;66;03m# Raises ValueError: \"Age cannot be negative\"\u001b[39;00m\n\u001b[1;32m     54\u001b[0m \u001b[38;5;66;03m# In this example, we create a Person object with a name of \"John\" and an age of 30. We then use the \u001b[39;00m\n\u001b[1;32m     55\u001b[0m \u001b[38;5;66;03m# get_name method to retrieve the name, and the set_name method to change it to \"Alice\". We also use the \u001b[39;00m\n\u001b[1;32m     56\u001b[0m \u001b[38;5;66;03m# get_age method to retrieve the age, and the set_age method to change it to 40 (which is a valid age). \u001b[39;00m\n\u001b[1;32m     57\u001b[0m \u001b[38;5;66;03m# Finally, we try to set the age to a negative value (-10), which raises a ValueError.\u001b[39;00m\n",
      "Cell \u001b[0;32mIn[10], line 26\u001b[0m, in \u001b[0;36mPerson.set_age\u001b[0;34m(self, age)\u001b[0m\n\u001b[1;32m     24\u001b[0m \u001b[38;5;28;01mdef\u001b[39;00m \u001b[38;5;21mset_age\u001b[39m(\u001b[38;5;28mself\u001b[39m, age):\n\u001b[1;32m     25\u001b[0m     \u001b[38;5;28;01mif\u001b[39;00m age \u001b[38;5;241m<\u001b[39m \u001b[38;5;241m0\u001b[39m:\n\u001b[0;32m---> 26\u001b[0m         \u001b[38;5;28;01mraise\u001b[39;00m \u001b[38;5;167;01mValueError\u001b[39;00m(\u001b[38;5;124m\"\u001b[39m\u001b[38;5;124mAge cannot be negative\u001b[39m\u001b[38;5;124m\"\u001b[39m)\n\u001b[1;32m     27\u001b[0m     \u001b[38;5;28mself\u001b[39m\u001b[38;5;241m.\u001b[39m_age \u001b[38;5;241m=\u001b[39m age\n",
      "\u001b[0;31mValueError\u001b[0m: Age cannot be negative"
     ]
    }
   ],
   "source": [
    "# In Python, getters and setters are methods used to access and modify the values of instance variables of a \n",
    "# class. They are used to control the access and modification of instance variables, and they can be used to\n",
    "# enforce data encapsulation and data validation.\n",
    "\n",
    "# A getter method is used to retrieve the value of an instance variable, while a setter method is used to \n",
    "# modify the value of an instance variable. Here's an example of a class that has a getter and a setter \n",
    "# method:\n",
    "\n",
    "\n",
    "class Person:\n",
    "    def __init__(self, name, age):\n",
    "        self._name = name\n",
    "        self._age = age\n",
    "\n",
    "    def get_name(self):\n",
    "        return self._name\n",
    "\n",
    "    def set_name(self, name):\n",
    "        self._name = name\n",
    "\n",
    "    def get_age(self):\n",
    "        return self._age\n",
    "\n",
    "    def set_age(self, age):\n",
    "        if age < 0:\n",
    "            raise ValueError(\"Age cannot be negative\")\n",
    "        self._age = age\n",
    "        \n",
    "        \n",
    "# In this example, we have a Person class with two instance variables: _name and _age. We use the \n",
    "# underscore prefix to indicate that these variables are meant to be private and should not be accessed \n",
    "# directly from outside the class.\n",
    "\n",
    "# We have four methods in this class: get_name, set_name, get_age, and set_age. get_name and get_age are \n",
    "# getter methods that retrieve the values of _name and _age, respectively. set_name and set_age are setter \n",
    "# methods that modify the values of _name and _age, respectively.\n",
    "\n",
    "# The set_age method includes a validation check to ensure that the age entered is a positive value. \n",
    "# If a negative value is passed, it raises a ValueError.\n",
    "\n",
    "# Here's an example of how to use this class and its getter and setter methods:\n",
    "\n",
    "\n",
    "person = Person(\"John\", 30)\n",
    "print(person.get_name())  # Output: \"John\"\n",
    "person.set_name(\"Alice\")\n",
    "print(person.get_name())  # Output: \"Alice\"\n",
    "print(person.get_age())   # Output: 30\n",
    "person.set_age(40)\n",
    "print(person.get_age())   # Output: 40\n",
    "person.set_age(-10)       # Raises ValueError: \"Age cannot be negative\"\n",
    "\n",
    "\n",
    "# In this example, we create a Person object with a name of \"John\" and an age of 30. We then use the \n",
    "# get_name method to retrieve the name, and the set_name method to change it to \"Alice\". We also use the \n",
    "# get_age method to retrieve the age, and the set_age method to change it to 40 (which is a valid age). \n",
    "# Finally, we try to set the age to a negative value (-10), which raises a ValueError."
   ]
  },
  {
   "cell_type": "code",
   "execution_count": 11,
   "id": "a1d92ed0-f18a-4fb8-86b2-651864d5634e",
   "metadata": {},
   "outputs": [],
   "source": [
    "# Q5.What is method overriding in python? Write a python code to demonstrate method overriding."
   ]
  },
  {
   "cell_type": "code",
   "execution_count": null,
   "id": "d644ede5-459b-4709-a1bf-07eae1566fce",
   "metadata": {},
   "outputs": [],
   "source": [
    "# Method overriding is a feature of object-oriented programming languages like Python that allows a child \n",
    "# class to provide a different implementation for a method that is already defined in its parent class. \n",
    "# This means that the child class can replace or modify the behavior of the method inherited from its parent \n",
    "# class.\n",
    "\n",
    "# Here's an example Python code that demonstrates method overriding:\n",
    "\n",
    "\n",
    "class Animal:\n",
    "    def make_sound(self):\n",
    "        print(\"The animal makes a sound.\")\n",
    "\n",
    "class Cat(Animal):\n",
    "    def make_sound(self):\n",
    "        print(\"The cat meows.\")\n",
    "\n",
    "class Dog(Animal):\n",
    "    def make_sound(self):\n",
    "        print(\"The dog barks.\")\n",
    "\n",
    "animal = Animal()\n",
    "animal.make_sound()  # Output: \"The animal makes a sound.\"\n",
    "\n",
    "cat = Cat()\n",
    "cat.make_sound()     # Output: \"The cat meows.\"\n",
    "\n",
    "dog = Dog()\n",
    "dog.make_sound()     # Output: \"The dog barks.\"\n",
    "\n",
    "\n",
    "# In this example, we have three classes: Animal, Cat, and Dog. Animal has a make_sound method that prints \n",
    "# out a generic message about the animal making a sound. Cat and Dog are child classes that inherit from \n",
    "# Animal, but they override the make_sound method with their own implementations.\n",
    "\n",
    "# When we create an instance of Animal and call its make_sound method, we see the generic message. \n",
    "# When we create an instance of Cat or Dog and call their make_sound methods, we see the specific message \n",
    "# for each type of animal.\n",
    "\n",
    "# This is an example of method overriding, where the child classes provide their own implementation of a \n",
    "# method inherited from their parent class."
   ]
  }
 ],
 "metadata": {
  "kernelspec": {
   "display_name": "Python 3 (ipykernel)",
   "language": "python",
   "name": "python3"
  },
  "language_info": {
   "codemirror_mode": {
    "name": "ipython",
    "version": 3
   },
   "file_extension": ".py",
   "mimetype": "text/x-python",
   "name": "python",
   "nbconvert_exporter": "python",
   "pygments_lexer": "ipython3",
   "version": "3.10.8"
  }
 },
 "nbformat": 4,
 "nbformat_minor": 5
}
