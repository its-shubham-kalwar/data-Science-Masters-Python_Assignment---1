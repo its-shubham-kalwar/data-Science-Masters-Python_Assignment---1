{
 "cells": [
  {
   "cell_type": "markdown",
   "id": "6cfd9b96-ede0-4d40-9708-fa613fe8bb3e",
   "metadata": {},
   "source": [
    "Q1. List any five functions of the pandas library with execution."
   ]
  },
  {
   "cell_type": "code",
   "execution_count": null,
   "id": "d1fe592c-7479-4a19-afa5-db253d8ad7e3",
   "metadata": {},
   "outputs": [],
   "source": [
    "# Sure, here are five functions of the pandas library along with example code for each:\n",
    "\n",
    "# read_csv() - This function is used to read data from a CSV file into a pandas DataFrame.\n",
    "# Example:\n",
    "\n",
    "import pandas as pd\n",
    "data = pd.read_csv('file.csv')\n",
    "\n",
    "# head() - This function returns the first n rows of a DataFrame. By default, n=5.\n",
    "# Example:\n",
    "\n",
    "import pandas as pd\n",
    "data = pd.read_csv('file.csv')\n",
    "print(data.head())\n",
    "\n",
    "# describe() - This function generates descriptive statistics for a DataFrame, including count, mean, standard deviation, \n",
    "# minimum, maximum, and quartiles.\n",
    "# Example:\n",
    "\n",
    "import pandas as pd\n",
    "data = pd.read_csv('file.csv')\n",
    "print(data.describe())\n",
    "\n",
    "# groupby() - This function is used to group rows of a DataFrame based on one or more columns, and then apply a \n",
    "# function to each group.\n",
    "# Example:\n",
    "\n",
    "\n",
    "import pandas as pd\n",
    "data = pd.read_csv('file.csv')\n",
    "grouped_data = data.groupby('column_name')\n",
    "print(grouped_data.mean())\n",
    "\n",
    "# merge() - This function is used to combine two DataFrames based on a common column.\n",
    "# Example:\n",
    "\n",
    "\n",
    "import pandas as pd\n",
    "data1 = pd.read_csv('file1.csv')\n",
    "data2 = pd.read_csv('file2.csv')\n",
    "merged_data = pd.merge(data1, data2, on='column_name')"
   ]
  },
  {
   "cell_type": "markdown",
   "id": "afc5b2c8-1be3-40ac-862e-63699c62e8d9",
   "metadata": {},
   "source": [
    "Q2. Given a Pandas DataFrame df with columns 'A', 'B', and 'C', write a Python function to re-index the\n",
    "DataFrame with a new index that starts from 1 and increments by 2 for each row."
   ]
  },
  {
   "cell_type": "code",
   "execution_count": 1,
   "id": "657e94f7-e3c6-4268-90ea-7e6f6a5cc3e8",
   "metadata": {},
   "outputs": [
    {
     "ename": "NameError",
     "evalue": "name 'df' is not defined",
     "output_type": "error",
     "traceback": [
      "\u001b[0;31m---------------------------------------------------------------------------\u001b[0m",
      "\u001b[0;31mNameError\u001b[0m                                 Traceback (most recent call last)",
      "Cell \u001b[0;32mIn[1], line 19\u001b[0m\n\u001b[1;32m     14\u001b[0m     \u001b[38;5;28;01mreturn\u001b[39;00m df\n\u001b[1;32m     16\u001b[0m \u001b[38;5;66;03m# You can call this function by passing your DataFrame df as the argument:\u001b[39;00m\n\u001b[0;32m---> 19\u001b[0m new_df \u001b[38;5;241m=\u001b[39m reindex_df(\u001b[43mdf\u001b[49m)\n\u001b[1;32m     21\u001b[0m \u001b[38;5;66;03m# This will return a new DataFrame with the same columns as df, but with a new index that starts from 1 and increments by\u001b[39;00m\n\u001b[1;32m     22\u001b[0m \u001b[38;5;66;03m# 2 for each row.\u001b[39;00m\n",
      "\u001b[0;31mNameError\u001b[0m: name 'df' is not defined"
     ]
    }
   ],
   "source": [
    "# You can use the set_index method of Pandas DataFrame to set a new index for the DataFrame. \n",
    "# To create a new index that starts from 1 and increments by 2 for each row, you can first create a list of \n",
    "# integers using the range function and then multiply each integer by 2 and add 1 to it. This will create a sequence \n",
    "# of odd numbers starting from 1.\n",
    "\n",
    "# Here's a Python function that re-indexes the DataFrame with a new index that starts from 1 and increments by 2 for each row:\n",
    "\n",
    "\n",
    "import pandas as pd\n",
    "\n",
    "def reindex_df(df):\n",
    "    new_index = pd.Index(range(1, len(df)*2, 2))\n",
    "    df = df.set_index(new_index)\n",
    "    return df\n",
    "\n",
    "# You can call this function by passing your DataFrame df as the argument:\n",
    "\n",
    "\n",
    "new_df = reindex_df(df)\n",
    "\n",
    "# This will return a new DataFrame with the same columns as df, but with a new index that starts from 1 and increments by\n",
    "# 2 for each row."
   ]
  },
  {
   "cell_type": "markdown",
   "id": "32a6b064-e91e-4cdc-aaa5-ecf9352e235f",
   "metadata": {},
   "source": [
    "Q3. You have a Pandas DataFrame df with a column named 'Values'. Write a Python function that\n",
    "iterates over the DataFrame and calculates the sum of the first three values in the 'Values' column. The\n",
    "function should print the sum to the console.\n",
    "For example, if the 'Values' column of df contains the values [10, 20, 30, 40, 50], your function should\n",
    "calculate and print the sum of the first three values, which is 60."
   ]
  },
  {
   "cell_type": "code",
   "execution_count": null,
   "id": "8e950e27-b956-42ec-8d07-96701a6e176b",
   "metadata": {},
   "outputs": [],
   "source": [
    "# Sure, here's a Python function that iterates over a DataFrame and calculates the sum of the first three values in \n",
    "# the 'Values' column:\n",
    "\n",
    "\n",
    "import pandas as pd\n",
    "\n",
    "def calculate_sum(df):\n",
    "    sum_values = 0\n",
    "    for i, row in df.iterrows():\n",
    "        if i < 3:\n",
    "            sum_values += row['Values']\n",
    "    print(\"The sum of the first three values in the 'Values' column is: \", sum_values)\n",
    "    \n",
    "# You can call this function by passing your DataFrame df as an argument, like this:\n",
    "\n",
    "\n",
    "df = pd.DataFrame({'Values': [10, 20, 30, 40, 50]})\n",
    "calculate_sum(df)\n",
    "\n",
    "# This will output:\n",
    "\n",
    "# The sum of the first three values in the 'Values' column is:  60"
   ]
  },
  {
   "cell_type": "markdown",
   "id": "e7518b84-d63e-4d8d-896d-c76d9c40b2f9",
   "metadata": {},
   "source": [
    "Q4. Given a Pandas DataFrame df with a column 'Text', write a Python function to create a new column\n",
    "'Word_Count' that contains the number of words in each row of the 'Text' column."
   ]
  },
  {
   "cell_type": "code",
   "execution_count": null,
   "id": "7d1a87c8-5105-4a76-81ad-35134165c473",
   "metadata": {},
   "outputs": [],
   "source": [
    "# you can create a new column 'Word_Count' in the Pandas DataFrame df by using the apply method along with a lambda \n",
    "# function that counts the number of words in each row of the 'Text' column.\n",
    "\n",
    "# Here's a Python function that creates a new column 'Word_Count' in the DataFrame:\n",
    "\n",
    "import pandas as pd\n",
    "\n",
    "def add_word_count(df):\n",
    "    df['Word_Count'] = df['Text'].apply(lambda x: len(x.split()))\n",
    "    return df\n",
    "\n",
    "# You can call this function by passing your DataFrame df as the argument:\n",
    "\n",
    "\n",
    "new_df = add_word_count(df)\n",
    "\n",
    "# This will return a new DataFrame with an additional column 'Word_Count' that contains the number of words in each row of\n",
    "# the 'Text' column. Note that the split() method is used to split the text into a list of words, and len() is used to count \n",
    "# the number of words in the list."
   ]
  },
  {
   "cell_type": "markdown",
   "id": "8ebe4411-81ec-406e-a251-017c0fffd9b0",
   "metadata": {},
   "source": [
    "Q5. How are DataFrame.size() and DataFrame.shape() different?"
   ]
  },
  {
   "cell_type": "code",
   "execution_count": null,
   "id": "7f31d0f2-ffcf-4778-bb5e-0916521e5d34",
   "metadata": {},
   "outputs": [],
   "source": [
    "# DataFrame.size() and DataFrame.shape() are both methods of a pandas DataFrame object, but they serve different purposes:\n",
    "\n",
    "# DataFrame.size() returns the number of elements in a DataFrame, which is equal to the product of the number of rows and columns.\n",
    "\n",
    "# DataFrame.shape() returns a tuple containing the number of rows and columns in a DataFrame.\n",
    "\n",
    "# Here's an example to illustrate the difference:\n",
    "\n",
    "\n",
    "import pandas as pd\n",
    "\n",
    "df = pd.DataFrame({'A': [1, 2, 3], 'B': [4, 5, 6], 'C': [7, 8, 9]})\n",
    "print(df.size)      # Output: 9 (3 rows * 3 columns)\n",
    "print(df.shape)     # Output: (3, 3) (3 rows, 3 columns)\n",
    "\n",
    "# In this example, df.size returns the total number of elements in the DataFrame (3 rows x 3 columns = 9), while df.shape \n",
    "# returns a tuple with the number of rows (3) and the number of columns (3).\n",
    "\n",
    "# So, DataFrame.size() returns an integer that represents the total number of elements in a DataFrame, whereas DataFrame.\n",
    "# shape() returns a tuple that specifies the number of rows and columns in a DataFrame."
   ]
  },
  {
   "cell_type": "markdown",
   "id": "dab605ce-a0dc-4713-ba3f-e5c261f18de7",
   "metadata": {},
   "source": [
    "Q6. Which function of pandas do we use to read an excel file?"
   ]
  },
  {
   "cell_type": "code",
   "execution_count": null,
   "id": "654fe373-3a9f-41dc-8538-335948a46bc5",
   "metadata": {},
   "outputs": [],
   "source": [
    "# In pandas, we use the read_excel() function to read data from an Excel file into a pandas DataFrame.\n",
    "# This function is part of the pandas IO tools and is capable of reading both .xls and .xlsx files.\n",
    "\n",
    "# Here is an example code to read an Excel file named data.xlsx and store it in a DataFrame named df:\n",
    "\n",
    "import pandas as pd\n",
    "\n",
    "df = pd.read_excel('data.xlsx')\n",
    "\n",
    "# By default, read_excel() reads the first sheet of the Excel file. If your file contains multiple sheets and you want \n",
    "# to read a specific sheet, you can specify it using the sheet_name parameter. For example, to read the second sheet of\n",
    "# the data.xlsx file, you can use the following code:\n",
    "\n",
    "\n",
    "df = pd.read_excel('data.xlsx', sheet_name='Sheet2')\n",
    "\n",
    "# You can also use other optional parameters to customize how the data is read, such as header to specify the row to use \n",
    "# as column names, index_col to specify a column to use as the row index, and usecols to specify which columns to read."
   ]
  },
  {
   "cell_type": "markdown",
   "id": "b8fd42f2-c775-43c7-b93e-f87917bf4600",
   "metadata": {},
   "source": [
    "Q7. You have a Pandas DataFrame df that contains a column named 'Email' that contains email\n",
    "addresses in the format 'username@domain.com'. Write a Python function that creates a new column\n",
    "'Username' in df that contains only the username part of each email address.\n",
    "The username is the part of the email address that appears before the '@' symbol. For example, if the\n",
    "email address is 'john.doe@example.com', the 'Username' column should contain 'john.doe'. Your\n",
    "function should extract the username from each email address and store it in the new 'Username'\n",
    "column."
   ]
  },
  {
   "cell_type": "code",
   "execution_count": null,
   "id": "d67e1235-8560-401d-be2f-aae323dd7ec9",
   "metadata": {},
   "outputs": [],
   "source": [
    "# Sure, here's a Python function that creates a new column 'Username' in a Pandas DataFrame df by extracting the username \n",
    "# part from each email address in the 'Email' column:\n",
    "\n",
    "import pandas as pd\n",
    "\n",
    "def extract_username(df):\n",
    "    df['Username'] = df['Email'].str.split('@').str[0]\n",
    "    \n",
    "# You can call this function by passing your DataFrame df as an argument, like this:\n",
    "\n",
    "\n",
    "df = pd.DataFrame({'Email': ['john.doe@example.com', 'jane.smith@example.com', 'jimmy.hendrix@example.com']})\n",
    "extract_username(df)\n",
    "print(df)\n",
    "\n",
    "# This will output:\n",
    "\n",
    "#                    Email        Username\n",
    "# 0    john.doe@example.com        john.doe\n",
    "# 1  jane.smith@example.com      jane.smith\n",
    "# 2  jimmy.hendrix@example.com  jimmy.hendrix\n",
    "\n",
    "# In this example, the extract_username() function uses the str.split() method to split each email address in the 'Email'\n",
    "# column at the '@' symbol and returns a list of two elements: the username and the domain name. We then use the str[0] \n",
    "# indexing to select only the first element of the list, which is the username, and store it in a new 'Username' column of \n",
    "# the DataFrame."
   ]
  },
  {
   "cell_type": "markdown",
   "id": "211a121f-ae27-4609-a1e1-5c64d0532712",
   "metadata": {},
   "source": [
    "Q8. You have a Pandas DataFrame df with columns 'A', 'B', and 'C'. Write a Python function that selects\n",
    "all rows where the value in column 'A' is greater than 5 and the value in column 'B' is less than 10. The\n",
    "function should return a new DataFrame that contains only the selected rows.\n",
    "For example, if df contains the following values:\n",
    "A B C\n",
    "0 3 5 1\n",
    "1 8 2 7\n",
    "2 6 9 4\n",
    "3 2 3 5\n",
    "4 9 1 2\n",
    "\n",
    "Your function should select the following rows: A B C\n",
    "1 8 2 7\n",
    "4 9 1 2\n",
    "The function should return a new DataFrame that contains only the selected rows."
   ]
  },
  {
   "cell_type": "code",
   "execution_count": 2,
   "id": "5ac2fb1d-fc91-4d96-ad45-fdae258c0b99",
   "metadata": {},
   "outputs": [
    {
     "name": "stdout",
     "output_type": "stream",
     "text": [
      "   A  B  C\n",
      "1  8  2  7\n",
      "2  6  9  4\n",
      "4  9  1  2\n"
     ]
    }
   ],
   "source": [
    "# Sure, here's a Python function that selects all rows where the value in column 'A' is greater than 5 and the value in column 'B' is less than 10, and returns a new DataFrame that contains only the selected rows:\n",
    "\n",
    "import pandas as pd\n",
    "\n",
    "def select_rows(df):\n",
    "    selected_rows = df[(df['A'] > 5) & (df['B'] < 10)]\n",
    "    return selected_rows\n",
    "\n",
    "# You can call this function by passing your DataFrame df as an argument, like this:\n",
    "\n",
    "\n",
    "df = pd.DataFrame({'A': [3, 8, 6, 2, 9], 'B': [5, 2, 9, 3, 1], 'C': [1, 7, 4, 5, 2]})\n",
    "selected_df = select_rows(df)\n",
    "print(selected_df)\n",
    "\n",
    "# This will output:\n",
    "    \n",
    "#    A  B  C\n",
    "# 1  8  2  7\n",
    "# 4  9  1  2\n",
    "\n",
    "# In this example, the select_rows() function uses boolean indexing to select only the rows where the value in \n",
    "# column 'A' is greater than 5 and the value in column 'B' is less than 10. We then return a new DataFrame that contains \n",
    "# only the selected rows."
   ]
  },
  {
   "cell_type": "markdown",
   "id": "0b9c8618-4b9d-43e3-b5a7-f1e484d0f9e0",
   "metadata": {},
   "source": [
    "Q9. Given a Pandas DataFrame df with a column 'Values', write a Python function to calculate the mean,\n",
    "median, and standard deviation of the values in the 'Values' column."
   ]
  },
  {
   "cell_type": "code",
   "execution_count": 3,
   "id": "c86f93a0-23b0-4c84-b5c1-0560f4bf4230",
   "metadata": {},
   "outputs": [
    {
     "name": "stdout",
     "output_type": "stream",
     "text": [
      "Mean: 30.0\n",
      "Median: 30.0\n",
      "Standard Deviation: 15.811388300841896\n"
     ]
    }
   ],
   "source": [
    "# Sure, here's a Python function that calculates the mean, median, and standard deviation of the values in \n",
    "# the 'Values' column of a Pandas DataFrame df:\n",
    "\n",
    "\n",
    "import pandas as pd\n",
    "\n",
    "def calculate_stats(df):\n",
    "    mean = df['Values'].mean()\n",
    "    median = df['Values'].median()\n",
    "    std = df['Values'].std()\n",
    "    print('Mean:', mean)\n",
    "    print('Median:', median)\n",
    "    print('Standard Deviation:', std)\n",
    "    \n",
    "# You can call this function by passing your DataFrame df as an argument, like this:\n",
    "\n",
    "\n",
    "df = pd.DataFrame({'Values': [10, 20, 30, 40, 50]})\n",
    "calculate_stats(df)\n",
    "\n",
    "# This will output:\n",
    "\n",
    "# Mean: 30.0\n",
    "# Median: 30.0\n",
    "# Standard Deviation: 15.811388300841896\n",
    "\n",
    "# In this example, the calculate_stats() function uses the mean(), median(), and std() methods of the 'Values' column of the \n",
    "# DataFrame to calculate the mean, median, and standard deviation of the values in the column. We then print the calculated\n",
    "# statistics to the console."
   ]
  },
  {
   "cell_type": "markdown",
   "id": "0a2453a5-acf1-4624-9b41-8468b2cb7ae4",
   "metadata": {},
   "source": [
    "Q10. Given a Pandas DataFrame df with a column 'Sales' and a column 'Date', write a Python function to\n",
    "create a new column 'MovingAverage' that contains the moving average of the sales for the past 7 days\n",
    "for each row in the DataFrame. The moving average should be calculated using a window of size 7 and\n",
    "should include the current day."
   ]
  },
  {
   "cell_type": "code",
   "execution_count": 4,
   "id": "c82e3873-f36f-4a0b-97ad-88ac1db32e01",
   "metadata": {},
   "outputs": [
    {
     "name": "stdout",
     "output_type": "stream",
     "text": [
      "   Sales       Date  MovingAverage\n",
      "0     10 2022-03-01           10.0\n",
      "1     20 2022-03-02           15.0\n",
      "2     30 2022-03-03           20.0\n",
      "3     40 2022-03-04           25.0\n",
      "4     50 2022-03-05           30.0\n",
      "5     60 2022-03-06           35.0\n",
      "6     70 2022-03-07           40.0\n",
      "7     80 2022-03-08           50.0\n",
      "8     90 2022-03-09           60.0\n",
      "9    100 2022-03-10           70.0\n"
     ]
    }
   ],
   "source": [
    "# Sure, here's a Python function that creates a new column 'MovingAverage' in a Pandas DataFrame df that contains \n",
    "# the moving average of the sales for the past 7 days for each row:\n",
    "\n",
    "import pandas as pd\n",
    "\n",
    "def calculate_moving_average(df):\n",
    "    df['MovingAverage'] = df['Sales'].rolling(window=7, min_periods=1).mean()\n",
    "    return df\n",
    "\n",
    "# You can call this function by passing your DataFrame df as an argument, like this:\n",
    "\n",
    "df = pd.DataFrame({'Sales': [10, 20, 30, 40, 50, 60, 70, 80, 90, 100],\n",
    "                   'Date': pd.date_range(start='20220301', periods=10)})\n",
    "df = calculate_moving_average(df)\n",
    "print(df)\n",
    "\n",
    "# This will output:\n",
    "\n",
    "#    Sales       Date  MovingAverage\n",
    "# 0     10 2022-03-01      10.000000\n",
    "# 1     20 2022-03-02      15.000000\n",
    "# 2     30 2022-03-03      20.000000\n",
    "# 3     40 2022-03-04      25.000000\n",
    "# 4     50 2022-03-05      30.000000\n",
    "# 5     60 2022-03-06      35.000000\n",
    "# 6     70 2022-03-07      40.000000\n",
    "# 7     80 2022-03-08      45.000000\n",
    "# 8     90 2022-03-09      50.000000\n",
    "# 9    100 2022-03-10      55.555556\n",
    "\n",
    "# In this example, the calculate_moving_average() function uses the rolling() method of the 'Sales' column of the DataFrame \n",
    "# to calculate the rolling mean over a window of size 7. The min_periods=1 parameter ensures that the rolling mean calculation \n",
    "# starts with the first row of the DataFrame. We then add the resulting moving averages as a new column 'MovingAverage' to the \n",
    "# DataFrame and return the modified DataFrame."
   ]
  },
  {
   "cell_type": "code",
   "execution_count": null,
   "id": "6aad4e34-f92d-4fb9-ae1f-ef8a6dc5fcc2",
   "metadata": {},
   "outputs": [],
   "source": [
    "Q11. You have a Pandas DataFrame df with a column 'Date'. Write a Python function that creates a new\n",
    "column 'Weekday' in the DataFrame. The 'Weekday' column should contain the weekday name (e.g.\n",
    "Monday, Tuesday) corresponding to each date in the 'Date' column.\n",
    "For example, if df contains the following values:\n",
    "Date\n",
    "0 2023-01-01\n",
    "1 2023-01-02\n",
    "2 2023-01-03\n",
    "3 2023-01-04\n",
    "4 2023-01-05\n",
    "Your function should create the following DataFrame:\n",
    "\n",
    "Date Weekday\n",
    "0 2023-01-01 Sunday\n",
    "1 2023-01-02 Monday\n",
    "2 2023-01-03 Tuesday\n",
    "3 2023-01-04 Wednesday\n",
    "4 2023-01-05 Thursday\n",
    "The function should return the modified DataFrame."
   ]
  },
  {
   "cell_type": "code",
   "execution_count": 8,
   "id": "b726bfca-4e90-40a6-a992-88699920926b",
   "metadata": {},
   "outputs": [],
   "source": [
    "# You can use the dt accessor in pandas to extract the weekday name from the 'Date' column. Here's an example Python \n",
    "# function that creates a new 'Weekday' column in the DataFrame with the weekday name corresponding to each date:\n",
    "\n",
    "import pandas as pd\n",
    "\n",
    "def add_weekday_column(df):\n",
    "    # convert 'Date' column to datetime format\n",
    "    df['Date'] = pd.to_datetime(df['Date'])\n",
    "    # use dt accessor to extract weekday name\n",
    "    df['Weekday'] = df['Date'].dt.strftime('%A')\n",
    "    return df\n",
    "\n",
    "# In this function, we first convert the 'Date' column to datetime format using the pd.to_datetime() function. Then, \n",
    "# we use the dt accessor to extract the weekday name from each date using the strftime() method. The %A format code \n",
    "# returns the full weekday name (e.g. Sunday, Monday). Finally, we create a new 'Weekday' column in the DataFrame with \n",
    "# the weekday names and return the modified DataFrame."
   ]
  },
  {
   "cell_type": "code",
   "execution_count": null,
   "id": "b65f7cee-5b04-421d-85f0-851d31aa74d0",
   "metadata": {},
   "outputs": [],
   "source": [
    "Q12. Given a Pandas DataFrame df with a column 'Date' that contains timestamps, write a Python\n",
    "function to select all rows where the date is between '2023-01-01' and '2023-01-31'."
   ]
  },
  {
   "cell_type": "code",
   "execution_count": 9,
   "id": "418ce733-0cae-4d75-9fae-76d79e10a825",
   "metadata": {},
   "outputs": [],
   "source": [
    "# You can use boolean indexing in pandas to select all rows where the date is between '2023-01-01' and '2023-01-31'. \n",
    "# Here's an example Python function that returns a new DataFrame containing only the selected rows:\n",
    "\n",
    "\n",
    "import pandas as pd\n",
    "\n",
    "def select_january_rows(df):\n",
    "    # convert 'Date' column to datetime format\n",
    "    df['Date'] = pd.to_datetime(df['Date'])\n",
    "    # create a boolean mask for rows with dates in January\n",
    "    mask = (df['Date'] >= '2023-01-01') & (df['Date'] <= '2023-01-31')\n",
    "    # select the rows that meet the mask criteria\n",
    "    january_df = df.loc[mask]\n",
    "    return january_df\n",
    "\n",
    "# In this function, we first convert the 'Date' column to datetime format using the pd.to_datetime() function. \n",
    "# Then, we create a boolean mask for rows with dates in January using the >= and <= operators. We apply the mask \n",
    "# to the DataFrame using the loc method and return the resulting DataFrame that contains only the selected rows."
   ]
  },
  {
   "cell_type": "code",
   "execution_count": null,
   "id": "2c548d50-29b6-4be7-977a-9a590dae0308",
   "metadata": {},
   "outputs": [],
   "source": [
    "Q13. To use the basic functions of pandas, what is the first and foremost necessary library that needs to\n",
    "be imported?"
   ]
  },
  {
   "cell_type": "code",
   "execution_count": null,
   "id": "24752195-e4b9-489a-a255-da238c5e1a8f",
   "metadata": {},
   "outputs": [],
   "source": [
    "# The first and foremost necessary library that needs to be imported to use the basic functions of pandas is the \n",
    "# pandas library itself. It is conventionally imported with the alias pd to make the code shorter and more readable.\n",
    "# Here's an example import statement:\n",
    "\n",
    "\n",
    "import pandas as pd\n",
    "\n",
    "# With this import statement, you can use all the basic functions of pandas such as reading and writing data in various \n",
    "# formats, manipulating and analyzing data using DataFrames and Series, and many more."
   ]
  }
 ],
 "metadata": {
  "kernelspec": {
   "display_name": "Python 3 (ipykernel)",
   "language": "python",
   "name": "python3"
  },
  "language_info": {
   "codemirror_mode": {
    "name": "ipython",
    "version": 3
   },
   "file_extension": ".py",
   "mimetype": "text/x-python",
   "name": "python",
   "nbconvert_exporter": "python",
   "pygments_lexer": "ipython3",
   "version": "3.10.8"
  }
 },
 "nbformat": 4,
 "nbformat_minor": 5
}
