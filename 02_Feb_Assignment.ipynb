{
 "cells": [
  {
   "cell_type": "code",
   "execution_count": 1,
   "id": "8ddee412-11c9-456a-96d8-7d6070a88dab",
   "metadata": {},
   "outputs": [],
   "source": [
    "# Question - 1\n",
    "# Explain with an example each when to use a for loop and a while loop."
   ]
  },
  {
   "cell_type": "code",
   "execution_count": 2,
   "id": "9a5ffbe5-8343-4b93-b919-90b53acec196",
   "metadata": {},
   "outputs": [],
   "source": [
    "# Python For Loop can be used to iterate a set of statements once for each item of a sequence or collection. The sequence or collection could be Range, List, Tuple, Dictionary, Set or a String. In this tutorial, we will learn how to implement for loop for each of the above said collections."
   ]
  },
  {
   "cell_type": "code",
   "execution_count": 3,
   "id": "aaeab553-479c-481b-ad56-b8a3699dba51",
   "metadata": {},
   "outputs": [
    {
     "name": "stdout",
     "output_type": "stream",
     "text": [
      "25\n",
      "26\n",
      "27\n",
      "28\n"
     ]
    }
   ],
   "source": [
    "for i in range(25,29):\n",
    "\tprint(i)"
   ]
  },
  {
   "cell_type": "code",
   "execution_count": 4,
   "id": "3e4ac838-1fbc-4635-96a3-ad85b5ad3efd",
   "metadata": {},
   "outputs": [],
   "source": [
    "# Python While Loop is used to execute a set of statements repeatedly based on the output of a boolean expression. While Loop is one of the looping statements in Python. In this tutorial, we learn how to write a while loop in Python program, and some of the scenarios where while loop is used, with the help of examples."
   ]
  },
  {
   "cell_type": "code",
   "execution_count": 5,
   "id": "6eb834b6-2bf2-482c-8e69-6151454923ce",
   "metadata": {},
   "outputs": [
    {
     "name": "stdout",
     "output_type": "stream",
     "text": [
      "1\n",
      "2\n",
      "3\n",
      "4\n"
     ]
    }
   ],
   "source": [
    "n = 4\n",
    "i = 1\n",
    "while i <= n:\n",
    "    print(i)\n",
    "    i+=1"
   ]
  },
  {
   "cell_type": "code",
   "execution_count": 6,
   "id": "cbf648c7-e52b-4ed7-9160-661c72cde331",
   "metadata": {},
   "outputs": [],
   "source": [
    "# Question - 2"
   ]
  },
  {
   "cell_type": "code",
   "execution_count": 7,
   "id": "eececf5b-fdad-4269-ad97-1629e3535343",
   "metadata": {},
   "outputs": [],
   "source": [
    "# Write a python program to print the sum and product of the first 10 natural number using for and while loop."
   ]
  },
  {
   "cell_type": "code",
   "execution_count": 9,
   "id": "7c2b8c72-b13e-431c-9da1-2dd804b4b503",
   "metadata": {},
   "outputs": [
    {
     "name": "stdin",
     "output_type": "stream",
     "text": [
      "Enter a number:  10\n"
     ]
    },
    {
     "name": "stdout",
     "output_type": "stream",
     "text": [
      "55\n"
     ]
    }
   ],
   "source": [
    "n = int(input(\"Enter a number: \"))\n",
    "sum = 0\n",
    "for i in range(n+1):\n",
    "    sum += i\n",
    "print(sum)"
   ]
  },
  {
   "cell_type": "code",
   "execution_count": 10,
   "id": "09af2aeb-e4a3-466f-9f18-ce34ccd25bea",
   "metadata": {},
   "outputs": [
    {
     "name": "stdout",
     "output_type": "stream",
     "text": [
      "362880\n"
     ]
    }
   ],
   "source": [
    "prod = 1\n",
    "for i in range(1,10):\n",
    "    prod = prod * i\n",
    "print(prod)"
   ]
  },
  {
   "cell_type": "code",
   "execution_count": 2,
   "id": "c5d77ab7-13db-4653-af44-6ebf5da27e4c",
   "metadata": {},
   "outputs": [],
   "source": [
    "# Create a python program to compute the electricity bill for a hpusehold. \n",
    "# The per-unit charges in rupees are as follows: for the first 100 units, the user will be charged rs. 4.5 per-unit, For the next 100 units, the user will charged rs. 6 per-units, and for the next 100 units, the user will charged rs. 10 per-unit, after 300 units and above the user will be charged rs. 20 per-unit.\n",
    "\n",
    "# You are required to take the units of electricity consumed in a month from the user as input.\n",
    "\n",
    "# Your program must pass the test case : when the unit of electricity consumed by the user in a month is 310, the total electricity bill is 2250."
   ]
  },
  {
   "cell_type": "code",
   "execution_count": 3,
   "id": "086405da-7396-455c-9923-8390f818dfe9",
   "metadata": {},
   "outputs": [
    {
     "name": "stdin",
     "output_type": "stream",
     "text": [
      "Enter the units of electricity consumed in a month:  310\n"
     ]
    },
    {
     "name": "stdout",
     "output_type": "stream",
     "text": [
      "The total electricity bill is: 2250.0 rupees\n"
     ]
    }
   ],
   "source": [
    "units = int(input(\"Enter the units of electricity consumed in a month: \"))\n",
    "\n",
    "if units <= 100:\n",
    "    charges = units * 4.5\n",
    "elif units <= 200:\n",
    "    charges = 100 * 4.5 + (units - 100) * 6\n",
    "elif units <= 300:\n",
    "    charges = 100 * 4.5 + 100 * 6 + (units - 200) * 10\n",
    "else:\n",
    "    charges = 100 * 4.5 + 100 * 6 + 100 * 10 + (units - 300) * 20\n",
    "\n",
    "print(\"The total electricity bill is:\", charges, \"rupees\")"
   ]
  },
  {
   "cell_type": "code",
   "execution_count": 11,
   "id": "f72ffbe4-258b-42e2-abf8-42a8c18fcc58",
   "metadata": {},
   "outputs": [],
   "source": [
    "# Question - 4\n",
    "# Create a list of number from 1 to 100. Use for loop and while loop to calculate the cube of each number and if the cube of each number and if the cube of that number is divided by 4 or 5 then append that number in a list and print that list."
   ]
  },
  {
   "cell_type": "code",
   "execution_count": 14,
   "id": "9fdd07e6-07bd-472e-9ba3-cae141dc7cef",
   "metadata": {},
   "outputs": [
    {
     "name": "stdout",
     "output_type": "stream",
     "text": [
      "[2, 4, 5, 6, 8, 10, 12, 14, 15, 16, 18, 20, 22, 24, 25, 26, 28, 30, 32, 34, 35, 36, 38, 40, 42, 44, 45, 46, 48, 50, 52, 54, 55, 56, 58, 60, 62, 64, 65, 66, 68, 70, 72, 74, 75, 76, 78, 80, 82, 84, 85, 86, 88, 90, 92, 94, 95, 96, 98, 100]\n"
     ]
    }
   ],
   "source": [
    "cubes = []\n",
    "for i in range(1, 101):\n",
    "    cube = i ** 3\n",
    "    if cube % 4 == 0 or cube % 5 == 0:\n",
    "        cubes.append(i)\n",
    "print(cubes)"
   ]
  },
  {
   "cell_type": "code",
   "execution_count": 15,
   "id": "f2c69bb6-3039-4b80-80ca-d24239e831d1",
   "metadata": {},
   "outputs": [
    {
     "name": "stdout",
     "output_type": "stream",
     "text": [
      "[2, 4, 5, 6, 8, 10, 12, 14, 15, 16, 18, 20, 22, 24, 25, 26, 28, 30, 32, 34, 35, 36, 38, 40, 42, 44, 45, 46, 48, 50, 52, 54, 55, 56, 58, 60, 62, 64, 65, 66, 68, 70, 72, 74, 75, 76, 78, 80, 82, 84, 85, 86, 88, 90, 92, 94, 95, 96, 98, 100]\n"
     ]
    }
   ],
   "source": [
    "cubes = []\n",
    "i = 1\n",
    "while i <= 100:\n",
    "    cube = i ** 3\n",
    "    if cube % 4 == 0 or cube % 5 == 0:\n",
    "        cubes.append(i)\n",
    "    i += 1\n",
    "print(cubes)"
   ]
  },
  {
   "cell_type": "code",
   "execution_count": 16,
   "id": "2d16c111-8eed-4f5f-a67b-f414b47a9d6d",
   "metadata": {},
   "outputs": [],
   "source": [
    "# Question - 5\n",
    "# Write a program to filter count vowels in the below - given string.\n",
    "# string = \"I want to become a data scientist\"."
   ]
  },
  {
   "cell_type": "code",
   "execution_count": 19,
   "id": "19f991d9-9592-4747-b4e2-1140cb5a2d02",
   "metadata": {},
   "outputs": [
    {
     "name": "stdout",
     "output_type": "stream",
     "text": [
      "The number of vowels is :  12\n"
     ]
    }
   ],
   "source": [
    "string = \"I want to become a data scientist\"\n",
    "\n",
    "vowels = \"aeiouAEIOU\"\n",
    "vowels_count = 0\n",
    "\n",
    "for char in string:\n",
    "    if char in vowels:\n",
    "        vowels_count += 1\n",
    "print(\"The number of vowels is : \", vowels_count)"
   ]
  }
 ],
 "metadata": {
  "kernelspec": {
   "display_name": "Python 3 (ipykernel)",
   "language": "python",
   "name": "python3"
  },
  "language_info": {
   "codemirror_mode": {
    "name": "ipython",
    "version": 3
   },
   "file_extension": ".py",
   "mimetype": "text/x-python",
   "name": "python",
   "nbconvert_exporter": "python",
   "pygments_lexer": "ipython3",
   "version": "3.10.8"
  }
 },
 "nbformat": 4,
 "nbformat_minor": 5
}
