{
 "cells": [
  {
   "cell_type": "code",
   "execution_count": 1,
   "id": "73f25a14-dce2-4df1-8089-1472bce3d5c3",
   "metadata": {},
   "outputs": [],
   "source": [
    "# Q1. Explain why we have to use the Exception class while creating a Custom Exception.\n",
    "# Note: Here Exception class refers to the base class for all the exceptions."
   ]
  },
  {
   "cell_type": "code",
   "execution_count": null,
   "id": "fae905f3-1d7a-43c9-a184-32c619b4368e",
   "metadata": {},
   "outputs": [],
   "source": [
    "When creating a custom exception in Python, it is recommended to inherit from the built-in Exception class, \n",
    "which is the base class for all exceptions in Python. Here are some reasons why:\n",
    "\n",
    "Standardization: By inheriting from the Exception class, you follow the standard convention of defining\n",
    "exceptions in Python, making it easier for other developers to understand your code.\n",
    "\n",
    "Functionality: The Exception class provides a set of attributes and methods that are useful for working \n",
    "with exceptions. For example, the args attribute allows you to pass a custom message when raising the \n",
    "exception, and the __str__ method provides a string representation of the exception.\n",
    "\n",
    "Compatibility: Many Python libraries and frameworks rely on the Exception hierarchy to handle exceptions. \n",
    "By inheriting from the Exception class, your custom exception will be compatible with these libraries and \n",
    "frameworks.\n",
    "\n",
    "Readability: Inheriting from the Exception class makes your code more readable and understandable. Other \n",
    "developers can easily recognize that your class is an exception and understand how to handle it.\n",
    "\n",
    "Overall, by inheriting from the Exception class when creating a custom exception, you follow standard \n",
    "conventions, provide useful functionality, ensure compatibility, and improve code readability."
   ]
  },
  {
   "cell_type": "code",
   "execution_count": 2,
   "id": "cd0f0c78-7cfe-42bd-b014-378d3562674d",
   "metadata": {},
   "outputs": [],
   "source": [
    "# Q2. Write a python program to print Python Exception Hierarchy."
   ]
  },
  {
   "cell_type": "code",
   "execution_count": null,
   "id": "98f479c3-8ce1-481b-9b37-60ca5ec63592",
   "metadata": {},
   "outputs": [],
   "source": [
    "# Sure, here's a Python program that prints the Python Exception Hierarchy:\n",
    "\n",
    "\n",
    "def print_exception_hierarchy(exception_class, indent=0):\n",
    "    print(\" \" * indent + str(exception_class.__name__))\n",
    "    for subclass in exception_class.__subclasses__():\n",
    "        print_exception_hierarchy(subclass, indent+4)\n",
    "\n",
    "print_exception_hierarchy(BaseException)\n",
    "\n",
    "# This program defines a recursive function called print_exception_hierarchy that takes an exception class \n",
    "# and an indentation level as arguments. It prints the name of the exception class, indented by the specified \n",
    "# number of spaces, and then recursively calls itself on all subclasses of the exception class, with the \n",
    "# indentation level increased by 4.\n",
    "\n",
    "# At the bottom of the program, we call print_exception_hierarchy with BaseException as the argument, which \n",
    "# is the base class for all exceptions in Python. This will print the entire exception hierarchy, starting \n",
    "# from the BaseException class and traversing through all subclasses."
   ]
  },
  {
   "cell_type": "code",
   "execution_count": 3,
   "id": "f8830c90-0e59-49f2-8e68-929973c6f81d",
   "metadata": {},
   "outputs": [],
   "source": [
    "# Q3. What errors are defined in the ArithmeticError class? Explain any two with an example."
   ]
  },
  {
   "cell_type": "code",
   "execution_count": null,
   "id": "d79462cb-eddb-4a55-a799-e9dd9caf1b06",
   "metadata": {},
   "outputs": [],
   "source": [
    "# The ArithmeticError class is a built-in exception class in Python that is raised when an arithmetic\n",
    "# operation fails. It is a subclass of the Exception class and is itself the parent class for several other \n",
    "# exception classes, including:\n",
    "\n",
    "# FloatingPointError: Raised when a floating-point arithmetic operation fails.\n",
    "# ZeroDivisionError: Raised when attempting to divide by zero.\n",
    "# OverflowError: Raised when an arithmetic operation exceeds the maximum representable value.\n",
    "# Here are two examples of ArithmeticError subclasses:\n",
    "\n",
    "# ZeroDivisionError: This exception is raised when attempting to divide by zero. For example:\n",
    "\n",
    "x = 10\n",
    "y = 0\n",
    "z = x / y   # Raises ZeroDivisionError\n",
    "\n",
    "# In this example, the attempt to divide x by y will raise a ZeroDivisionError.\n",
    "\n",
    "# FloatingPointError: This exception is raised when a floating-point arithmetic operation fails. For example:\n",
    "\n",
    "import math\n",
    "x = math.sqrt(-1)   # Raises FloatingPointError\n",
    "\n",
    "# In this example, we attempt to calculate the square root of a negative number, which is not defined for real\n",
    "# numbers. This will raise a FloatingPointError.\n",
    "\n",
    "# Overall, the ArithmeticError class and its subclasses are useful for catching and handling errors that arise\n",
    "# during arithmetic operations in Python."
   ]
  },
  {
   "cell_type": "code",
   "execution_count": 4,
   "id": "cce1ebb3-8157-4b9e-856a-d655a1d65562",
   "metadata": {},
   "outputs": [],
   "source": [
    "# Q4. Why LookupError class is used? Explain with an example KeyError and IndexError."
   ]
  },
  {
   "cell_type": "code",
   "execution_count": null,
   "id": "84083865-e78e-4aee-9f99-53c110820fb3",
   "metadata": {},
   "outputs": [],
   "source": [
    "# The LookupError class is a built-in exception class in Python that is raised when a key or index lookup \n",
    "# fails. It is a parent class for several other exception classes, including KeyError and IndexError.\n",
    "\n",
    "# KeyError and IndexError are subclasses of LookupError that are commonly used in Python when dealing with \n",
    "# dictionaries and sequences, respectively.\n",
    "\n",
    "# KeyError is raised when trying to access a non-existent key in a dictionary. Here's an example:\n",
    "\n",
    "d = {\"a\": 1, \"b\": 2, \"c\": 3}\n",
    "value = d[\"d\"]  # Raises KeyError\n",
    "\n",
    "# In this example, we attempt to access the key \"d\" in the dictionary d, but that key does not exist, so a \n",
    "# KeyError is raised.\n",
    "\n",
    "# IndexError is raised when trying to access an invalid index in a sequence, such as a list or a tuple. \n",
    "# Here's an example:\n",
    "\n",
    "\n",
    "lst = [1, 2, 3]\n",
    "value = lst[3]  # Raises IndexError\n",
    "\n",
    "# In this example, we attempt to access the fourth element of the list lst, which does not exist, so an\n",
    "# IndexError is raised.\n",
    "\n",
    "# Both KeyError and IndexError are subclasses of LookupError because they represent situations where a lookup \n",
    "# operation has failed due to an invalid key or index. By using LookupError as a catch-all exception for these\n",
    "# types of errors, you can write more generic code that can handle errors related to key and index lookups in\n",
    "# a consistent way."
   ]
  },
  {
   "cell_type": "code",
   "execution_count": 5,
   "id": "99569f5a-2c9b-47b4-9235-627cfc1d2ffd",
   "metadata": {},
   "outputs": [],
   "source": [
    "# Q5. Explain ImportError. What is ModuleNotFoundError?"
   ]
  },
  {
   "cell_type": "code",
   "execution_count": null,
   "id": "289d822c-11be-4155-bb4f-b242d3afb2db",
   "metadata": {},
   "outputs": [],
   "source": [
    "# ImportError is a built-in exception class in Python that is raised when an import statement fails to find\n",
    "# the specified module. This can happen for several reasons, including:\n",
    "\n",
    "# The module does not exist.\n",
    "# The module exists but cannot be found in the current search path.\n",
    "# The module exists but contains errors that prevent it from being imported.\n",
    "# Here's an example of an ImportError:\n",
    "\n",
    "\n",
    "import non_existent_module  # Raises ImportError\n",
    "\n",
    "# In this example, we attempt to import a module called non_existent_module, which does not exist, so an \n",
    "# ImportError is raised.\n",
    "\n",
    "# ModuleNotFoundError is a subclass of ImportError that was introduced in Python 3.6. It is raised when an \n",
    "# import statement fails to find the specified module, similar to ImportError. The main difference is that \n",
    "# ModuleNotFoundError provides a more informative error message that includes the name of the module that \n",
    "# could not be found.\n",
    "\n",
    "# Here's an example of a ModuleNotFoundError:\n",
    "\n",
    "\n",
    "import non_existent_module  # Raises ModuleNotFoundError\n",
    "\n",
    "# In this example, we attempt to import a module called non_existent_module, which does not exist, so a \n",
    "# ModuleNotFoundError is raised. The error message will include the name of the module that could not be \n",
    "# found, which can be helpful in diagnosing the error.\n",
    "\n",
    "# Overall, ImportError and ModuleNotFoundError are useful exception classes in Python that help to handle \n",
    "# errors related to importing modules."
   ]
  },
  {
   "cell_type": "code",
   "execution_count": 6,
   "id": "ac1319eb-b4d6-44ae-9598-73e1df96f1db",
   "metadata": {},
   "outputs": [],
   "source": [
    "# Q6. List down some best practices for exception handling in python."
   ]
  },
  {
   "cell_type": "code",
   "execution_count": null,
   "id": "8532ac28-0d81-4075-91a1-85b390c6deed",
   "metadata": {},
   "outputs": [],
   "source": [
    "Here are some best practices for exception handling in Python:\n",
    "\n",
    "Use specific exception classes: Use specific exception classes whenever possible to catch only the \n",
    "exceptions that you want to handle. Catching all exceptions with a generic Exception class can lead to \n",
    "unintended consequences and make it harder to debug problems.\n",
    "\n",
    "Handle exceptions gracefully: When an exception is raised, handle it gracefully by displaying an informative\n",
    "error message, logging the error, or taking some other appropriate action. Don't just let the program crash \n",
    "with a stack trace.\n",
    "\n",
    "Avoid catching exceptions you can't handle: If you can't handle an exception, don't catch it. Let it \n",
    "propagate up the call stack to a higher-level handler or the default exception handler, which can handle it \n",
    "appropriately.\n",
    "\n",
    "Use try/except blocks judiciously: Use try/except blocks only around the code that is likely to raise an \n",
    "exception, not the entire program. This will make it easier to debug problems and avoid catching exceptions\n",
    "you don't want to handle.\n",
    "\n",
    "Don't use exceptions for flow control: Exceptions should be used for exceptional conditions, not for regular\n",
    "flow control. Using exceptions to control program flow can make code harder to read, maintain, and debug.\n",
    "\n",
    "Be aware of performance implications: Catching and handling exceptions can be expensive in terms of \n",
    "performance, especially in tight loops or high-traffic code paths. Be aware of the performance implications\n",
    "and use exception handling judiciously.\n",
    "\n",
    "Use the finally block for cleanup: Use the finally block to perform cleanup tasks that need to be done \n",
    "regardless of whether an exception is raised. This can include closing files, releasing resources, or other\n",
    "tasks.\n",
    "\n",
    "By following these best practices, you can write more robust, maintainable, and error-free Python code that\n",
    "handles exceptions gracefully and avoids unexpected behavior."
   ]
  }
 ],
 "metadata": {
  "kernelspec": {
   "display_name": "Python 3 (ipykernel)",
   "language": "python",
   "name": "python3"
  },
  "language_info": {
   "codemirror_mode": {
    "name": "ipython",
    "version": 3
   },
   "file_extension": ".py",
   "mimetype": "text/x-python",
   "name": "python",
   "nbconvert_exporter": "python",
   "pygments_lexer": "ipython3",
   "version": "3.10.8"
  }
 },
 "nbformat": 4,
 "nbformat_minor": 5
}
