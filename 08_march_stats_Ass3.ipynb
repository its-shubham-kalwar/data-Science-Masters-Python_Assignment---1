{
 "cells": [
  {
   "cell_type": "code",
   "execution_count": 1,
   "id": "e5e8b0b9-bff3-477b-a498-ea6da2d7de6f",
   "metadata": {},
   "outputs": [],
   "source": [
    "# Q1. What is the probability function density?"
   ]
  },
  {
   "cell_type": "code",
   "execution_count": null,
   "id": "96e238f4-e254-4b4c-b0f3-3aa10f95f522",
   "metadata": {},
   "outputs": [],
   "source": [
    "The probability density function (PDF) is a mathematical function that describes the probability distribution\n",
    "of a continuous random variable. The PDF is used to calculate the probability of a random variable falling \n",
    "within a particular range of values, and is defined as the derivative of the cumulative distribution function (CDF).\n",
    "\n",
    "In other words, the PDF is a function that describes the relative likelihood of observing a particular value of \n",
    "a continuous random variable. The area under the PDF curve over a given interval represents the probability that \n",
    "the random variable falls within that interval.\n",
    "\n",
    "For example, the PDF of a standard normal distribution is given by the equation:\n",
    "\n",
    "f(x) = (1 / √(2π)) * e^(-x^2/2)\n",
    "\n",
    "where x is the random variable, and e is the mathematical constant. This function describes the relative likelihood \n",
    "of observing different values of the standard normal distribution. By integrating the PDF over a specific interval,\n",
    "you can calculate the probability that the random variable falls within that interval."
   ]
  },
  {
   "cell_type": "code",
   "execution_count": 2,
   "id": "388fa680-133d-4bc9-8816-c76fc3b5d361",
   "metadata": {},
   "outputs": [],
   "source": [
    "# Q2. What are the types of Probability distribution?"
   ]
  },
  {
   "cell_type": "code",
   "execution_count": null,
   "id": "5e61a6a8-0194-4425-8a6f-13663cfae1df",
   "metadata": {},
   "outputs": [],
   "source": [
    "There are several types of probability distributions, including:\n",
    "\n",
    "Discrete Probability Distribution: A probability distribution for a discrete random variable, which takes on a \n",
    "countable number of values. Examples include the Binomial distribution, Poisson distribution, and Geometric distribution.\n",
    "\n",
    "Continuous Probability Distribution: A probability distribution for a continuous random variable, which can take \n",
    "on any value within a given range. Examples include the Normal distribution, Exponential distribution, and Uniform\n",
    "distribution.\n",
    "\n",
    "Bernoulli Distribution: A distribution representing the outcome of a single experiment that can result in success \n",
    "or failure, with a probability of success denoted by p.\n",
    "\n",
    "Binomial Distribution: A distribution representing the number of successes in a fixed number of independent trials,\n",
    "with a fixed probability of success denoted by p.\n",
    "\n",
    "Poisson Distribution: A distribution representing the number of events occurring in a fixed interval of time or space,\n",
    "with an average rate of occurrence denoted by λ.\n",
    "\n",
    "Normal Distribution: A continuous distribution with a bell-shaped curve, characterized by its mean and standard deviation.\n",
    "\n",
    "Exponential Distribution: A distribution representing the time between events in a Poisson process, with a rate \n",
    "parameter denoted by λ.\n",
    "\n",
    "Uniform Distribution: A continuous distribution where all values within a given range are equally likely to occur.\n",
    "\n",
    "These are just a few examples of the many types of probability distributions that exist. Each type of distribution \n",
    "has its own characteristics and properties, which can be useful for modeling different types of real-world phenomena."
   ]
  },
  {
   "cell_type": "code",
   "execution_count": 3,
   "id": "7604dd84-adf1-43b1-8cf1-74b1cb509b98",
   "metadata": {},
   "outputs": [],
   "source": [
    "# Q3. Write a Python function to calculate the probability density function of a normal distribution with\n",
    "# given mean and standard deviation at a given point."
   ]
  },
  {
   "cell_type": "code",
   "execution_count": 2,
   "id": "b66164b0-b920-4a45-a63e-b05c134c23dc",
   "metadata": {},
   "outputs": [],
   "source": [
    "import math\n",
    "\n",
    "def normal_pdf(x, mean, std_dev):\n",
    "    \"\"\"\n",
    "    Returns the probability density function (PDF) of a normal distribution with\n",
    "    the given mean and standard deviation at the given point x.\n",
    "    \"\"\"\n",
    "    coefficient = 1.0 / (std_dev * math.sqrt(2 * math.pi))\n",
    "    exponent = -((x - mean) ** 2) / (2 * std_dev ** 2)\n",
    "    pdf = coefficient * math.exp(exponent)\n",
    "    return pdf"
   ]
  },
  {
   "cell_type": "code",
   "execution_count": 3,
   "id": "f81d99ab-d79e-46f3-9cc4-b7616a83f365",
   "metadata": {},
   "outputs": [
    {
     "name": "stdout",
     "output_type": "stream",
     "text": [
      "0.12951759566589174\n"
     ]
    }
   ],
   "source": [
    "mean = 0\n",
    "std_dev = 1\n",
    "x = 1.5\n",
    "pdf = normal_pdf(x, mean, std_dev)\n",
    "print(pdf)\n"
   ]
  },
  {
   "cell_type": "code",
   "execution_count": 4,
   "id": "4a4ce096-9649-41e3-95cd-547df38c4a33",
   "metadata": {},
   "outputs": [],
   "source": [
    "# Q4. What are the properties of Binomial distribution? Give two examples of events where binomial\n",
    "# distribution can be applied."
   ]
  },
  {
   "cell_type": "code",
   "execution_count": null,
   "id": "ab55e2b6-30b5-4ee9-a615-4335e3a25c6d",
   "metadata": {},
   "outputs": [],
   "source": [
    "The Binomial distribution is a probability distribution that describes the number of successes in a fixed number\n",
    "of independent trials, with a fixed probability of success denoted by p. Some of the properties of the Binomial \n",
    "distribution include:\n",
    "\n",
    "The probability of k successes in n trials is given by the formula: P(k) = (n choose k) * p^k * (1-p)^(n-k), \n",
    "where (n choose k) represents the number of ways to choose k items from a set of n distinct items.\n",
    "\n",
    "The mean of the Binomial distribution is given by the formula: μ = np, where n is the number of trials and p is \n",
    "the probability of success in each trial.\n",
    "\n",
    "The variance of the Binomial distribution is given by the formula: σ^2 = np(1-p), where n is the number of trials \n",
    "and p is the probability of success in each trial.\n",
    "\n",
    "The Binomial distribution approaches a Normal distribution as the number of trials n becomes very large.\n",
    "\n",
    "Here are two examples of events where Binomial distribution can be applied:\n",
    "\n",
    "Flipping a coin: The outcome of flipping a coin can be modeled using a Binomial distribution, where the probability \n",
    "of success (i.e., getting heads) is p=0.5, and the number of trials is the number of times the coin is flipped.\n",
    "\n",
    "Drug testing: In a clinical trial to test the effectiveness of a new drug, the number of patients who experience a\n",
    "positive outcome can be modeled using a Binomial distribution, where the probability of success is the probability \n",
    "that the drug is effective, and the number of trials is the number of patients enrolled in the trial."
   ]
  },
  {
   "cell_type": "code",
   "execution_count": 5,
   "id": "90a9fec4-0338-43df-8b88-2b890a13f581",
   "metadata": {},
   "outputs": [],
   "source": [
    "# Q5. Generate a random sample of size 1000 from a binomial distribution with probability of success 0.4\n",
    "# and plot a histogram of the results using matplotlib."
   ]
  },
  {
   "cell_type": "code",
   "execution_count": 7,
   "id": "10398a56-6aae-4376-8810-d4cf774f3d25",
   "metadata": {},
   "outputs": [
    {
     "data": {
      "image/png": "[encoded data removed]",
      "text/plain": [
       "<Figure size 640x480 with 1 Axes>"
      ]
     },
     "metadata": {},
     "output_type": "display_data"
    }
   ],
   "source": [
    "import numpy as np\n",
    "import matplotlib.pyplot as plt\n",
    "\n",
    "# Generate a random sample of size 1000 from a Binomial distribution with p=0.4\n",
    "n = 1000  # number of trials\n",
    "p = 0.4   # probability of success\n",
    "sample = np.random.binomial(n, p, size=1000)\n",
    "\n",
    "# Plot a histogram of the sample\n",
    "plt.hist(sample, bins=20, density=True)\n",
    "plt.xlabel('Number of Successes')\n",
    "plt.ylabel('Frequency')\n",
    "plt.title('Histogram of Binomial Distribution with p=0.4, n=1000')\n",
    "plt.show()\n"
   ]
  },
  {
   "cell_type": "code",
   "execution_count": 6,
   "id": "ad6f5529-0c2c-4323-a601-e699f357f281",
   "metadata": {},
   "outputs": [],
   "source": [
    "# Q6. Write a Python function to calculate the cumulative distribution function of a Poisson distribution\n",
    "# with given mean at a given point."
   ]
  },
  {
   "cell_type": "code",
   "execution_count": 9,
   "id": "9c007ec8-454b-4313-a08b-d2705f492f4c",
   "metadata": {},
   "outputs": [
    {
     "name": "stdout",
     "output_type": "stream",
     "text": [
      "0.2650259152973617\n"
     ]
    }
   ],
   "source": [
    "import math\n",
    "\n",
    "def poisson_cdf(x, mean):\n",
    "    \"\"\"\n",
    "    Returns the cumulative distribution function (CDF) of a Poisson distribution with\n",
    "    the given mean at the given point x.\n",
    "    \"\"\"\n",
    "    cdf = 0.0\n",
    "    for i in range(x+1):\n",
    "        cdf += math.exp(-mean) * mean**i / math.factorial(i)\n",
    "    return cdf\n",
    "\n",
    "\n",
    "mean = 5\n",
    "x = 3\n",
    "cdf = poisson_cdf(x, mean)\n",
    "print(cdf)\n"
   ]
  },
  {
   "cell_type": "code",
   "execution_count": 8,
   "id": "4ddc0e56-3310-4aaa-8d03-f74914bbf2b7",
   "metadata": {},
   "outputs": [],
   "source": [
    "# Q7. How Binomial distribution different from Poisson distribution?"
   ]
  },
  {
   "cell_type": "code",
   "execution_count": null,
   "id": "8431c8f8-8b59-4498-918e-20b8c332ac71",
   "metadata": {},
   "outputs": [],
   "source": [
    "The Binomial distribution and Poisson distribution are both discrete probability distributions that are commonly used \n",
    "to model the number of occurrences of a particular event in a given situation. However, there are some important\n",
    "differences between the two distributions:\n",
    "\n",
    "Definition: The Binomial distribution models the number of successes in a fixed number of independent trials, each with a\n",
    "fixed probability of success, denoted by p. The Poisson distribution, on the other hand, models the number of occurrences \n",
    "of a particular event in a fixed interval of time or space, where the probability of occurrence of the event is constant \n",
    "and the occurrences are independent.\n",
    "\n",
    "Parameters: The Binomial distribution has two parameters: n, the number of trials, and p, the probability of success in \n",
    "each trial. The Poisson distribution has one parameter: λ, the mean rate of occurrence of the event.\n",
    "\n",
    "Assumptions: The Binomial distribution assumes that the trials are independent and that the probability of success is \n",
    "constant across all trials. The Poisson distribution assumes that the occurrences are independent and that the mean rate \n",
    "of occurrence is constant over time or space.\n",
    "\n",
    "Shape: The Binomial distribution is bell-shaped, with the peak at the mean. The Poisson distribution is a skewed distribution \n",
    "with a long right tail.\n",
    "\n",
    "Limitations: The Binomial distribution is appropriate when the number of trials is small and the probability of success \n",
    "is not too small or too large. The Poisson distribution is appropriate when the mean rate of occurrence is small, and the\n",
    "events are rare.\n",
    "\n",
    "In summary, while both distributions model the number of occurrences of an event, the Binomial distribution models the number\n",
    "of successes in a fixed number of trials, while the Poisson distribution models the number of occurrences in a fixed interval\n",
    "of time or space."
   ]
  },
  {
   "cell_type": "code",
   "execution_count": 10,
   "id": "274b11df-7f64-4b03-a104-0f444473fdcd",
   "metadata": {},
   "outputs": [],
   "source": [
    "# Q8. Generate a random sample of size 1000 from a Poisson distribution with mean 5 and calculate the\n",
    "# sample mean and variance."
   ]
  },
  {
   "cell_type": "code",
   "execution_count": 11,
   "id": "a7c54ee2-73d1-4eb7-a1f4-8f737349c829",
   "metadata": {},
   "outputs": [
    {
     "name": "stdout",
     "output_type": "stream",
     "text": [
      "Sample mean: 4.919\n",
      "Sample variance: 5.030439\n"
     ]
    }
   ],
   "source": [
    "import numpy as np\n",
    "\n",
    "# set the random seed for reproducibility\n",
    "np.random.seed(123)\n",
    "\n",
    "# generate a random sample of size 1000 from a Poisson distribution with mean 5\n",
    "sample = np.random.poisson(5, 1000)\n",
    "\n",
    "# calculate the sample mean and variance\n",
    "sample_mean = np.mean(sample)\n",
    "sample_var = np.var(sample)\n",
    "\n",
    "print(\"Sample mean:\", sample_mean)\n",
    "print(\"Sample variance:\", sample_var)\n"
   ]
  },
  {
   "cell_type": "code",
   "execution_count": null,
   "id": "cdb0c8c2-cf3f-4ca5-8a57-60339025ea00",
   "metadata": {},
   "outputs": [],
   "source": [
    "# Q9. How mean and variance are related in Binomial distribution and Poisson distribution?"
   ]
  },
  {
   "cell_type": "code",
   "execution_count": null,
   "id": "fad70690-7d96-479e-9dab-f2e089f8f5e5",
   "metadata": {},
   "outputs": [],
   "source": [
    "In the Binomial distribution, the mean is equal to np, where n is the number of trials and p is the probability\n",
    "of success in each trial. The variance of the Binomial distribution is equal to np*(1-p).\n",
    "\n",
    "In the Poisson distribution, both the mean and the variance are equal to λ, the rate parameter of the distribution.\n",
    "This means that the mean and variance are equal in the Poisson distribution.\n",
    "\n",
    "One way to understand why the mean and variance are equal in the Poisson distribution is to consider the Poisson \n",
    "process that the distribution models. In a Poisson process, events occur randomly in time or space, with a constant \n",
    "rate of occurrence λ. The mean of the Poisson distribution represents the average number of events that occur in a \n",
    "fixed interval of time or space. The variance of the Poisson distribution represents the variation or randomness in \n",
    "the number of events that occur in the same interval. Since the Poisson process is memoryless, meaning that the rate\n",
    "of occurrence of events is constant and does not depend on past events, the mean and variance are equal.\n",
    "\n",
    "In the Binomial distribution, on the other hand, the variance is generally larger than the mean, as the probability of \n",
    "success in each trial can vary and there is a finite number of trials. The larger the number of trials, the closer the \n",
    "Binomial distribution becomes to the Poisson distribution, and the closer the variance gets to the mean."
   ]
  },
  {
   "cell_type": "code",
   "execution_count": 12,
   "id": "5bf43090-1684-4a15-b02c-0f33999a40bb",
   "metadata": {},
   "outputs": [],
   "source": [
    "# Q10. In normal distribution with respect to mean position, where does the least frequent data appear?"
   ]
  },
  {
   "cell_type": "code",
   "execution_count": null,
   "id": "a8cfc89a-8596-40bc-8897-f103fe12c3a4",
   "metadata": {},
   "outputs": [],
   "source": [
    "In a normal distribution, the least frequent data appears in the tails, farthest away from the mean. \n",
    "The normal distribution is symmetric around the mean, so the same proportion of data appears in the left and \n",
    "right tails. As we move away from the mean in either direction, the density of the distribution decreases rapidly, \n",
    "so the data in the tails are less frequent than the data around the mean.\n",
    "\n",
    "For example, in a standard normal distribution (with mean = 0 and standard deviation = 1), the least frequent data appear\n",
    "at the tails beyond about ±2.5 standard deviations from the mean. Only about 0.6% of the data fall in each tail beyond this point."
   ]
  }
 ],
 "metadata": {
  "kernelspec": {
   "display_name": "Python 3 (ipykernel)",
   "language": "python",
   "name": "python3"
  },
  "language_info": {
   "codemirror_mode": {
    "name": "ipython",
    "version": 3
   },
   "file_extension": ".py",
   "mimetype": "text/x-python",
   "name": "python",
   "nbconvert_exporter": "python",
   "pygments_lexer": "ipython3",
   "version": "3.10.8"
  }
 },
 "nbformat": 4,
 "nbformat_minor": 5
}
