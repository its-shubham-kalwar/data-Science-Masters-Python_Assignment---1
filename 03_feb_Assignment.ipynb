{
 "cells": [
  {
   "cell_type": "code",
   "execution_count": 2,
   "id": "c854b4bd-122e-4af6-bc2a-4a97022f9012",
   "metadata": {},
   "outputs": [],
   "source": [
    "# Question - 1\n",
    "# Which keyword is used to create a function? Create a function to return a list of odd numbers in the range of 1 to 25."
   ]
  },
  {
   "cell_type": "code",
   "execution_count": null,
   "id": "75f41ab2-426c-444d-8be4-1c1deb66c176",
   "metadata": {},
   "outputs": [],
   "source": [
    "# In most programming languages, the keyword used to create a function is \"function\". For example,In Python, you would use the \"def\" keyword:\n",
    "\n",
    "def functionName(parameter1, parameter2, ...):\n",
    "   # function body\n",
    "   # statements to be executed"
   ]
  },
  {
   "cell_type": "code",
   "execution_count": 6,
   "id": "833cb66c-5dfc-4da3-974c-b10d99a6bcf8",
   "metadata": {},
   "outputs": [],
   "source": [
    "def get_odd_numbers():\n",
    "    odd_numbers = []\n",
    "    for num in range(1, 26):\n",
    "        if num % 2 != 0:\n",
    "            odd_numbers.append(num)\n",
    "    return odd_numbers"
   ]
  },
  {
   "cell_type": "code",
   "execution_count": 7,
   "id": "c48f78a7-4c0d-485f-bbd7-20ca0242245e",
   "metadata": {},
   "outputs": [
    {
     "data": {
      "text/plain": [
       "[1, 3, 5, 7, 9, 11, 13, 15, 17, 19, 21, 23, 25]"
      ]
     },
     "execution_count": 7,
     "metadata": {},
     "output_type": "execute_result"
    }
   ],
   "source": [
    "get_odd_numbers()"
   ]
  },
  {
   "cell_type": "code",
   "execution_count": 8,
   "id": "8c65928d-3cbb-4e51-af50-734a89e24755",
   "metadata": {},
   "outputs": [],
   "source": [
    "# Question - 2\n",
    "# Why *args and **kwargs is used in some functions? Create a function each for *args and **kwargs to demonstrate their use."
   ]
  },
  {
   "cell_type": "code",
   "execution_count": null,
   "id": "ea9df4e7-93ff-4b37-bd44-d361dbd29d7a",
   "metadata": {},
   "outputs": [],
   "source": [
    "*args and **kwargs are used in Python functions when the number of arguments that the function will accept is not known beforehand or when the function needs to accept a variable number of arguments. \n",
    "\n",
    "*args is used to pass a variable number of non-keyword arguments to a function. It allows a function to accept any number of positional arguments. The *args parameter is usually used when the number of arguments that the function will accept is not known beforehand. Inside the function, *args is treated as a tuple of arguments.\n",
    "\n",
    "Here is an example of a function that uses *args to print a variable number of arguments:\n",
    "\n",
    "def print_arguments(*args):\n",
    "    for arg in args:\n",
    "        print(arg)\n",
    "        \n",
    "This function takes any number of arguments and prints each argument on a new line.\n",
    "\n",
    "**kwargs is used to pass a variable number of keyword arguments to a function. It allows a function to accept any number of keyword arguments. The **kwargs parameter is usually used when the number of keyword arguments that the function will accept is not known beforehand. Inside the function, **kwargs is treated as a dictionary of arguments.\n",
    "\n",
    "Here is an example of a function that uses **kwargs to print a variable number of keyword arguments:\n",
    "    \n",
    "def print_kwargs(**kwargs):\n",
    "    for key, value in kwargs.items():\n",
    "        print(f\"{key} = {value}\")\n",
    "\n",
    "\n",
    "This function takes any number of keyword arguments and prints each key-value pair on a new line.\n",
    "\n",
    "Examples of calling these functions:\n",
    "    \n",
    "    \n",
    "print_arguments(1, 2, 3, 4, 5) # prints: 1 2 3 4 5\n",
    "\n",
    "print_kwargs(name=\"John\", age=30, city=\"New York\") # prints: name = John, age = 30, city = New York\n",
    "\n",
    "\n",
    "In both of these examples, we are passing a variable number of arguments to the function. \n",
    "The print_arguments() function takes any number of non-keyword arguments, while the print_kwargs() function takes any number of keyword arguments."
   ]
  },
  {
   "cell_type": "code",
   "execution_count": 9,
   "id": "ed7d8142-afb5-44f1-a9d3-e181e69f2729",
   "metadata": {},
   "outputs": [],
   "source": [
    "# Question - 3 \n",
    "# What is an iterator in python? Name the method used to initialise the iterator object and the method used for iteration.\n",
    "#Use these methods to print the first five elements of the given list [2, 4, 6, 8, 10, 12, 14, 16, 18, 20]."
   ]
  },
  {
   "cell_type": "code",
   "execution_count": null,
   "id": "2d3ff43e-2c04-4e7c-914a-cfdbced11480",
   "metadata": {},
   "outputs": [],
   "source": [
    "In Python, an iterator is an object that allows you to iterate over a collection of elements one at a time. It provides a way to access the elements of a collection sequentially without knowing the underlying implementation of the collection.\n",
    "\n",
    "In Python, the method used to initialize an iterator object is iter(), and the method used for iteration is next(). The iter() method takes an iterable object as an argument and returns an iterator object, while the next() method returns the next element in the iterator sequence.\n",
    "\n",
    "Here is an example of how to use iter() and next() to print the first five elements of the list [2, 4, 6, 8, 10, 12, 14, 16, 18, 20]:\n",
    "    \n",
    "    \n",
    "my_list = [2, 4, 6, 8, 10, 12, 14, 16, 18, 20]\n",
    "\n",
    "# initialize the iterator object\n",
    "my_iterator = iter(my_list)\n",
    "\n",
    "# use the next() method to iterate over the first five elements\n",
    "for i in range(5):\n",
    "    print(next(my_iterator))\n",
    "\n",
    "    \n",
    "The output of this code will be:\n",
    "    \n",
    "2\n",
    "4\n",
    "6\n",
    "8\n",
    "10\n",
    "\n",
    "\n",
    "In this example, we first initialize an iterator object my_iterator using the iter() method and passing in the list my_list. We then use a for loop to iterate over the first five elements of the iterator by calling the next() method inside the loop. Each time the next() method is called, it returns the next element in the iterator sequence."
   ]
  },
  {
   "cell_type": "code",
   "execution_count": 10,
   "id": "7a2d4e5e-88f5-4984-a866-13aeef8b96b1",
   "metadata": {},
   "outputs": [],
   "source": [
    "# Question - 4\n",
    "# What is a generator function in python? Why yield keyword is used? Give an example of a generator function."
   ]
  },
  {
   "cell_type": "code",
   "execution_count": null,
   "id": "a4543b90-fc24-452a-89d0-e7db0008255d",
   "metadata": {},
   "outputs": [],
   "source": [
    "In Python, a generator function is a special kind of function that returns an iterator object. Unlike regular functions, which return a single value and then terminate, generator functions can return multiple values one at a time, using the yield keyword.\n",
    "\n",
    "The yield keyword is used to return a value from a generator function and temporarily suspend the function's execution. When the generator's iterator object is next called, execution resumes where it left off, with all local variables and their values still intact. This allows the generator to continue where it left off, producing a series of values as it iterates through a loop or performs some other operation.\n",
    "\n",
    "Here is an example of a generator function that yields a sequence of numbers:\n",
    "\n",
    "\n",
    "def generate_numbers(n):\n",
    "    i = 0\n",
    "    while i < n:\n",
    "        yield i\n",
    "        i += 1\n",
    "\n",
    "        \n",
    "        \n",
    "This function takes a single argument n and generates a sequence of numbers from 0 to n-1. Each time the yield keyword is encountered, the function returns the current value of i and then suspends execution until the next call to the iterator object.\n",
    "\n",
    "We can use this generator function to create an iterator object and iterate over the sequence of numbers it generates:\n",
    "    \n",
    "    \n",
    "numbers = generate_numbers(5)\n",
    "for n in numbers:\n",
    "    print(n)\n",
    "\n",
    "    \n",
    "\n",
    "The output of this code will be:\n",
    "    \n",
    "0\n",
    "1\n",
    "2\n",
    "3\n",
    "4\n",
    "\n",
    "In this example, we first create an iterator object numbers by calling the generator function generate_numbers(5). We then use a for loop to iterate over the sequence of numbers generated by the iterator and print each value as it is produced.\n",
    "\n",
    "Using a generator function can be more memory-efficient than creating a list of values upfront, particularly when dealing with large datasets, as it generates values on the fly rather than storing them all in memory."
   ]
  },
  {
   "cell_type": "code",
   "execution_count": 11,
   "id": "d22410ea-7448-46ba-bf44-77ddf41d985d",
   "metadata": {},
   "outputs": [],
   "source": [
    "# Question - 5\n",
    "# Create a generator function for prime numbers less than 1000. Use the next() method to print the first 20 prime numbers."
   ]
  },
  {
   "cell_type": "code",
   "execution_count": null,
   "id": "a72f2532-192c-4635-82ec-db1afd6f56c9",
   "metadata": {},
   "outputs": [],
   "source": [
    "def primes():\n",
    "    # iterate over numbers from 2 to 1000\n",
    "    for num in range(2, 1000):\n",
    "        # check if the number is prime\n",
    "        for i in range(2, num):\n",
    "            if num % i == 0:\n",
    "                break\n",
    "        else:\n",
    "            yield num\n",
    "\n",
    "            \n",
    "This function generates prime numbers less than 1000 by checking each number from 2 to 1000 to see if it is prime. If a number is prime, it is yielded by the generator.\n",
    "\n",
    "We can use the next() method to print the first 20 prime numbers generated by this function:\n",
    "    \n",
    "    \n",
    "primes_gen = primes()\n",
    "\n",
    "# use next() method to print first 20 primes\n",
    "for i in range(20):\n",
    "    print(next(primes_gen))\n",
    "\n",
    "    \n",
    "The output of this code will be:\n",
    "    \n",
    "2\n",
    "3\n",
    "5\n",
    "7\n",
    "11\n",
    "13\n",
    "17\n",
    "19\n",
    "23\n",
    "29\n",
    "31\n",
    "37\n",
    "41\n",
    "43\n",
    "47\n",
    "53\n",
    "59\n",
    "61\n",
    "67\n",
    "71\n",
    "\n",
    "\n",
    "In this example, we first create an iterator object primes_gen by calling the generator function primes(). We then use a for loop and the next() method to iterate over the first 20 prime numbers generated by the iterator and print each value as it is produced."
   ]
  },
  {
   "cell_type": "code",
   "execution_count": 12,
   "id": "9b171da8-dd62-4859-b0de-076e73433548",
   "metadata": {},
   "outputs": [],
   "source": [
    "# Question - 6\n",
    "# Write a python program to print the first 10 Fibonacci numbers using a while loop."
   ]
  },
  {
   "cell_type": "code",
   "execution_count": 13,
   "id": "c1241303-50f5-48d7-9bc1-50735431ed46",
   "metadata": {},
   "outputs": [
    {
     "name": "stdout",
     "output_type": "stream",
     "text": [
      "0 1 1 2 3 5 8 13 21 34 "
     ]
    }
   ],
   "source": [
    "a, b = 0, 1\n",
    "count = 0\n",
    "\n",
    "while count < 10:\n",
    "    print(a, end=' ')\n",
    "    a, b = b, a + b\n",
    "    count += 1\n"
   ]
  },
  {
   "cell_type": "code",
   "execution_count": 14,
   "id": "e96fce68-1aba-4a3e-b687-49170c76c3a6",
   "metadata": {},
   "outputs": [],
   "source": [
    "# Question - 7\n",
    "# Write a List Comprehension to iterate through the given string: ‘pwskills’. \n",
    "# Expected output: ['p', 'w', 's', 'k', 'i', 'l', 'l', 's']"
   ]
  },
  {
   "cell_type": "code",
   "execution_count": 15,
   "id": "6b0e79ad-611b-4076-839e-5a67929db8f9",
   "metadata": {},
   "outputs": [
    {
     "name": "stdout",
     "output_type": "stream",
     "text": [
      "['p', 'w', 's', 'k', 'l', 'l', 's']\n"
     ]
    }
   ],
   "source": [
    "string = 'pwskills'\n",
    "consonants = [char for char in string if char not in 'aeiou']\n",
    "print(consonants)\n",
    "\n",
    "In this example, we use a List Comprehension to iterate over each character in the string string. Inside the comprehension, we use an if statement to check if the current character is a consonant (i.e., not a vowel). If the character is a consonant, we include it in the output list. If the character is a vowel, we skip it and move on to the next character.\n",
    "\n",
    "The output of this code will be:"
   ]
  },
  {
   "cell_type": "code",
   "execution_count": 16,
   "id": "8a75b0f9-228d-469a-a3fc-8a7133840748",
   "metadata": {},
   "outputs": [],
   "source": [
    "# Question - 8 \n",
    "# Write a python program to check whether a given number is Palindrome or not using a while loop."
   ]
  },
  {
   "cell_type": "code",
   "execution_count": 17,
   "id": "21cc7047-e351-4e14-a941-29ee5e895c6a",
   "metadata": {},
   "outputs": [
    {
     "name": "stdin",
     "output_type": "stream",
     "text": [
      "Enter a number:  121\n"
     ]
    },
    {
     "name": "stdout",
     "output_type": "stream",
     "text": [
      "121 is a palindrome\n"
     ]
    }
   ],
   "source": [
    "num = int(input(\"Enter a number: \"))\n",
    "temp = num\n",
    "reverse = 0\n",
    "\n",
    "while temp > 0:\n",
    "    remainder = temp % 10\n",
    "    reverse = (reverse * 10) + remainder\n",
    "    temp = temp // 10\n",
    "\n",
    "if num == reverse:\n",
    "    print(num, \"is a palindrome\")\n",
    "else:\n",
    "    print(num, \"is not a palindrome\")\n"
   ]
  },
  {
   "cell_type": "code",
   "execution_count": 18,
   "id": "9085915b-fc07-4a83-a56c-6af907df489c",
   "metadata": {},
   "outputs": [],
   "source": [
    "# Question - 9\n",
    "# Write a code to print odd numbers from 1 to 100 using list comprehension."
   ]
  },
  {
   "cell_type": "code",
   "execution_count": 19,
   "id": "1b96d7f4-f926-4fb2-afdb-e2c2aa19945f",
   "metadata": {},
   "outputs": [
    {
     "name": "stdout",
     "output_type": "stream",
     "text": [
      "[1, 3, 5, 7, 9, 11, 13, 15, 17, 19, 21, 23, 25, 27, 29, 31, 33, 35, 37, 39, 41, 43, 45, 47, 49, 51, 53, 55, 57, 59, 61, 63, 65, 67, 69, 71, 73, 75, 77, 79, 81, 83, 85, 87, 89, 91, 93, 95, 97, 99]\n"
     ]
    }
   ],
   "source": [
    "odd_numbers = [num for num in range(1, 101) if num % 2 != 0]\n",
    "print(odd_numbers)\n"
   ]
  }
 ],
 "metadata": {
  "kernelspec": {
   "display_name": "Python 3 (ipykernel)",
   "language": "python",
   "name": "python3"
  },
  "language_info": {
   "codemirror_mode": {
    "name": "ipython",
    "version": 3
   },
   "file_extension": ".py",
   "mimetype": "text/x-python",
   "name": "python",
   "nbconvert_exporter": "python",
   "pygments_lexer": "ipython3",
   "version": "3.10.8"
  }
 },
 "nbformat": 4,
 "nbformat_minor": 5
}
