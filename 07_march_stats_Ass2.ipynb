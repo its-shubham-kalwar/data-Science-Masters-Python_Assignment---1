{
 "cells": [
  {
   "cell_type": "code",
   "execution_count": 1,
   "id": "37efc36b-c7ef-4f2c-b697-e2a7060efb61",
   "metadata": {},
   "outputs": [],
   "source": [
    "# Q1. What are the three measures of central tendency?"
   ]
  },
  {
   "cell_type": "code",
   "execution_count": null,
   "id": "b294a24b-a661-44e4-a539-5a61903d2a92",
   "metadata": {},
   "outputs": [],
   "source": [
    "The three measures of central tendency are:\n",
    "\n",
    "Mean: The mean is the arithmetic average of a set of numbers. It is calculated by adding up all the values in \n",
    "the set and dividing the sum by the total number of values.\n",
    "\n",
    "Median: The median is the middle value in a set of numbers when they are arranged in order. If the set has an \n",
    "odd number of values, the median is the middle value. If the set has an even number of values, the median is \n",
    "the average of the two middle values.\n",
    "\n",
    "Mode: The mode is the value that appears most frequently in a set of numbers. If there are multiple values that \n",
    "occur with the same highest frequency, the set is said to have multiple modes. If no value appears more than once \n",
    "in the set, there is no mode."
   ]
  },
  {
   "cell_type": "code",
   "execution_count": 2,
   "id": "e94bdf7a-fecc-4e25-aa22-b59d20359124",
   "metadata": {},
   "outputs": [],
   "source": [
    "# Q2. What is the difference between the mean, median, and mode? How are they used to measure the\n",
    "# central tendency of a dataset?"
   ]
  },
  {
   "cell_type": "code",
   "execution_count": null,
   "id": "12a99c25-e44e-444b-9244-7a9a509ecfda",
   "metadata": {},
   "outputs": [],
   "source": [
    "The mean, median, and mode are three different measures of central tendency used to describe the typical \n",
    "or central value of a dataset.\n",
    "\n",
    "The mean is the arithmetic average of all the values in a dataset. It is calculated by adding up all the values \n",
    "in the dataset and then dividing by the total number of values. The mean can be affected by outliers, or extreme\n",
    "values that are much higher or lower than the other values in the dataset.\n",
    "\n",
    "The median is the middle value in a dataset when the values are arranged in order. If there are an odd number of\n",
    "values in the dataset, the median is simply the middle value. If there are an even number of values in the dataset, \n",
    "the median is the average of the two middle values. The median is useful in datasets where outliers are present \n",
    "because it is not affected by extreme values.\n",
    "\n",
    "The mode is the value that occurs most frequently in a dataset. It is useful for datasets where certain values \n",
    "occur more frequently than others. The mode can also be used to describe the shape of a distribution, as a dataset\n",
    "with a single mode is said to be unimodal, while a dataset with multiple modes is said to be bimodal or multimodal.\n",
    "\n",
    "Each of these measures of central tendency has its own strengths and weaknesses, and the appropriate measure to use \n",
    "depends on the type of data and the research question being addressed. In general, the mean is used for normally \n",
    "distributed data without outliers, while the median is used for skewed data or datasets with outliers. The mode is\n",
    "useful for categorical data or datasets with distinct peaks in the frequency distribution."
   ]
  },
  {
   "cell_type": "code",
   "execution_count": 3,
   "id": "34f5d954-714e-48fb-a440-424e35e461cf",
   "metadata": {},
   "outputs": [],
   "source": [
    "# Q3. Measure the three measures of central tendency for the given height data:\n",
    "# [178,177,176,177,178.2,178,175,179,180,175,178.9,176.2,177,172.5,178,176.5]"
   ]
  },
  {
   "cell_type": "code",
   "execution_count": null,
   "id": "de868c1d-a896-4d5a-af7d-ecfa7f3e82f5",
   "metadata": {},
   "outputs": [],
   "source": [
    "To calculate the three measures of central tendency for the given height data, we can use the following formulas:\n",
    "\n",
    "Mean = (sum of all values) / (number of values)\n",
    "Median = middle value of the sorted dataset\n",
    "Mode = most frequently occurring value in the dataset\n",
    "\n",
    "First, we need to sort the dataset in ascending order:\n",
    "\n",
    "[172.5, 175, 175, 176, 176.2, 176.5, 177, 177, 178, 178, 178, 178.2, 178.9, 179, 180]\n",
    "\n",
    "Mean = (172.5 + 175 + 175 + 176 + 176.2 + 176.5 + 177 + 177 + 178 + 178 + 178 + 178.2 + 178.9 + 179 + 180) / 15\n",
    "Mean = 176.8\n",
    "\n",
    "Median = middle value = 177\n",
    "\n",
    "Mode = 178 (since it appears most frequently)\n",
    "\n",
    "Therefore, the mean height is 176.8 cm, the median height is 177 cm, and the mode height is 178 cm for the given dataset."
   ]
  },
  {
   "cell_type": "code",
   "execution_count": 4,
   "id": "63e39149-97bf-40b9-8ca5-8381d84a12ca",
   "metadata": {},
   "outputs": [],
   "source": [
    "# Q4. Find the standard deviation for the given data:\n",
    "# [178,177,176,177,178.2,178,175,179,180,175,178.9,176.2,177,172.5,178,176.5]"
   ]
  },
  {
   "cell_type": "code",
   "execution_count": null,
   "id": "f6ac1e74-167f-40e3-a002-a46e7a1a323d",
   "metadata": {},
   "outputs": [],
   "source": [
    "To find the standard deviation, we first need to find the mean of the given data:\n",
    "\n",
    "Mean = (178 + 177 + 176 + 177 + 178.2 + 178 + 175 + 179 + 180 + 175 + 178.9 + 176.2 + 177 + 172.5 + 178 + 176.5) / 16\n",
    "= 1769.3 / 16\n",
    "= 110.58125\n",
    "\n",
    "Next, we calculate the variance:\n",
    "\n",
    "Variance = Σ(xi - x)^2 / (n - 1)\n",
    "\n",
    "where xi is the ith observation, x is the mean, and n is the sample size.\n",
    "\n",
    "Variance = [(178 - 110.58125)^2 + (177 - 110.58125)^2 + (176 - 110.58125)^2 + (177 - 110.58125)^2 + \n",
    "            (178.2 - 110.58125)^2 + (178 - 110.58125)^2 + (175 - 110.58125)^2 + (179 - 110.58125)^2 + \n",
    "            (180 - 110.58125)^2 + (175 - 110.58125)^2 + (178.9 - 110.58125)^2 + (176.2 - 110.58125)^2 + \n",
    "            (177 - 110.58125)^2 + (172.5 - 110.58125)^2 + (178 - 110.58125)^2 + (176.5 - 110.58125)^2] / (16 - 1)\n",
    "\n",
    "Variance = 1229.0811\n",
    "\n",
    "Finally, we find the standard deviation by taking the square root of the variance:\n",
    "\n",
    "Standard deviation = √(Variance)\n",
    "\n",
    "Standard deviation = √(1229.0811)\n",
    "\n",
    "Standard deviation ≈ 35.065"
   ]
  },
  {
   "cell_type": "code",
   "execution_count": 5,
   "id": "42abcf86-2ce5-4708-b0b0-efc9c6263886",
   "metadata": {},
   "outputs": [],
   "source": [
    "# Q5. How are measures of dispersion such as range, variance, and standard deviation used to describe\n",
    "# the spread of a dataset? Provide an example."
   ]
  },
  {
   "cell_type": "code",
   "execution_count": null,
   "id": "67967c67-5a03-4a22-98e4-dca6da0aee1d",
   "metadata": {},
   "outputs": [],
   "source": [
    "Measures of dispersion such as range, variance, and standard deviation are used to describe how\n",
    "spread out a dataset is. They provide information about how much the values in the dataset vary from each other.\n",
    "\n",
    "The range is the simplest measure of dispersion, and it represents the difference between the largest and \n",
    "smallest values in the dataset. It provides an idea of how much the values are spread out from each other, \n",
    "but it does not provide any information about the distribution of the values in between.\n",
    "\n",
    "The variance and standard deviation are more useful measures of dispersion, as they take into account the \n",
    "deviation of each value from the mean of the dataset. The variance is calculated by squaring the deviation \n",
    "of each value from the mean, summing the squared deviations, and dividing the sum by the number of values \n",
    "in the dataset minus 1. The standard deviation is the square root of the variance, and it provides a measure \n",
    "of the typical distance of values from the mean.\n",
    "\n",
    "For example, suppose we have two datasets of test scores for a class of 20 students. The first dataset has a \n",
    "range of 40 points, a variance of 100, and a standard deviation of 10. The second dataset has a range of 20 points, \n",
    "a variance of 25, and a standard deviation of 5. Although both datasets have the same mean score of 75, \n",
    "the second dataset has a smaller range, variance, and standard deviation, indicating that the scores are more \n",
    "tightly clustered around the mean, and less variable than the first dataset. Therefore, measures of dispersion\n",
    "can provide important information about the variability and distribution of values in a dataset, in addition to \n",
    "the measures of central tendency."
   ]
  },
  {
   "cell_type": "code",
   "execution_count": 6,
   "id": "31397d1f-0445-4cd8-87e5-1d8046bbb845",
   "metadata": {},
   "outputs": [],
   "source": [
    "# Q6. What is a Venn diagram?"
   ]
  },
  {
   "cell_type": "code",
   "execution_count": null,
   "id": "1e514eb8-d414-48a6-8f57-48a89c07cab7",
   "metadata": {},
   "outputs": [],
   "source": [
    "A Venn diagram is a graphical representation of sets, used to visualize the relationships between \n",
    "different sets of data. The diagram is made up of circles, with each circle representing a set of data. \n",
    "The circles are typically labeled with the name of the set they represent.\n",
    "\n",
    "The Venn diagram is a tool that can be used to show the similarities and differences between two or more \n",
    "sets of data. The overlapping area of the circles represents the elements that are common to both sets,\n",
    "while the areas that do not overlap represent the elements that are unique to each set.\n",
    "\n",
    "Venn diagrams can be used in a variety of contexts, including mathematics, statistics, logic, and \n",
    "computer science. They are commonly used in probability and statistics to show the relationships between events, \n",
    "in logic to illustrate the relationships between different classes of objects, and in computer science to \n",
    "represent the relationships between data structures. Venn diagrams can be a useful visual aid in analyzing and\n",
    "understanding complex data sets."
   ]
  },
  {
   "cell_type": "code",
   "execution_count": 15,
   "id": "02fa88dd-ff02-403b-9676-816f2ea3b1ad",
   "metadata": {},
   "outputs": [],
   "source": [
    "# Q7. For the two given sets A = (2,3,4,5,6,7) & B = (0,2,6,8,10). Find:\n",
    "# (i) A ∩ B\n",
    "# (ii) A ⋃ B"
   ]
  },
  {
   "cell_type": "code",
   "execution_count": null,
   "id": "3fb81481-fad8-4adc-8f1a-454156c1d6b3",
   "metadata": {},
   "outputs": [],
   "source": [
    "(i) A ∩ B represents the intersection of sets A and B, which means finding the common elements in both sets.\n",
    "\n",
    "A = {2, 3, 4, 5, 6, 7}\n",
    "B = {0, 2, 6, 8, 10}\n",
    "\n",
    "The common elements between A and B are 2 and 6.\n",
    "\n",
    "So, A ∩ B = {2, 6}\n",
    "\n",
    "(ii) A ⋃ B represents the union of sets A and B, which means finding all the elements in both sets, without repeating \n",
    "any element.\n",
    "\n",
    "A = {2, 3, 4, 5, 6, 7}\n",
    "B = {0, 2, 6, 8, 10}\n",
    "\n",
    "The elements in set A are {2, 3, 4, 5, 6, 7}, and the elements in set B are {0, 2, 6, 8, 10}.\n",
    "\n",
    "The union of sets A and B is the set of all elements from A and B, without repetition.\n",
    "\n",
    "So, A ⋃ B = {0, 2, 3, 4, 5, 6, 7, 8, 10}"
   ]
  },
  {
   "cell_type": "code",
   "execution_count": 8,
   "id": "9be39957-b16d-4026-b703-7e6357cd4e00",
   "metadata": {},
   "outputs": [],
   "source": [
    "# Q8. What do you understand about skewness in data?"
   ]
  },
  {
   "cell_type": "code",
   "execution_count": null,
   "id": "fb9d86b2-fc69-449c-8b62-2a3bb97a2dc7",
   "metadata": {},
   "outputs": [],
   "source": [
    "Skewness is a measure of the asymmetry of a probability distribution. In data analysis, it refers to \n",
    "the degree of asymmetry in a dataset's distribution, where the distribution may be skewed to the left or right.\n",
    "\n",
    "When a dataset is symmetrical, its mean, median, and mode all have the same value. However, if the distribution \n",
    "of the data is skewed to the left, the mean will be less than the median, and the mode will be greater than\n",
    "the median. Conversely, if the distribution is skewed to the right, the mean will be greater than the median,\n",
    "and the mode will be less than the median.\n",
    "\n",
    "Skewness can affect the interpretation of data, as it can indicate the presence of outliers or unusual data \n",
    "points that are not representative of the overall distribution. A positive skewness indicates that there are\n",
    "more data points towards the lower end of the distribution, while a negative skewness indicates that there are \n",
    "more data points towards the upper end of the distribution.\n",
    "\n",
    "It is important to consider skewness in data analysis because it can affect the choice of statistical tests and \n",
    "the interpretation of the results. For example, when data is skewed, the mean may not be a representative measure \n",
    "of the central tendency of the data, and alternative measures such as the median may be more appropriate."
   ]
  },
  {
   "cell_type": "code",
   "execution_count": 9,
   "id": "8f7e0a96-5a72-421f-9b44-0011119052eb",
   "metadata": {},
   "outputs": [],
   "source": [
    "# Q9. If a data is right skewed then what will be the position of median with respect to mean?"
   ]
  },
  {
   "cell_type": "code",
   "execution_count": null,
   "id": "03ac2013-abf3-4f51-bcff-bbaf68fbc0b7",
   "metadata": {},
   "outputs": [],
   "source": [
    "If a dataset is right-skewed, then it means that the tail of the distribution extends towards the right,\n",
    "i.e., there are more data points towards the lower end of the distribution. In a right-skewed distribution, \n",
    "the mean is greater than the median.\n",
    "\n",
    "This is because the mean is affected by outliers and extreme values towards the right, which pull the mean \n",
    "towards the right. On the other hand, the median is not affected by outliers and extreme values, and it represents\n",
    "the central value of the dataset. Therefore, in a right-skewed distribution, the median will be to the left of the mean."
   ]
  },
  {
   "cell_type": "code",
   "execution_count": 10,
   "id": "44987b65-9dda-4dcb-bacd-a24289a25809",
   "metadata": {},
   "outputs": [],
   "source": [
    "# Q10. Explain the difference between covariance and correlation. How are these measures used in\n",
    "# statistical analysis? "
   ]
  },
  {
   "cell_type": "code",
   "execution_count": null,
   "id": "51416cc6-748e-4207-aefb-c99907b61c45",
   "metadata": {},
   "outputs": [],
   "source": [
    "Covariance and correlation are both measures of the relationship between two variables. However, \n",
    "there are some key differences between them:\n",
    "\n",
    "Definition: Covariance measures the degree to which two variables vary together, while correlation \n",
    "measures the strength and direction of the linear relationship between two variables.\n",
    "\n",
    "Range: Covariance can take on any value, positive or negative, while correlation values always range between -1 and 1.\n",
    "\n",
    "Units: Covariance is measured in the units of the two variables, while correlation is a unitless measure.\n",
    "\n",
    "Interpretation: Covariance can be difficult to interpret, as its value depends on the units of \n",
    "the variables being measured. On the other hand, correlation values are standardized and can be easily \n",
    "compared across different datasets.\n",
    "\n",
    "In statistical analysis, both covariance and correlation are used to identify the relationship \n",
    "between two variables. Covariance is commonly used in finance and economics to measure the relationship \n",
    "between two assets, such as stocks, while correlation is used more widely in social sciences, biology, \n",
    "and other fields to analyze the relationship between different variables.\n",
    "\n",
    "Correlation is often preferred over covariance because it is more interpretable and standardized. \n",
    "Correlation coefficients range between -1 and 1, where -1 indicates a perfect negative correlation,\n",
    "0 indicates no correlation, and 1 indicates a perfect positive correlation. This makes it easier to \n",
    "compare the relationship between different variables.\n",
    "\n",
    "Overall, both covariance and correlation are useful measures in statistical analysis and can provide valuable\n",
    "insights into the relationship between different variables."
   ]
  },
  {
   "cell_type": "code",
   "execution_count": 11,
   "id": "616b1132-df18-4090-86c6-de3b82bc8219",
   "metadata": {},
   "outputs": [],
   "source": [
    "# Q11. What is the formula for calculating the sample mean? Provide an example calculation for a\n",
    "# dataset."
   ]
  },
  {
   "cell_type": "code",
   "execution_count": null,
   "id": "bc245f0a-8f3e-4008-aebd-3c7df354cab1",
   "metadata": {},
   "outputs": [],
   "source": [
    "The formula for calculating the sample mean is:\n",
    "\n",
    "sample mean = (sum of all data points) / (number of data points)\n",
    "\n",
    "In other words, to calculate the sample mean, you need to add up all the data points in the dataset \n",
    "and divide the result by the total number of data points.\n",
    "\n",
    "Here's an example calculation for a dataset:\n",
    "\n",
    "Dataset: 10, 15, 20, 25, 30\n",
    "\n",
    "1. Add up all the data points:\n",
    "    10 + 15 + 20 + 25 + 30 = 100\n",
    "\n",
    "2. Count the total number of data points:\n",
    "There are 5 data points in this dataset.\n",
    "\n",
    "3. Use the formula to calculate the sample mean:\n",
    "sample mean = 100 / 5 = 20\n",
    "\n",
    "Therefore, the sample mean for this dataset is 20."
   ]
  },
  {
   "cell_type": "code",
   "execution_count": 12,
   "id": "83b5abc6-fce8-4d42-9640-ad1bf29fae1f",
   "metadata": {},
   "outputs": [],
   "source": [
    "# Q12. For a normal distribution data what is the relationship between its measure of central tendency?"
   ]
  },
  {
   "cell_type": "code",
   "execution_count": null,
   "id": "0c84f814-e72e-49f5-a002-72002957f480",
   "metadata": {},
   "outputs": [],
   "source": [
    "For a normal distribution, the mean, median, and mode are all equal. This means that the distribution\n",
    "is perfectly symmetrical around the central value, with the same number of data points on either side of the mean.\n",
    "\n",
    "This relationship between the measures of central tendency holds true for all normal distributions, \n",
    "regardless of the specific values of the mean, median, and mode. It is a defining characteristic of \n",
    "the normal distribution, which is also known as the Gaussian distribution or bell curve.\n",
    "\n",
    "The fact that the mean, median, and mode are all equal in a normal distribution is one of the reasons \n",
    "why this distribution is so commonly used in statistics. It allows for easy interpretation of the central \n",
    "tendency of the data and enables us to make accurate predictions and inferences about the data based on its \n",
    "shape and characteristics."
   ]
  },
  {
   "cell_type": "code",
   "execution_count": 13,
   "id": "8d383169-89a5-4646-acab-c51017e413bb",
   "metadata": {},
   "outputs": [],
   "source": [
    "# Q13. How is covariance different from correlation?"
   ]
  },
  {
   "cell_type": "code",
   "execution_count": null,
   "id": "df50469b-ab66-4808-af37-06948e014b23",
   "metadata": {},
   "outputs": [],
   "source": [
    "Covariance and correlation are two different measures that are used to describe the relationship between two variables:\n",
    "\n",
    "Definition: Covariance is a measure of the degree to which two variables vary together, while correlation\n",
    "measures the strength and direction of the linear relationship between two variables.\n",
    "\n",
    "Range: Covariance can take on any value, positive or negative, while correlation values always range between -1 and 1.\n",
    "\n",
    "Units: Covariance is measured in the units of the two variables, while correlation is a unitless measure.\n",
    "\n",
    "Interpretation: Covariance can be difficult to interpret, as its value depends on the units of the variables \n",
    "being measured. On the other hand, correlation values are standardized and can be easily compared across different datasets.\n",
    "\n",
    "In essence, covariance and correlation are different measures that serve different purposes. Covariance \n",
    "measures how two variables are related to one another, while correlation measures how strong that relationship\n",
    "is and in what direction it goes. The correlation coefficient can be used to determine whether the relationship\n",
    "between the two variables is positive, negative or non-linear.\n",
    "\n",
    "In statistical analysis, correlation is generally preferred over covariance because it is more interpretable and\n",
    "standardized. Correlation coefficients range between -1 and 1, where -1 indicates a perfect negative correlation,\n",
    "0 indicates no correlation, and 1 indicates a perfect positive correlation. This makes it easier to compare the \n",
    "relationship between different variables."
   ]
  },
  {
   "cell_type": "code",
   "execution_count": 14,
   "id": "689e8de4-8d39-4463-b853-4b935a6d778b",
   "metadata": {},
   "outputs": [],
   "source": [
    "# Q14. How do outliers affect measures of central tendency and dispersion? Provide an example."
   ]
  },
  {
   "cell_type": "code",
   "execution_count": null,
   "id": "73d2e05b-3d1a-4379-90b7-489872c98fd9",
   "metadata": {},
   "outputs": [],
   "source": [
    "Outliers are data points that lie far away from the other data points in a dataset, either at the high end\n",
    "or the low end of the distribution. Outliers can have a significant impact on measures of central tendency and dispersion:\n",
    "\n",
    "Measures of central tendency: Outliers can significantly affect the mean of a dataset, pulling it towards \n",
    "the extreme value. However, the median is less affected by outliers, as it only considers the middle value(s) \n",
    "in the dataset. The mode may also be less affected by outliers, depending on the distribution of the data.\n",
    "\n",
    "Measures of dispersion: Outliers can significantly affect measures of dispersion such as the range, variance, \n",
    "and standard deviation, as these measures are based on the distance between the data points and the mean. \n",
    "Outliers can increase the range and standard deviation, making the dataset appear more spread out than it actually is.\n",
    "The variance is also affected, as it is calculated using the squared distances between the data points and the mean.\n",
    "\n",
    "Here's an example of how outliers can affect measures of central tendency and dispersion:\n",
    "\n",
    "Dataset: 10, 15, 20, 25, 30, 100\n",
    "\n",
    "Measures of central tendency:\n",
    "\n",
    "Mean: (10 + 15 + 20 + 25 + 30 + 100) / 6 = 31.67\n",
    "The mean is pulled towards the extreme value of 100 due to the outlier.\n",
    "Median: 22.5\n",
    "The median is less affected by the outlier, as it only considers the middle value(s) in the dataset.\n",
    "Mode: There is no mode in this dataset, as no value occurs more than once.\n",
    "Measures of dispersion:\n",
    "\n",
    "Range: 100 - 10 = 90\n",
    "The outlier increases the range of the dataset.\n",
    "Variance:((10 - 31.67)^2 + (15 - 31.67)^2 + (20 - 31.67)^2 + (25 - 31.67)^2 + (30 - 31.67)^2 + (100 - 31.67)^2) / 6 = 1802.22\n",
    "The variance is increased due to the large squared distance between the outlier and the mean.\n",
    "Standard deviation: sqrt(1802.22) = 42.47\n",
    "The standard deviation is also increased due to the large squared distance between the outlier and the mean.\n",
    "In this example, the outlier has a significant impact on the mean, range, variance, and standard deviation of \n",
    "the dataset, while the median is less affected. This illustrates how outliers can affect different measures of\n",
    "central tendency and dispersion in different ways."
   ]
  }
 ],
 "metadata": {
  "kernelspec": {
   "display_name": "Python 3 (ipykernel)",
   "language": "python",
   "name": "python3"
  },
  "language_info": {
   "codemirror_mode": {
    "name": "ipython",
    "version": 3
   },
   "file_extension": ".py",
   "mimetype": "text/x-python",
   "name": "python",
   "nbconvert_exporter": "python",
   "pygments_lexer": "ipython3",
   "version": "3.10.8"
  }
 },
 "nbformat": 4,
 "nbformat_minor": 5
}
