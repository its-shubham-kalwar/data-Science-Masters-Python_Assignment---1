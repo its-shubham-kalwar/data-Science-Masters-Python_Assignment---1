{
 "cells": [
  {
   "cell_type": "code",
   "execution_count": 1,
   "id": "d50a699c-5b68-46ca-a553-bb759197a03d",
   "metadata": {},
   "outputs": [],
   "source": [
    "# Q1: What are the Probability Mass Function (PMF) and Probability Density Function (PDF)? Explain with\n",
    "# an example."
   ]
  },
  {
   "cell_type": "code",
   "execution_count": null,
   "id": "dc596375-b0c3-40f7-b31c-78bd6591fb48",
   "metadata": {},
   "outputs": [],
   "source": [
    "Probability Mass Function (PMF) and Probability Density Function (PDF) are both mathematical concepts used to \n",
    "describe the probability distribution of a random variable.\n",
    "\n",
    "A PMF is a function that describes the probability of discrete outcomes in a sample space. In other words, \n",
    "a PMF gives the probability of a random variable taking on a specific value. For example, if we are rolling a \n",
    "fair six-sided die, the PMF of this experiment is given by:\n",
    "\n",
    "P(X=1) = 1/6\n",
    "P(X=2) = 1/6\n",
    "P(X=3) = 1/6\n",
    "P(X=4) = 1/6\n",
    "P(X=5) = 1/6\n",
    "P(X=6) = 1/6\n",
    "\n",
    "Here, X is the random variable representing the outcome of the die roll, and each probability represents the chance \n",
    "of rolling a specific value.\n",
    "\n",
    "A PDF, on the other hand, describes the probability distribution of a continuous random variable. Unlike PMF, PDF \n",
    "is not defined at individual points. Instead, it gives the probability density of a random variable over a range \n",
    "of values. For example, let's consider the normal distribution with mean 0 and standard deviation 1. The PDF of \n",
    "this distribution is given by:\n",
    "\n",
    "f(x) = (1/(sqrt(2*pi)*sigma))exp(-(x-mu)^2/(2sigma^2))\n",
    "\n",
    "Here, mu represents the mean and sigma represents the standard deviation of the normal distribution. \n",
    "The PDF gives the probability density of getting a value x in the range of values over the real line. \n",
    "The area under the curve of a PDF between two values represents the probability of getting a value in that range."
   ]
  },
  {
   "cell_type": "code",
   "execution_count": 6,
   "id": "39eb2b26-048e-47c9-9736-49b4c7e1ded8",
   "metadata": {},
   "outputs": [],
   "source": [
    "# Q2. What is Cumulative Density Function (CDF)? Explain with an example. Why CDF is used?"
   ]
  },
  {
   "cell_type": "code",
   "execution_count": null,
   "id": "d53e9e51-89af-4ff0-a1d7-80f8cdba5b99",
   "metadata": {},
   "outputs": [],
   "source": [
    "The Cumulative Density Function (CDF) is a function that describes the probability that a random variable takes \n",
    "a value less than or equal to a certain value. In other words, the CDF of a random variable gives the probability \n",
    "that the variable is less than or equal to a particular value.\n",
    "\n",
    "For example, consider the roll of a fair six-sided die. The CDF for this experiment is given by:\n",
    "\n",
    "F(x) = P(X <= x)\n",
    "\n",
    "where X is the random variable representing the outcome of the die roll and x is any possible outcome.\n",
    "\n",
    "For this experiment, the CDF would look like:\n",
    "\n",
    "F(1) = 1/6\n",
    "F(2) = 2/6\n",
    "F(3) = 3/6\n",
    "F(4) = 4/6\n",
    "F(5) = 5/6\n",
    "F(6) = 6/6 = 1\n",
    "\n",
    "Here, F(x) gives the probability that the roll is less than or equal to x. For example, F(4) = 4/6 means that there \n",
    "is a 4/6 or 2/3 chance that the die roll is less than or equal to 4.\n",
    "\n",
    "CDF is used because it provides a complete picture of the probability distribution of a random variable. It can be used\n",
    "to calculate the probability of an event occurring within a range of values, as well as to calculate percentiles and other\n",
    "measures of central tendency and dispersion. The CDF also provides a way to compare different probability distributions \n",
    "and determine which one is more likely to occur."
   ]
  },
  {
   "cell_type": "code",
   "execution_count": 3,
   "id": "3fbec25a-abdd-4dd3-8e4e-21ac4daf2c84",
   "metadata": {},
   "outputs": [],
   "source": [
    "# Q3: What are some examples of situations where the normal distribution might be used as a model?\n",
    "# Explain how the parameters of the normal distribution relate to the shape of the distribution."
   ]
  },
  {
   "cell_type": "code",
   "execution_count": null,
   "id": "9495c69a-2f2c-4864-8cab-a7867c8efba1",
   "metadata": {},
   "outputs": [],
   "source": [
    "The normal distribution, also known as the Gaussian distribution or bell curve, is a commonly used probability\n",
    "distribution in statistics. It is used to model situations where the data is symmetric and bell-shaped, \n",
    "and where the values cluster around a central mean value. Some examples of situations where the normal distribution\n",
    "might be used as a model include:\n",
    "\n",
    "Heights of people in a population: The heights of people in a population are often normally distributed, with the mean\n",
    "height being the central value and the standard deviation describing the spread of the distribution.\n",
    "\n",
    "Test scores: Test scores are often normally distributed, with the mean representing the average score and the standard\n",
    "deviation indicating how much variation there is in the scores.\n",
    "\n",
    "Errors in measurements: Errors in measurements made by instruments can often be modeled using a normal distribution, \n",
    "with the mean representing the true value of the quantity being measured and the standard deviation representing the \n",
    "precision of the instrument.\n",
    "\n",
    "The normal distribution is described by two parameters: the mean and the standard deviation. The mean of the distribution \n",
    "determines the location of the center of the curve, while the standard deviation determines the spread or width of the curve.\n",
    "The shape of the distribution is determined entirely by the mean and the standard deviation.\n",
    "\n",
    "If the mean is shifted to the right or left, the entire distribution will shift with it. If the standard deviation \n",
    "is increased, the distribution will become wider and flatter, with more values farther from the mean. If the standard \n",
    "deviation is decreased, the distribution will become narrower and taller, with more values clustered around the mean. \n",
    "The normal distribution is symmetric around the mean, with the tails of the distribution becoming increasingly sparse \n",
    "as they move away from the mean."
   ]
  },
  {
   "cell_type": "code",
   "execution_count": null,
   "id": "9efa8584-6688-4f47-adc9-020477e934b3",
   "metadata": {},
   "outputs": [],
   "source": [
    "# Q4: Explain the importance of Normal Distribution. Give a few real-life examples of Normal\n",
    "# Distribution."
   ]
  },
  {
   "cell_type": "code",
   "execution_count": null,
   "id": "0dbd6690-acdd-4c5a-9442-5a18c7b4ea7d",
   "metadata": {},
   "outputs": [],
   "source": [
    "The normal distribution is important in statistics and data analysis because it is a widely used probability \n",
    "distribution that describes many natural phenomena and real-world processes. The normal distribution has several\n",
    "properties that make it useful for modeling data, including its symmetry, unimodality, and the fact that it can \n",
    "be completely described by two parameters: the mean and standard deviation.\n",
    "\n",
    "Some real-life examples of normal distribution include:\n",
    "\n",
    "IQ scores: Intelligence quotient (IQ) scores are typically normally distributed, with the majority of people scoring \n",
    "around the mean and fewer people scoring far above or below the mean.\n",
    "\n",
    "Heights and weights: Heights and weights of people in a population are often normally distributed, with the mean \n",
    "representing the average height or weight and the standard deviation indicating how much variation there is in the data.\n",
    "\n",
    "Exam scores: Exam scores are often normally distributed, with the majority of students scoring around the mean and fewer \n",
    "students scoring very high or very low.\n",
    "\n",
    "Measurement errors: Errors in measurements made by instruments can often be modeled using a normal distribution, with \n",
    "the mean representing the true value of the quantity being measured and the standard deviation representing the precision\n",
    "of the instrument.\n",
    "\n",
    "Financial market returns: The returns of financial assets such as stocks and bonds often follow a normal distribution, \n",
    "with the mean representing the average return and the standard deviation representing the volatility of the asset.\n",
    "\n",
    "Understanding the properties and characteristics of the normal distribution is essential for statistical inference and \n",
    "data analysis, as many statistical methods and tests rely on the assumption that the data follows a normal distribution.\n",
    "Additionally, the normal distribution is often used as a benchmark for comparing other probability distributions, making\n",
    "it a fundamental concept in statistics and data analysis."
   ]
  },
  {
   "cell_type": "code",
   "execution_count": 4,
   "id": "75cfc614-fe60-43fe-a6ce-f9ccdb11b668",
   "metadata": {},
   "outputs": [],
   "source": [
    "# Q5: What is Bernaulli Distribution? Give an Example. What is the difference between Bernoulli\n",
    "# Distribution and Binomial Distribution?"
   ]
  },
  {
   "cell_type": "code",
   "execution_count": null,
   "id": "0b94bd76-7197-4422-a9a7-93b594532cf4",
   "metadata": {},
   "outputs": [],
   "source": [
    "The Bernoulli distribution is a probability distribution that describes the outcomes of a single binary \n",
    "(yes/no) event. It is named after the Swiss mathematician Jacob Bernoulli. The distribution has a single parameter,\n",
    "p, which represents the probability of success (or \"yes\") in a single trial.\n",
    "\n",
    "An example of a Bernoulli distribution is flipping a coin, where \"heads\" is considered a success and \"tails\" is \n",
    "considered a failure. The probability of getting heads is p, and the probability of getting tails is 1-p.\n",
    "\n",
    "The Bernoulli distribution differs from the binomial distribution in that the binomial distribution describes the \n",
    "number of successes in a fixed number of independent Bernoulli trials. The binomial distribution has two parameters:\n",
    "n, the number of trials, and p, the probability of success in each trial.\n",
    "\n",
    "For example, consider flipping a coin 10 times and counting the number of heads. This is an example of a binomial \n",
    "distribution with n = 10 and p = 0.5. The binomial distribution gives the probability of getting k heads in 10 flips, \n",
    "where k can range from 0 to 10.\n",
    "\n",
    "In summary, the Bernoulli distribution describes the outcome of a single binary event with probability p, while \n",
    "the binomial distribution describes the number of successes in a fixed number of independent Bernoulli trials with\n",
    "probability of success p."
   ]
  },
  {
   "cell_type": "code",
   "execution_count": 5,
   "id": "adfe5689-0730-43bc-9d14-b9ba9ea33ad0",
   "metadata": {},
   "outputs": [],
   "source": [
    "# Q6. Consider a dataset with a mean of 50 and a standard deviation of 10. If we assume that the dataset\n",
    "# is normally distributed, what is the probability that a randomly selected observation will be greater\n",
    "# than 60? Use the appropriate formula and show your calculations."
   ]
  },
  {
   "cell_type": "code",
   "execution_count": null,
   "id": "556797bc-26e8-4b31-bb6d-146d9ee4a05d",
   "metadata": {},
   "outputs": [],
   "source": [
    "If we assume that the dataset is normally distributed with a mean of 50 and a standard deviation of 10, \n",
    "we can use the standard normal distribution to find the probability that a randomly selected observation \n",
    "will be greater than 60.\n",
    "\n",
    "First, we need to standardize the value of 60 using the formula:\n",
    "\n",
    "z = (x - μ) / σ\n",
    "\n",
    "where z is the standardized score, x is the value of interest, μ is the mean, and σ is the standard deviation.\n",
    "\n",
    "Plugging in the values, we get:\n",
    "\n",
    "z = (60 - 50) / 10 = 1\n",
    "\n",
    "This means that a value of 60 is one standard deviation above the mean.\n",
    "\n",
    "Next, we can use a standard normal distribution table or a calculator to find the probability that a standardized \n",
    "score is greater than 1. From the table or calculator, we find that the probability is approximately 0.1587.\n",
    "\n",
    "Therefore, the probability that a randomly selected observation from the dataset will be greater than 60 is \n",
    "approximately 0.1587 or 15.87%."
   ]
  },
  {
   "cell_type": "code",
   "execution_count": null,
   "id": "d6b8b0a9-51ed-46ec-997f-c40db0213ea1",
   "metadata": {},
   "outputs": [],
   "source": [
    "# Q7: Explain uniform Distribution with an example."
   ]
  },
  {
   "cell_type": "code",
   "execution_count": null,
   "id": "61765b4a-6ff0-4cda-b063-2793fe76ae10",
   "metadata": {},
   "outputs": [],
   "source": [
    "Uniform distribution is a probability distribution where all values within a certain range have an equal \n",
    "probability of occurring. This means that the probability density function (PDF) of a uniform distribution\n",
    "is constant within a specific interval and zero outside that interval.\n",
    "\n",
    "An example of a uniform distribution is rolling a fair six-sided die. Each number on the die has an equal \n",
    "probability of being rolled, which means the probability of rolling any particular number is 1/6. This is \n",
    "an example of a discrete uniform distribution, where the possible outcomes are discrete values.\n",
    "\n",
    "Another example of a uniform distribution is the height of a person randomly selected from a population of adults\n",
    "between the ages of 18 and 60. Assuming that heights are distributed uniformly in this age range, any height within \n",
    "the range has an equal probability of occurring. This is an example of a continuous uniform distribution, where the\n",
    "possible outcomes are continuous values.\n",
    "\n",
    "Uniform distribution is used in many areas of science and engineering, such as computer simulations, random number \n",
    "generation, and statistical inference. It is a simple and useful distribution for modeling situations where each \n",
    "outcome is equally likely."
   ]
  },
  {
   "cell_type": "code",
   "execution_count": 7,
   "id": "be38d370-f3be-4e99-948a-23093edca3aa",
   "metadata": {},
   "outputs": [],
   "source": [
    "# Q8: What is the z score? State the importance of the z score."
   ]
  },
  {
   "cell_type": "code",
   "execution_count": null,
   "id": "60077238-0141-49e6-a037-91cbca43389a",
   "metadata": {},
   "outputs": [],
   "source": [
    "The z-score, also known as the standard score, is a measure of how many standard deviations a given data \n",
    "point is away from the mean of a dataset. It is calculated by subtracting the mean of the dataset from the \n",
    "value of interest and then dividing by the standard deviation. The formula for z-score is:\n",
    "\n",
    "z = (x - μ) / σ\n",
    "\n",
    "where z is the standardized score, x is the value of interest, μ is the mean of the dataset, and σ is the standard \n",
    "deviation of the dataset.\n",
    "\n",
    "The z-score is important because it allows us to compare values from different datasets that have different scales \n",
    "and units. By standardizing values to z-scores, we can compare how far a given data point is from its mean relative\n",
    "to the spread of the data, regardless of the units of measurement. The z-score is also useful in statistical inference, \n",
    "hypothesis testing, and confidence intervals.\n",
    "\n",
    "For example, suppose we want to compare the exam scores of two students, one from a school where the mean score is 75 \n",
    "and the standard deviation is 10, and the other from a school where the mean score is 80 and the standard deviation is 5.\n",
    "If the first student scored 80 on the exam and the second student scored 85 on the exam, we cannot directly compare \n",
    "the scores since they are on different scales. However, by calculating the z-scores for each score, we can compare how \n",
    "far each score is from its respective mean relative to the spread of the data. This can help us determine which score \n",
    "is relatively better compared to their respective groups."
   ]
  },
  {
   "cell_type": "code",
   "execution_count": null,
   "id": "3694c8a4-fcb2-4a72-b1c0-e4ac55b5cd57",
   "metadata": {},
   "outputs": [],
   "source": [
    "# Q9: What is Central Limit Theorem? State the significance of the Central Limit Theorem."
   ]
  },
  {
   "cell_type": "code",
   "execution_count": null,
   "id": "3de1a9f0-f0f1-4617-952c-b2268ab8c771",
   "metadata": {},
   "outputs": [],
   "source": [
    "The Central Limit Theorem (CLT) is a fundamental theorem in statistics that states that the sampling distribution\n",
    "of the means of a large number of independent and identically distributed random variables, regardless of the \n",
    "underlying distribution, approaches a normal distribution as the sample size increases. In other words, if we \n",
    "take repeated random samples of the same size from any population with any distribution and calculate the mean of \n",
    "each sample, the distribution of those means will be approximately normal, regardless of the shape of the population distribution.\n",
    "\n",
    "The significance of the Central Limit Theorem is that it allows us to make statistical inferences about a population based \n",
    "on a sample. For example, we can estimate the mean or standard deviation of a population, construct confidence intervals,\n",
    "or perform hypothesis testing, even if we do not know the underlying distribution of the population. This is because the \n",
    "sampling distribution of the mean approaches a normal distribution as the sample size increases, making it easier to make\n",
    "probabilistic statements about the population based on the sample.\n",
    "\n",
    "The Central Limit Theorem is also important in quality control and process improvement, where it is used to estimate \n",
    "the variability of a process based on a sample of measurements. It is also used in finance, where it is applied to estimate\n",
    "the distribution of returns on financial investments, and in many other fields of science and engineering. The Central \n",
    "Limit Theorem is one of the most important concepts in statistical inference and has many practical applications."
   ]
  },
  {
   "cell_type": "code",
   "execution_count": 8,
   "id": "8335056e-3043-4e6a-8169-a5c68b6d42b5",
   "metadata": {},
   "outputs": [],
   "source": [
    "# Q10: State the assumptions of the Central Limit Theorem."
   ]
  },
  {
   "cell_type": "code",
   "execution_count": null,
   "id": "7dde7854-6828-4141-9628-caf5e46d5726",
   "metadata": {},
   "outputs": [],
   "source": [
    "The Central Limit Theorem (CLT) relies on certain assumptions in order to hold true. The assumptions of the Central \n",
    "Limit Theorem are as follows:\n",
    "\n",
    "Independent and Identically Distributed (IID) Samples: The samples must be independent and identically distributed,\n",
    "meaning that each sample is drawn randomly from the same population and the samples are not related to each other.\n",
    "\n",
    "Sample Size: The sample size must be large enough, typically at least 30, in order for the CLT to hold. As the \n",
    "sample size increases, the distribution of the sample means becomes more and more normal.\n",
    "\n",
    "Finite Variance: The population from which the samples are drawn must have a finite variance. This means that the \n",
    "spread of the population should not be infinite, as this can cause the sample mean to be highly variable and not \n",
    "converge to a normal distribution.\n",
    "\n",
    "No Skewness: The population from which the samples are drawn should not be highly skewed. Skewed distributions can \n",
    "result in a sample mean that is not a good estimate of the population mean, even with large sample sizes.\n",
    "\n",
    "If these assumptions are met, the Central Limit Theorem states that the sampling distribution of the means of a large \n",
    "number of independent and identically distributed random variables approaches a normal distribution."
   ]
  }
 ],
 "metadata": {
  "kernelspec": {
   "display_name": "Python 3 (ipykernel)",
   "language": "python",
   "name": "python3"
  },
  "language_info": {
   "codemirror_mode": {
    "name": "ipython",
    "version": 3
   },
   "file_extension": ".py",
   "mimetype": "text/x-python",
   "name": "python",
   "nbconvert_exporter": "python",
   "pygments_lexer": "ipython3",
   "version": "3.10.8"
  }
 },
 "nbformat": 4,
 "nbformat_minor": 5
}
