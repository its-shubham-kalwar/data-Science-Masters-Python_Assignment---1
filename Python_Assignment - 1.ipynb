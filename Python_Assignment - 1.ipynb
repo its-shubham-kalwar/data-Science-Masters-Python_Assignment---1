{
 "cells": [
  {
   "cell_type": "code",
   "execution_count": null,
   "id": "f11b3119-6197-4b36-9399-a418ff2f9aea",
   "metadata": {},
   "outputs": [],
   "source": [
    "1. Who developed Python programming language?"
   ]
  },
  {
   "cell_type": "code",
   "execution_count": null,
   "id": "6f4cb055-1615-463d-b3be-31298be312df",
   "metadata": {},
   "outputs": [],
   "source": [
    "Guido van Rossum in 1991."
   ]
  },
  {
   "cell_type": "code",
   "execution_count": null,
   "id": "bdf61d31-f7f3-43a7-8324-9291d1a05763",
   "metadata": {},
   "outputs": [],
   "source": [
    "2. Which type of programming does python support? "
   ]
  },
  {
   "cell_type": "code",
   "execution_count": null,
   "id": "6e6780c1-b77c-4fb7-a9fc-af3ab3c694c3",
   "metadata": {},
   "outputs": [],
   "source": [
    "object-oriented programming, structured programming, functional programming."
   ]
  },
  {
   "cell_type": "code",
   "execution_count": null,
   "id": "b566ec36-b14f-4ec9-919b-c1647929f888",
   "metadata": {},
   "outputs": [],
   "source": [
    "3. Is python case sensitive when dealing with identifiers?"
   ]
  },
  {
   "cell_type": "code",
   "execution_count": null,
   "id": "acc9bc7d-d63f-4325-b0f5-ec06a2d8611a",
   "metadata": {},
   "outputs": [],
   "source": [
    "it is case-sensitive."
   ]
  },
  {
   "cell_type": "code",
   "execution_count": null,
   "id": "9ca8a82e-df40-4a7a-aaac-a843adaafbda",
   "metadata": {},
   "outputs": [],
   "source": [
    "4. What is the correct extension of the python file?"
   ]
  },
  {
   "cell_type": "code",
   "execution_count": null,
   "id": "8c7d28cd-eb4b-4a8e-96b2-173d0e8ec44f",
   "metadata": {},
   "outputs": [],
   "source": [
    ".pyc, .pyd, .pyo"
   ]
  },
  {
   "cell_type": "code",
   "execution_count": null,
   "id": "c53e812f-674e-4852-a615-c12f4dcc7ea7",
   "metadata": {},
   "outputs": [],
   "source": [
    "5. Is python code compiled or interpreted?"
   ]
  },
  {
   "cell_type": "code",
   "execution_count": null,
   "id": "eea72020-6ef9-47a0-8494-9ced2298d77f",
   "metadata": {},
   "outputs": [],
   "source": [
    "python program is first compiled and then interpreted."
   ]
  },
  {
   "cell_type": "code",
   "execution_count": null,
   "id": "ab534f30-360b-4bdf-93f1-c2a877de2785",
   "metadata": {},
   "outputs": [],
   "source": [
    "6. Name a few blocks of code used to define in python language?"
   ]
  },
  {
   "cell_type": "code",
   "execution_count": null,
   "id": "8414e5d6-262f-418f-99d9-9fbd07a67a2b",
   "metadata": {},
   "outputs": [],
   "source": [
    "In Python, you do not need to use braces or semicolons to say blocks of code. Python using indentation. "
   ]
  },
  {
   "cell_type": "code",
   "execution_count": null,
   "id": "81983a62-cb50-46c7-baeb-d019487312c9",
   "metadata": {},
   "outputs": [],
   "source": [
    "7. State a character used to give single-line comments in python?"
   ]
  },
  {
   "cell_type": "code",
   "execution_count": null,
   "id": "0b09d8f7-1292-4bc0-a8bc-444482354216",
   "metadata": {},
   "outputs": [],
   "source": [
    "Hash character (#) is used to comment the line in the Python program."
   ]
  },
  {
   "cell_type": "code",
   "execution_count": null,
   "id": "bfc0cf99-2b9b-4dab-85ba-4c1d96aef3f1",
   "metadata": {},
   "outputs": [],
   "source": [
    "8. Mention function which can help us to find the version of python that we are currently working on?"
   ]
  },
  {
   "cell_type": "code",
   "execution_count": null,
   "id": "26da317c-f55f-4267-ab82-1a73d066e3f9",
   "metadata": {},
   "outputs": [],
   "source": [
    "sys.version()"
   ]
  },
  {
   "cell_type": "code",
   "execution_count": null,
   "id": "4a7759ee-a4c3-42f3-b47f-ee8ac570abdf",
   "metadata": {},
   "outputs": [],
   "source": [
    "9. Python supports the creation of anonymous funtions at runtime, using a construct called."
   ]
  },
  {
   "cell_type": "code",
   "execution_count": null,
   "id": "930b4794-b70b-48a2-828c-3648f87d4103",
   "metadata": {},
   "outputs": [],
   "source": [
    "lambda."
   ]
  },
  {
   "cell_type": "code",
   "execution_count": null,
   "id": "38f1ead1-018d-4579-8fd0-1e371fa2ea6f",
   "metadata": {},
   "outputs": [],
   "source": [
    "10. What does pip stands for python?"
   ]
  },
  {
   "cell_type": "code",
   "execution_count": null,
   "id": "c9c77359-2e8d-4659-b02b-74169f15ff3d",
   "metadata": {},
   "outputs": [],
   "source": [
    "Pip stands for precise infectious packages."
   ]
  },
  {
   "cell_type": "code",
   "execution_count": null,
   "id": "c72fcf04-a0ff-408f-b4b8-1845d36624ed",
   "metadata": {},
   "outputs": [],
   "source": [
    "11. Mention a few built-in funtion in python?"
   ]
  },
  {
   "cell_type": "code",
   "execution_count": null,
   "id": "696fa46e-5f51-4f4b-8c28-f755833d5264",
   "metadata": {},
   "outputs": [],
   "source": [
    "chr(), abs(), complex(), dict(), eval(), float()"
   ]
  },
  {
   "cell_type": "code",
   "execution_count": null,
   "id": "05e10a6e-61b9-458b-a721-d4dc1f820e82",
   "metadata": {},
   "outputs": [],
   "source": [
    "12. What is the maximum possible length of an identifier in python?"
   ]
  },
  {
   "cell_type": "code",
   "execution_count": null,
   "id": "10fbb290-e2cd-46c4-ac6e-c8c356bc12b1",
   "metadata": {},
   "outputs": [],
   "source": [
    "maximum of 79 characters."
   ]
  },
  {
   "cell_type": "code",
   "execution_count": null,
   "id": "452d69c2-51d1-4889-816f-12fddc6706f6",
   "metadata": {},
   "outputs": [],
   "source": [
    "13. What are the benefits of using python?"
   ]
  },
  {
   "cell_type": "code",
   "execution_count": null,
   "id": "df594ed6-76de-4515-8949-1cda90194c43",
   "metadata": {},
   "outputs": [],
   "source": [
    "Third-Party Modules, Presence of Libraries, Open Source and free, Huge Support Community, Easy to learn, User-Friendly data structures, Speed"
   ]
  },
  {
   "cell_type": "code",
   "execution_count": null,
   "id": "721080a9-59c7-4c4d-a464-b018a5da0594",
   "metadata": {},
   "outputs": [],
   "source": [
    "14. How is memory managed in python?"
   ]
  },
  {
   "cell_type": "code",
   "execution_count": null,
   "id": "0c1eaff1-3f68-4021-bdb0-e231dbdafb5d",
   "metadata": {},
   "outputs": [],
   "source": [
    "Python has a private heap that stores our program’s objects and data structures. Python memory manager takes care of the bulk of the memory management work and allows us to concentrate on our code."
   ]
  },
  {
   "cell_type": "code",
   "execution_count": null,
   "id": "4a488c71-25df-4013-82f9-192ae89b6cd7",
   "metadata": {},
   "outputs": [],
   "source": [
    "15. How to install python on windows and set path variables?"
   ]
  },
  {
   "cell_type": "code",
   "execution_count": null,
   "id": "83d478cd-4582-4739-b6f8-83bec9509873",
   "metadata": {},
   "outputs": [],
   "source": [
    "Find python on chrome or any search engine and download it, To add Python to the PATH in User variables, right-click on This PC, and select Properties. Once in the properties menu, click on the Advanced system settings option. In the next window, select the Advanced tab, and select Environment Variables ."
   ]
  },
  {
   "cell_type": "code",
   "execution_count": null,
   "id": "28c96b03-3e78-4bba-aa04-114c8226908f",
   "metadata": {},
   "outputs": [],
   "source": [
    "16. Is indentation required in python?"
   ]
  },
  {
   "cell_type": "code",
   "execution_count": null,
   "id": "0e2615a1-a939-45bc-8b79-046a14ecd393",
   "metadata": {},
   "outputs": [],
   "source": [
    "Yes, indentation is required in Python.Use tabs instead of single spaces to resolve the silly indentation errors. Indentations make the code easy to read for the developers in all the programming languages but in Python, it is very important to indent the code in a specific order."
   ]
  }
 ],
 "metadata": {
  "kernelspec": {
   "display_name": "Python 3 (ipykernel)",
   "language": "python",
   "name": "python3"
  },
  "language_info": {
   "codemirror_mode": {
    "name": "ipython",
    "version": 3
   },
   "file_extension": ".py",
   "mimetype": "text/x-python",
   "name": "python",
   "nbconvert_exporter": "python",
   "pygments_lexer": "ipython3",
   "version": "3.10.8"
  }
 },
 "nbformat": 4,
 "nbformat_minor": 5
}
