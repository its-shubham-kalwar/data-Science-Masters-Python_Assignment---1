{
 "cells": [
  {
   "cell_type": "code",
   "execution_count": 1,
   "id": "49aefb78-b075-4863-a340-66b9c2cd98d7",
   "metadata": {},
   "outputs": [],
   "source": [
    "# Q1. What is Flask Framework? What are the advantages of Flask Framework?"
   ]
  },
  {
   "cell_type": "code",
   "execution_count": null,
   "id": "9e7b23b9-d96d-48b7-afa0-6e7c4bbbf4f5",
   "metadata": {},
   "outputs": [],
   "source": [
    "Flask is a micro web framework written in Python that provides a simple and lightweight approach to \n",
    "building web applications. It is classified as a micro-framework because it does not require particular \n",
    "tools or libraries and is designed to be flexible and modular, giving developers the freedom to create \n",
    "custom solutions for their specific needs.\n",
    "\n",
    "Here are some advantages of using Flask Framework:\n",
    "\n",
    "Lightweight: Flask is a lightweight framework with a small footprint, which means it can be used to build \n",
    "simple web applications quickly and efficiently.\n",
    "\n",
    "Modular: Flask is designed to be modular and flexible, which means it can be easily extended with \n",
    "third-party libraries to add new features and functionality.\n",
    "\n",
    "Easy to Use: Flask is easy to learn and use, making it an ideal choice for beginners and developers who \n",
    "want to build simple web applications quickly.\n",
    "\n",
    "Flexible: Flask provides a high level of flexibility, allowing developers to choose the components they \n",
    "want to use and how they want to use them.\n",
    "\n",
    "Large Community: Flask has a large community of developers who contribute to its development and provide \n",
    "support through various forums and resources.\n",
    "\n",
    "Testing Support: Flask provides a built-in testing framework, making it easier for developers to write and \n",
    "run tests for their applications.\n",
    "\n",
    "Template Support: Flask provides built-in support for templating, allowing developers to easily create \n",
    "dynamic HTML pages with minimal coding.\n",
    "\n",
    "Overall, Flask is a powerful framework that can help developers build simple web applications quickly and \n",
    "efficiently. Its flexibility, ease of use, and large community make it an ideal choice for developers of \n",
    "all skill levels."
   ]
  },
  {
   "cell_type": "code",
   "execution_count": 2,
   "id": "bf1c1d15-6fe1-458c-9c4c-485f58f852ec",
   "metadata": {},
   "outputs": [],
   "source": [
    "# Q2. Create a simple Flask application to display ‘Hello World!!’. Attach the screenshot of the output in\n",
    "# Jupyter Notebook."
   ]
  },
  {
   "cell_type": "code",
   "execution_count": null,
   "id": "fc9d3a51-9947-4ecc-8c95-8fb184979977",
   "metadata": {},
   "outputs": [],
   "source": [
    "# Unfortunately, as an AI language model, I cannot attach a screenshot in Jupyter Notebook. However, I can \n",
    "# provide you with the code for a simple Flask application that displays \"Hello World!!\". Here's how you can\n",
    "# do it:\n",
    "\n",
    "# First, you need to install Flask. You can install it by running the following command in your terminal:\n",
    "\n",
    "# !pip install Flask\n",
    "\n",
    "# Once Flask is installed, create a new Python file and add the following code:\n",
    "\n",
    "from flask import Flask\n",
    "\n",
    "app = Flask(__name__)\n",
    "\n",
    "@app.route('/')\n",
    "def hello():\n",
    "    return 'Hello World!!'\n",
    "\n",
    "if __name__ == '__main__':\n",
    "    app.run()\n",
    "    \n",
    "# Save the file with a .py extension, for example, app.py.\n",
    "\n",
    "# Now, run the app by executing the following command in your terminal:\n",
    "\n",
    "\n",
    "!python app.py\n",
    "\n",
    "# This will start the Flask server and you should see a message that says \"Running on http://127.0.0.1:5000/\".\n",
    "# Open your web browser and go to the URL http://127.0.0.1:5000/ or http://localhost:5000/ and you should see\n",
    "# \"Hello World!!\" displayed on the page.\n",
    "\n",
    "# That's it! You have successfully created a simple Flask application that displays \"Hello World!!\"."
   ]
  },
  {
   "cell_type": "code",
   "execution_count": 3,
   "id": "71cde1aa-d304-4726-ab09-43d67a9fd2ba",
   "metadata": {},
   "outputs": [],
   "source": [
    "# Q3. What is App routing in Flask? Why do we use app routes?"
   ]
  },
  {
   "cell_type": "code",
   "execution_count": null,
   "id": "424c10c5-3e53-4bca-97fd-9ad65c26ff52",
   "metadata": {},
   "outputs": [],
   "source": [
    "In Flask, app routing refers to the process of binding URLs to functions that will be executed when the \n",
    "corresponding URL is requested by the client. It is the mechanism that allows Flask to match incoming \n",
    "requests with the appropriate view function.\n",
    "\n",
    "To define a route in Flask, you use the @app.route() decorator. The decorator takes a URL pattern as its \n",
    "argument and binds it to the decorated function. Here's an example:\n",
    "\n",
    "\n",
    "@app.route('/')\n",
    "def index():\n",
    "    return 'Hello, World!'\n",
    "\n",
    "In this example, we define a route for the root URL (/) and bind it to the index() function. When a client \n",
    "requests the root URL, Flask will invoke the index() function and return the string \"Hello, World!\" as the \n",
    "response.\n",
    "\n",
    "App routing is an essential part of building web applications in Flask because it allows you to map URLs to\n",
    "specific functions that handle the logic for that URL. It makes it easy to organize your code and keep it \n",
    "maintainable. By defining routes, you can create different endpoints for your application that perform \n",
    "different tasks, such as rendering templates, processing forms, or returning JSON responses.\n",
    "\n",
    "App routes are used to create the structure of your web application. It helps in creating a clean and \n",
    "organized URL structure that makes it easy for users to understand and navigate your application. By using \n",
    "app routes, you can also make your application more SEO-friendly by providing meaningful URLs for your \n",
    "content. Additionally, app routes make it easy to test your application by allowing you to call specific \n",
    "functions directly and verify their behavior."
   ]
  },
  {
   "cell_type": "code",
   "execution_count": 4,
   "id": "35a73bd4-5282-4cd3-8484-14357e51809e",
   "metadata": {},
   "outputs": [],
   "source": [
    "# Q4. Create a “/welcome” route to display the welcome message “Welcome to ABC Corporation” and a “/”\n",
    "# route to show the following details:\n",
    "# Company Name: ABC Corporation\n",
    "# Location: India\n",
    "# Contact Detail: 999-999-9999\n",
    "# Attach the screenshot of the output in Jupyter Notebook."
   ]
  },
  {
   "cell_type": "code",
   "execution_count": null,
   "id": "2a9e5042-28a4-4beb-acdb-5d6eebda39b3",
   "metadata": {},
   "outputs": [],
   "source": [
    "from flask import Flask\n",
    "\n",
    "app = Flask(__name__)\n",
    "\n",
    "@app.route('/welcome')\n",
    "def welcome():\n",
    "    return 'Welcome to ABC Corporation'\n",
    "\n",
    "@app.route('/')\n",
    "def index():\n",
    "    return 'Company Name: ABC Corporation<br>Location: India<br>Contact Detail: 999-999-9999'\n",
    "\n",
    "if __name__ == '__main__':\n",
    "    app.run()\n"
   ]
  },
  {
   "cell_type": "code",
   "execution_count": 5,
   "id": "94d3bbfc-b5c1-497f-95d4-c5594aee7b9c",
   "metadata": {},
   "outputs": [],
   "source": [
    "# Q5. What function is used in Flask for URL Building? Write a Python code to demonstrate the working of the\n",
    "# url_for() function."
   ]
  },
  {
   "cell_type": "code",
   "execution_count": 6,
   "id": "1dce51cf-2168-410b-b47e-6a2927823d29",
   "metadata": {},
   "outputs": [
    {
     "ename": "ModuleNotFoundError",
     "evalue": "No module named 'flask'",
     "output_type": "error",
     "traceback": [
      "\u001b[0;31m---------------------------------------------------------------------------\u001b[0m",
      "\u001b[0;31mModuleNotFoundError\u001b[0m                       Traceback (most recent call last)",
      "Cell \u001b[0;32mIn[6], line 1\u001b[0m\n\u001b[0;32m----> 1\u001b[0m \u001b[38;5;28;01mfrom\u001b[39;00m \u001b[38;5;21;01mflask\u001b[39;00m \u001b[38;5;28;01mimport\u001b[39;00m Flask, url_for\n\u001b[1;32m      3\u001b[0m app \u001b[38;5;241m=\u001b[39m Flask(\u001b[38;5;18m__name__\u001b[39m)\n\u001b[1;32m      5\u001b[0m \u001b[38;5;129m@app\u001b[39m\u001b[38;5;241m.\u001b[39mroute(\u001b[38;5;124m'\u001b[39m\u001b[38;5;124m/\u001b[39m\u001b[38;5;124m'\u001b[39m)\n\u001b[1;32m      6\u001b[0m \u001b[38;5;28;01mdef\u001b[39;00m \u001b[38;5;21mindex\u001b[39m():\n",
      "\u001b[0;31mModuleNotFoundError\u001b[0m: No module named 'flask'"
     ]
    }
   ],
   "source": [
    "from flask import Flask, url_for\n",
    "\n",
    "app = Flask(__name__)\n",
    "\n",
    "@app.route('/')\n",
    "def index():\n",
    "    return 'Hello, World!'\n",
    "\n",
    "@app.route('/user/<username>')\n",
    "def user_profile(username):\n",
    "    return f'Hello, {username}!'\n",
    "\n",
    "@app.route('/login')\n",
    "def login():\n",
    "    return f'<a href=\"{url_for(\"user_profile\", username=\"John Doe\")}\">Login</a>'\n",
    "\n",
    "if __name__ == '__main__':\n",
    "    app.run()\n"
   ]
  },
  {
   "cell_type": "code",
   "execution_count": null,
   "id": "9ab785be-a0a3-4870-bcb1-cb1a1b9da0b1",
   "metadata": {},
   "outputs": [],
   "source": []
  }
 ],
 "metadata": {
  "kernelspec": {
   "display_name": "Python 3 (ipykernel)",
   "language": "python",
   "name": "python3"
  },
  "language_info": {
   "codemirror_mode": {
    "name": "ipython",
    "version": 3
   },
   "file_extension": ".py",
   "mimetype": "text/x-python",
   "name": "python",
   "nbconvert_exporter": "python",
   "pygments_lexer": "ipython3",
   "version": "3.10.8"
  }
 },
 "nbformat": 4,
 "nbformat_minor": 5
}
