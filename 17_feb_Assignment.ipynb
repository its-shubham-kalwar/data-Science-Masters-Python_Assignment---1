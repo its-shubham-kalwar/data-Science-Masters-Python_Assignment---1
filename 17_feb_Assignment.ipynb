{
 "cells": [
  {
   "cell_type": "code",
   "execution_count": 1,
   "id": "0335d586-aab4-411d-82a8-de2fbd822f03",
   "metadata": {},
   "outputs": [],
   "source": [
    "# Q1. What is MongoDB? Explain non-relational databases in short. In which scenarios it is preferred to use\n",
    "# MongoDB over SQL databases?"
   ]
  },
  {
   "cell_type": "code",
   "execution_count": null,
   "id": "f68fe675-90f0-4fe1-9a71-903fdeed3603",
   "metadata": {},
   "outputs": [],
   "source": [
    "MongoDB is a popular open-source document-oriented NoSQL database system. It stores data in a flexible, \n",
    "semi-structured format called BSON (Binary JSON), which allows for easy and efficient data storage and \n",
    "retrieval.\n",
    "\n",
    "Non-relational databases, also known as NoSQL databases, are databases that do not use a traditional \n",
    "relational data model based on tables with strict schemas and structured relationships between them. \n",
    "Instead, they allow for more flexible and dynamic data models that can store and manipulate data in a \n",
    "variety of formats, such as key-value pairs, documents, and graphs.\n",
    "\n",
    "There are several scenarios where MongoDB may be preferred over traditional SQL databases:\n",
    "\n",
    "When you have large amounts of unstructured or semi-structured data that may not fit neatly into the rigid \n",
    "structure of a traditional SQL database.\n",
    "\n",
    "When you need high scalability and performance, as MongoDB is designed to scale horizontally by adding more\n",
    "nodes to a cluster.\n",
    "\n",
    "When you need to support agile development and frequent schema changes, as MongoDB's flexible document model\n",
    "allows for changes to be made more easily than with a traditional SQL database.\n",
    "\n",
    "When you need to support geospatial data, as MongoDB includes built-in support for geospatial queries and \n",
    "indexes.\n",
    "\n",
    "Overall, MongoDB is a popular choice for modern, highly scalable web applications that require flexible data\n",
    "models and support for large amounts of unstructured data. However, it may not be the best choice for all \n",
    "applications, and it is important to carefully consider your specific requirements before choosing a \n",
    "database solution."
   ]
  },
  {
   "cell_type": "code",
   "execution_count": 2,
   "id": "15c34d59-43f3-4a5f-8a2d-ffaabea40cba",
   "metadata": {},
   "outputs": [],
   "source": [
    "# Q2. State and Explain the features of MongoDB."
   ]
  },
  {
   "cell_type": "code",
   "execution_count": null,
   "id": "8d87688d-10d4-47a3-b294-3da4dcb10d5b",
   "metadata": {},
   "outputs": [],
   "source": [
    "MongoDB is a popular NoSQL document-oriented database that provides several features that make it a \n",
    "preferred choice for many modern applications. Here are some of the key features of MongoDB:\n",
    "\n",
    "Document-oriented data model: MongoDB stores data in flexible, JSON-like documents, which allows for more \n",
    "natural representation of data and easier handling of unstructured or semi-structured data.\n",
    "\n",
    "High performance: MongoDB is designed to provide high performance, with support for horizontal scaling and \n",
    "distributed architectures. It can handle large amounts of data and provides fast read and write performance.\n",
    "\n",
    "Flexible schema: MongoDB's document model allows for flexible schema design, which makes it easier to handle\n",
    "changes in data structures over time. This flexibility can be especially useful in agile development \n",
    "environments where requirements may change frequently.\n",
    "\n",
    "Indexing and querying: MongoDB provides powerful indexing and querying capabilities, including support for \n",
    "geospatial queries, text search, and aggregation pipelines. This makes it easier to retrieve and analyze \n",
    "data efficiently.\n",
    "\n",
    "Automatic sharding: MongoDB provides automatic sharding, which allows for horizontal scaling by distributing\n",
    "data across multiple nodes. This enables high scalability and availability, making it suitable for large and\n",
    "rapidly growing applications.\n",
    "\n",
    "Built-in replication: MongoDB supports automatic replication, which ensures data availability and durability.\n",
    "Replication provides high availability and fault tolerance, making it easier to handle failures and recover \n",
    "from disasters.\n",
    "\n",
    "Overall, MongoDB provides a flexible and scalable database solution that can handle a variety of use cases, \n",
    "including large-scale web applications, mobile applications, and analytics. Its powerful features and \n",
    "flexible document model make it an attractive choice for modern applications that require agility, \n",
    "scalability, and performance."
   ]
  },
  {
   "cell_type": "code",
   "execution_count": 1,
   "id": "fe44bc1d-3919-4420-8c95-b192bed56ad5",
   "metadata": {},
   "outputs": [],
   "source": [
    "# Q3. Write a code to connect MongoDB to Python. Also, create a database and a collection in MongoDB."
   ]
  },
  {
   "cell_type": "code",
   "execution_count": null,
   "id": "9b1705a4-8772-4901-b6a1-6a4218c7aa9c",
   "metadata": {},
   "outputs": [],
   "source": [
    "# Sure, here's an example Python code snippet to connect to MongoDB and create a database and collection:\n",
    "\n",
    "\n",
    "import pymongo\n",
    "\n",
    "# connect to MongoDB server\n",
    "client = pymongo.MongoClient(\"mongodb://localhost:27017/\")\n",
    "\n",
    "# create a new database\n",
    "db = client[\"mydatabase\"]\n",
    "\n",
    "# create a new collection in the database\n",
    "mycol = db[\"customers\"]\n",
    "\n",
    "# In this example, we use the pymongo library to connect to the local MongoDB server running on the default \n",
    "# port (27017). Then we create a new database named \"mydatabase\" using the client object. Finally, we create \n",
    "# a new collection named \"customers\" in the \"mydatabase\" database using the mycol object.\n",
    "\n",
    "# Note that this code assumes that you have MongoDB installed and running locally on your machine. If you are\n",
    "# connecting to a remote MongoDB server, you will need to replace \"mongodb://localhost:27017/\" with the \n",
    "# appropriate connection string."
   ]
  },
  {
   "cell_type": "code",
   "execution_count": null,
   "id": "ba5dc0d2-ed0a-476d-a9fe-aa0e6bf7b736",
   "metadata": {},
   "outputs": [],
   "source": [
    "# Q4. Using the database and the collection created in question number 3, write a code to insert one record,\n",
    "# and insert many records. Use the find() and find_one() methods to print the inserted record."
   ]
  },
  {
   "cell_type": "code",
   "execution_count": 1,
   "id": "20cf5568-4023-4ec6-a44f-f478d73a3fb3",
   "metadata": {},
   "outputs": [
    {
     "ename": "ModuleNotFoundError",
     "evalue": "No module named 'pymongo'",
     "output_type": "error",
     "traceback": [
      "\u001b[0;31m---------------------------------------------------------------------------\u001b[0m",
      "\u001b[0;31mModuleNotFoundError\u001b[0m                       Traceback (most recent call last)",
      "Cell \u001b[0;32mIn[1], line 1\u001b[0m\n\u001b[0;32m----> 1\u001b[0m \u001b[38;5;28;01mimport\u001b[39;00m \u001b[38;5;21;01mpymongo\u001b[39;00m\n\u001b[1;32m      3\u001b[0m \u001b[38;5;66;03m# Connect to MongoDB\u001b[39;00m\n\u001b[1;32m      4\u001b[0m client \u001b[38;5;241m=\u001b[39m pymongo\u001b[38;5;241m.\u001b[39mMongoClient(\u001b[38;5;124m\"\u001b[39m\u001b[38;5;124mmongodb://localhost:27017/\u001b[39m\u001b[38;5;124m\"\u001b[39m)\n",
      "\u001b[0;31mModuleNotFoundError\u001b[0m: No module named 'pymongo'"
     ]
    }
   ],
   "source": [
    "import pymongo\n",
    "\n",
    "# Connect to MongoDB\n",
    "client = pymongo.MongoClient(\"mongodb://localhost:27017/\")\n",
    "\n",
    "# Create database and collection\n",
    "db = client[\"mydatabase\"]\n",
    "mycol = db[\"customers\"]\n",
    "\n",
    "# Insert one record\n",
    "mydict = { \"name\": \"John\", \"address\": \"Highway 37\" }\n",
    "mycol.insert_one(mydict)\n",
    "\n",
    "# Insert many records\n",
    "mylist = [\n",
    "  { \"name\": \"Peter\", \"address\": \"Lowstreet 27\"},\n",
    "  { \"name\": \"Amy\", \"address\": \"Apple st 652\"},\n",
    "  { \"name\": \"Hannah\", \"address\": \"Mountain 21\"},\n",
    "  { \"name\": \"Michael\", \"address\": \"Valley 345\"},\n",
    "  { \"name\": \"Sandy\", \"address\": \"Ocean blvd 2\"},\n",
    "  { \"name\": \"Betty\", \"address\": \"Green Grass 1\"},\n",
    "  { \"name\": \"Richard\", \"address\": \"Sky st 331\"},\n",
    "  { \"name\": \"Susan\", \"address\": \"One way 98\"},\n",
    "  { \"name\": \"Vicky\", \"address\": \"Yellow Garden 2\"},\n",
    "  { \"name\": \"Ben\", \"address\": \"Park Lane 38\"},\n",
    "  { \"name\": \"William\", \"address\": \"Central st 954\"},\n",
    "  { \"name\": \"Chuck\", \"address\": \"Main Road 989\"},\n",
    "  { \"name\": \"Viola\", \"address\": \"Sideway 1633\"}\n",
    "]\n",
    "mycol.insert_many(mylist)\n",
    "\n",
    "# Find one record\n",
    "x = mycol.find_one()\n",
    "print(x)\n",
    "\n",
    "# Find all records\n",
    "for x in mycol.find():\n",
    "  print(x)\n"
   ]
  },
  {
   "cell_type": "code",
   "execution_count": null,
   "id": "0bf9b8dd-38ea-46b5-9b5a-b46de25446e4",
   "metadata": {},
   "outputs": [],
   "source": [
    "# Q5. Explain how you can use the find() method to query the MongoDB database. Write a simple code to\n",
    "# demonstrate this."
   ]
  },
  {
   "cell_type": "code",
   "execution_count": null,
   "id": "50bce1b1-dea6-4ae1-9a03-1429a80f9d0d",
   "metadata": {},
   "outputs": [],
   "source": [
    "import pymongo\n",
    "\n",
    "# Connect to MongoDB\n",
    "client = pymongo.MongoClient(\"mongodb://localhost:27017/\")\n",
    "\n",
    "# Access database and collection\n",
    "db = client[\"mydatabase\"]\n",
    "mycol = db[\"customers\"]\n",
    "\n",
    "# Find documents that match a specific criteria\n",
    "myquery = { \"address\": \"Park Lane 38\" }\n",
    "mydocs = mycol.find(myquery)\n",
    "\n",
    "# Iterate over the cursor object to access the documents\n",
    "for doc in mydocs:\n",
    "    print(doc)\n"
   ]
  },
  {
   "cell_type": "code",
   "execution_count": null,
   "id": "969a0a5b-08b0-4ff1-9159-f95fab8a52dc",
   "metadata": {},
   "outputs": [],
   "source": [
    "# Q6. Explain the sort() method. Give an example to demonstrate sorting in MongoDB."
   ]
  },
  {
   "cell_type": "code",
   "execution_count": null,
   "id": "b131ef14-9fa8-4b42-92d8-9d6d62c39f0b",
   "metadata": {},
   "outputs": [],
   "source": [
    "# The sort() method in MongoDB is used to sort the documents in a collection based on one or more fields. \n",
    "# This method takes one argument, which is a dictionary object that specifies the field(s) to sort on and the\n",
    "# sort order (ascending or descending).\n",
    "\n",
    "# Here's the basic syntax of the sort() method in MongoDB:\n",
    "\n",
    "\n",
    "db.collection.find().sort({field: sort_order})\n",
    "\n",
    "# In this syntax, db.collection.find() is used to retrieve documents from the collection, and \n",
    "# sort({field: sort_order}) is used to sort those documents based on the specified field and sort order.\n",
    "\n",
    "# Here's an example code that demonstrates how to use the sort() method in MongoDB:\n",
    "\n",
    "\n",
    "import pymongo\n",
    "\n",
    "# Connect to MongoDB\n",
    "client = pymongo.MongoClient(\"mongodb://localhost:27017/\")\n",
    "\n",
    "# Access database and collection\n",
    "db = client[\"mydatabase\"]\n",
    "mycol = db[\"customers\"]\n",
    "\n",
    "# Sort documents by name field in ascending order\n",
    "mydocs = mycol.find().sort(\"name\")\n",
    "\n",
    "# Iterate over the cursor object to access the sorted documents\n",
    "for doc in mydocs:\n",
    "    print(doc)\n",
    "    \n",
    "# In this example, we connect to the MongoDB server and access the \"mydatabase\" database and \"customers\" \n",
    "# collection. We then use the find() method to retrieve all the documents in the collection, and pass the \n",
    "# result to the sort() method with the field \"name\" and the default sort order (which is ascending).\n",
    "\n",
    "# The sort() method returns a cursor object that we can iterate over using a for loop, and the documents will\n",
    "# be printed out in ascending order based on the \"name\" field.\n",
    "\n",
    "# Note that we can also sort on multiple fields by passing a list of field names and sort orders to the \n",
    "# sort() method. For example, sort([(\"field1\", 1), (\"field2\", -1)]) would sort the documents first by \n",
    "# \"field1\" in ascending order, and then by \"field2\" in descending order."
   ]
  },
  {
   "cell_type": "code",
   "execution_count": 2,
   "id": "9781e5c0-e18c-48af-8c44-b1e2948ec64c",
   "metadata": {},
   "outputs": [],
   "source": [
    "# Q7. Explain why delete_one(), delete_many(), and drop() is used."
   ]
  },
  {
   "cell_type": "code",
   "execution_count": null,
   "id": "df40bfc0-4c86-46df-a930-40bd9c57df98",
   "metadata": {},
   "outputs": [],
   "source": [
    "In MongoDB, the delete_one() and delete_many() methods are used to remove documents from a collection, \n",
    "while the drop() method is used to remove an entire collection from a database.\n",
    "\n",
    "Here's an explanation of why and when you would use each of these methods:\n",
    "\n",
    "delete_one(): This method is used to delete a single document that matches a specific filter criteria. For \n",
    "example, if you want to delete a customer document with a specific _id value, you would use the delete_one()\n",
    "method with a filter that matches that _id. This method is useful when you only need to remove a single \n",
    "document.\n",
    "\n",
    "delete_many(): This method is used to delete multiple documents that match a specific filter criteria. For \n",
    "example, if you want to delete all customer documents that have a \"status\" field with the value \"inactive\", \n",
    "you would use the delete_many() method with a filter that matches that criteria. This method is useful when\n",
    "you need to remove multiple documents at once.\n",
    "\n",
    "drop(): This method is used to completely remove a collection from a database. This is useful when you no \n",
    "longer need a collection, or when you want to start fresh with a new collection. Note that this method \n",
    "permanently deletes all the documents in the collection, so use it with caution.\n",
    "\n",
    "It's important to note that when using the delete_one() or delete_many() methods, the documents are not \n",
    "immediately removed from the database. Instead, they are marked for deletion, and then removed during the\n",
    "next MongoDB background task. This means that the delete_one() and delete_many() methods return a \n",
    "DeleteResult object that contains information about the number of documents that were matched and deleted.\n",
    "\n",
    "In summary, the delete_one(), delete_many(), and drop() methods are used in MongoDB to remove documents or\n",
    "collections from a database, depending on the specific use case."
   ]
  }
 ],
 "metadata": {
  "kernelspec": {
   "display_name": "Python 3 (ipykernel)",
   "language": "python",
   "name": "python3"
  },
  "language_info": {
   "codemirror_mode": {
    "name": "ipython",
    "version": 3
   },
   "file_extension": ".py",
   "mimetype": "text/x-python",
   "name": "python",
   "nbconvert_exporter": "python",
   "pygments_lexer": "ipython3",
   "version": "3.10.8"
  }
 },
 "nbformat": 4,
 "nbformat_minor": 5
}
