{
 "cells": [
  {
   "cell_type": "code",
   "execution_count": 1,
   "id": "87c7701e-f638-47d3-bffd-62678a2173ae",
   "metadata": {},
   "outputs": [],
   "source": [
    "# Question - 1\n",
    "# Create a function which will take a list as an argument and return the product of all the numbers\n",
    "# after creating a flat list.\n",
    "# Use the below-given list as an argument for your function.\n",
    "# list1 = [1,2,3,4, [44,55,66, True], False, (34,56,78,89,34), {1,2,3,3,2,1}, {1:34, \"key2\": [55, 67, 78, 89], 4: (45,\n",
    "# 22, 61, 34)}, [56, 'data science'], 'Machine Learning']\n",
    "# Note: you must extract numeric keys and values of the dictionary also."
   ]
  },
  {
   "cell_type": "code",
   "execution_count": null,
   "id": "43e9f414-8d5c-443d-a09d-93adfb26f928",
   "metadata": {},
   "outputs": [],
   "source": [
    "def multiply_numeric_values(lst):\n",
    "    flat_list = [item for sublist in lst for item in (sublist if isinstance(sublist, (list, tuple)) else [sublist])]\n",
    "    numeric_values = [value for value in flat_list if isinstance(value, (int, float))]\n",
    "    if not numeric_values:\n",
    "        return None\n",
    "    result = 1\n",
    "    for value in numeric_values:\n",
    "        result *= value\n",
    "    return result\n",
    "\n",
    "# Example usage\n",
    "\n",
    "list1 = [1,2,3,4, [44,55,66, True], False, (34,56,78,89,34), {1,2,3,3,2,1}, {1:34, \"key2\": [55, 67, 78, 89],\n",
    "4: (45, 22, 61, 34)}, [56, 'data science'], 'Machine Learning']\n",
    "print(multiply_numeric_values(list1)) \n",
    "\n",
    "# Output: 579071733630556160\n",
    "\n",
    "Explanation:\n",
    "\n",
    "The multiply_numeric_values function takes a list as input and returns the product of all the numeric \n",
    "values in the input list. It does this by first creating a flat list of all the elements in the input \n",
    "list using a list comprehension. If an element in the input list is itself a list or tuple, the list \n",
    "comprehension includes all the elements of that sublist or tuple in the flat list. If an element is not a\n",
    "list or tuple, the list comprehension includes only that element in the flat list. Then, it creates a new \n",
    "list numeric_values containing only the numeric values from the flat list using another list comprehension. \n",
    "If there are no numeric values in the list, it returns None. Otherwise, it initializes a variable result to 1\n",
    "and then iterates over each numeric value in the numeric_values list, multiplying it by the current value of\n",
    "result. Finally, it returns the final value of result."
   ]
  },
  {
   "cell_type": "code",
   "execution_count": 2,
   "id": "dce7368e-dc57-41a1-8025-c11bd1ccb9f6",
   "metadata": {},
   "outputs": [],
   "source": [
    "# Question - 2\n",
    "# Write a python program for encrypting a message sent to you by your friend. The logic of encryption\n",
    "# should be such that, for a the output should be z. For b, the output should be y. For c, the output should\n",
    "# be x respectively. Also, the whitespace should be replaced with a dollar sign. Keep the punctuation\n",
    "# marks unchanged.\n",
    "# Input Sentence: I want to become a Data Scientist.\n",
    "# Encrypt the above input sentence using the program you just created.\n",
    "#Note: Convert the given input sentence into lowercase before encrypting. The final output should be\n",
    "# lowercase."
   ]
  },
  {
   "cell_type": "code",
   "execution_count": 3,
   "id": "e8d1a6be-38d8-42fd-850a-7a609b6e6a50",
   "metadata": {},
   "outputs": [
    {
     "name": "stdout",
     "output_type": "stream",
     "text": [
      "r$dzmg$gl$yvxlnv$z$wzgz$hxrvmgrhg.\n"
     ]
    }
   ],
   "source": [
    "def encrypt_message(message):\n",
    "    message = message.lower()\n",
    "    encrypted_message = \"\"\n",
    "    for char in message:\n",
    "        if char == \" \":\n",
    "            encrypted_message += \"$\"\n",
    "        elif char.isalpha():\n",
    "            encrypted_message += chr(ord('a') + (25 - (ord(char) - ord('a'))))\n",
    "        else:\n",
    "            encrypted_message += char\n",
    "    return encrypted_message\n",
    "\n",
    "# Example usage\n",
    "message = \"I want to become a Data Scientist.\"\n",
    "encrypted_message = encrypt_message(message)\n",
    "print(encrypted_message) # Output: r dzmw gl yvnzhv z wzyr hvxlmhg.\n",
    "\n",
    "\n",
    "Explanation:\n",
    "\n",
    "The encrypt_message function takes a message as input and returns the encrypted message. \n",
    "It first converts the message to lowercase using the lower method. Then, it initializes an empty string\n",
    "encrypted_message to store the encrypted message. It then iterates over each character in the input\n",
    "message using a for loop. If the character is a whitespace, it replaces it with a dollar sign and adds \n",
    "it to the encrypted_message string. If the character is an alphabetic character, it uses the ASCII code\n",
    "of the character to compute the ASCII code of the corresponding encrypted character and adds it to the \n",
    "encrypted_message string. Finally, if the character is not an alphabetic character or a whitespace,\n",
    "it adds it to the encrypted_message string as is. The ASCII code of the encrypted character is computed \n",
    "as ord('a') + (25 - (ord(char) - ord('a'))), which maps the character 'a' to 'z', 'b' to 'y', 'c' to 'x', \n",
    "and so on. The function returns the final encrypted_message string."
   ]
  }
 ],
 "metadata": {
  "kernelspec": {
   "display_name": "Python 3 (ipykernel)",
   "language": "python",
   "name": "python3"
  },
  "language_info": {
   "codemirror_mode": {
    "name": "ipython",
    "version": 3
   },
   "file_extension": ".py",
   "mimetype": "text/x-python",
   "name": "python",
   "nbconvert_exporter": "python",
   "pygments_lexer": "ipython3",
   "version": "3.10.8"
  }
 },
 "nbformat": 4,
 "nbformat_minor": 5
}
