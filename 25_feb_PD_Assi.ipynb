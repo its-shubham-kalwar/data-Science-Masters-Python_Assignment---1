{
 "cells": [
  {
   "cell_type": "code",
   "execution_count": 7,
   "id": "fced8686-6d4f-4c09-84f7-1c559628b03a",
   "metadata": {},
   "outputs": [],
   "source": [
    "import pandas as pd\n",
    "course_name = ['Data Science', 'Machine Learning', 'Big Data', 'Data Engineer']\n",
    "duration = [2,3,6,4]\n",
    "df = pd.DataFrame(data = {'course_name' :course_name, 'duration' : duration})\n",
    "# Q1. Write a code to print the data present in the second row of the dataframe, df."
   ]
  },
  {
   "cell_type": "code",
   "execution_count": 14,
   "id": "7210c478-e907-4910-a02f-415dae2d2a49",
   "metadata": {},
   "outputs": [
    {
     "name": "stdout",
     "output_type": "stream",
     "text": [
      "course_name    Big Data\n",
      "duration              6\n",
      "Name: 2, dtype: object\n"
     ]
    }
   ],
   "source": [
    "print(df.iloc[2])"
   ]
  },
  {
   "cell_type": "code",
   "execution_count": 15,
   "id": "23604ff7-9c8a-41b5-894c-3a98becee256",
   "metadata": {},
   "outputs": [],
   "source": [
    "# Q2. What is the difference between the functions loc and iloc in pandas.DataFrame?"
   ]
  },
  {
   "cell_type": "code",
   "execution_count": null,
   "id": "7faee552-4349-44ad-87d4-5b52be8e01b0",
   "metadata": {},
   "outputs": [],
   "source": [
    "# loc and iloc are two commonly used functions in pandas DataFrame to select subsets of rows and columns from the DataFrame.\n",
    "\n",
    "# loc is used to select rows and columns by label/index. The syntax of the loc function is as follows:\n",
    "\n",
    "\n",
    "df.loc[row_label, column_label]\n",
    "\n",
    "# Here, row_label refers to the label(s) of the row(s) to be selected, and column_label refers to the label(s) of the \n",
    "# column(s) to be selected. You can also pass a range of labels to select a subset of rows or columns.\n",
    "\n",
    "# iloc, on the other hand, is used to select rows and columns by integer position. The syntax of the iloc function is as \n",
    "# follows:\n",
    "\n",
    "\n",
    "df.iloc[row_index, column_index]\n",
    "\n",
    "# Here, row_index refers to the integer index(es) of the row(s) to be selected, and column_index refers to the integer \n",
    "# index(es) of the column(s) to be selected. You can also pass a range of integer indexes to select a subset of rows or \n",
    "# columns.\n",
    "\n",
    "# In summary, the main difference between loc and iloc is that loc selects rows and columns based on their labels or indexes, \n",
    "# whereas iloc selects rows and columns based on their integer positions"
   ]
  },
  {
   "cell_type": "code",
   "execution_count": 16,
   "id": "74f1c7be-6bf7-4a18-9fe0-d12eff9f8734",
   "metadata": {},
   "outputs": [],
   "source": [
    "# Q3. Reindex the given dataframe using a variable, reindex = [3,0,1,2] and store it in the variable, new_df\n",
    "# then find the output for both new_df.loc[2] and new_df.iloc[2].\n",
    "# Did you observe any difference in both the outputs? If so then explain it."
   ]
  },
  {
   "cell_type": "code",
   "execution_count": 17,
   "id": "9a3c5c1f-83a6-4c2c-9b64-a941ef39de70",
   "metadata": {},
   "outputs": [
    {
     "name": "stdout",
     "output_type": "stream",
     "text": [
      "Original DataFrame:\n",
      "         course_name  duration\n",
      "0      Data Science         2\n",
      "1  Machine Learning         3\n",
      "2          Big Data         6\n",
      "3     Data Engineer         4\n",
      "\n",
      "New DataFrame:\n",
      "         course_name  duration\n",
      "3     Data Engineer         4\n",
      "0      Data Science         2\n",
      "1  Machine Learning         3\n",
      "2          Big Data         6\n",
      "\n",
      "Output for new_df.loc[2]:\n",
      " course_name    Big Data\n",
      "duration              6\n",
      "Name: 2, dtype: object\n",
      "\n",
      "Output for new_df.iloc[2]:\n",
      " course_name    Machine Learning\n",
      "duration                      3\n",
      "Name: 1, dtype: object\n"
     ]
    }
   ],
   "source": [
    "import pandas as pd\n",
    "\n",
    "course_name = ['Data Science', 'Machine Learning', 'Big Data', 'Data Engineer']\n",
    "duration = [2, 3, 6, 4]\n",
    "df = pd.DataFrame(data={'course_name': course_name, 'duration': duration})\n",
    "print(\"Original DataFrame:\\n\", df)\n",
    "\n",
    "# Reindexing the dataframe\n",
    "reindex = [3, 0, 1, 2]\n",
    "new_df = df.reindex(reindex)\n",
    "print(\"\\nNew DataFrame:\\n\", new_df)\n",
    "\n",
    "# Output for new_df.loc[2] and new_df.iloc[2]\n",
    "print(\"\\nOutput for new_df.loc[2]:\\n\", new_df.loc[2])\n",
    "print(\"\\nOutput for new_df.iloc[2]:\\n\", new_df.iloc[2])\n"
   ]
  },
  {
   "cell_type": "code",
   "execution_count": null,
   "id": "cfdf37b9-4639-4c93-aff9-5f7ce8053860",
   "metadata": {},
   "outputs": [],
   "source": [
    "# Yes, there is a difference between the output of new_df.loc[2] and new_df.iloc[2].\n",
    "\n",
    "# new_df.loc[2] returns the row with label/index 2, which is 'Big Data' course and its duration, since we have reindexed \n",
    "# the dataframe based on a new index, so 2nd label now represents the 'Big Data' course, which has a duration of 6.\n",
    "\n",
    "# On the other hand, new_df.iloc[2] returns the row at integer position 2, which is 'Machine Learning' course and its\n",
    "# duration, because the original position 2 in the DataFrame was the row for 'Big Data', but due to reindexing, it is \n",
    "# now at position 3, and 'Machine Learning' is now at position 2."
   ]
  },
  {
   "cell_type": "code",
   "execution_count": 18,
   "id": "fb7a0961-7086-40de-9647-b010503946bc",
   "metadata": {},
   "outputs": [],
   "source": [
    "# Consider the below code to answer further questions:\n",
    "import pandas as pd\n",
    "import numpy as np\n",
    "columns = ['column_1', 'column_2', 'column_3', 'column_4', 'column_5', 'column_6']\n",
    "indices = [1,2,3,4,5,6]\n",
    "# Creating a dataframe:\n",
    "df1 = pd.DataFrame(np.random.rand(6,6), columns = columns, index = indices)"
   ]
  },
  {
   "cell_type": "code",
   "execution_count": null,
   "id": "63a04017-7746-4bf5-a1ed-f937417f8832",
   "metadata": {},
   "outputs": [],
   "source": [
    "# Q4. Write a code to find the following statistical measurements for the above dataframe df1:\n",
    "# (i) mean of each and every column present in the dataframe.\n",
    "# (ii) standard deviation of column, ‘column_2’"
   ]
  },
  {
   "cell_type": "code",
   "execution_count": 21,
   "id": "6fdadbad-31d4-49a8-b2a0-ea6139f14087",
   "metadata": {},
   "outputs": [
    {
     "name": "stderr",
     "output_type": "stream",
     "text": [
      "/opt/conda/lib/python3.10/site-packages/numpy/core/fromnumeric.py:3430: FutureWarning: In a future version, DataFrame.mean(axis=None) will return a scalar mean over the entire DataFrame. To retain the old behavior, use 'frame.mean(axis=0)' or just 'frame.mean()'\n",
      "  return mean(axis=axis, dtype=dtype, out=out, **kwargs)\n"
     ]
    },
    {
     "data": {
      "text/plain": [
       "column_1    0.429255\n",
       "column_2    0.647740\n",
       "column_3    0.506662\n",
       "column_4    0.550787\n",
       "column_5    0.459927\n",
       "column_6    0.466140\n",
       "dtype: float64"
      ]
     },
     "execution_count": 21,
     "metadata": {},
     "output_type": "execute_result"
    }
   ],
   "source": [
    "np.mean(df1)"
   ]
  },
  {
   "cell_type": "code",
   "execution_count": 22,
   "id": "76ed7a70-066b-4632-a092-f9ffee2bb150",
   "metadata": {},
   "outputs": [
    {
     "data": {
      "text/plain": [
       "column_1    0.429255\n",
       "column_2    0.647740\n",
       "column_3    0.506662\n",
       "column_4    0.550787\n",
       "column_5    0.459927\n",
       "column_6    0.466140\n",
       "dtype: float64"
      ]
     },
     "execution_count": 22,
     "metadata": {},
     "output_type": "execute_result"
    }
   ],
   "source": [
    "df1.mean()"
   ]
  },
  {
   "cell_type": "code",
   "execution_count": 25,
   "id": "9a77750c-75d9-489b-8998-19acaf72d475",
   "metadata": {},
   "outputs": [
    {
     "data": {
      "text/plain": [
       "0.301880080329468"
      ]
     },
     "execution_count": 25,
     "metadata": {},
     "output_type": "execute_result"
    }
   ],
   "source": [
    "df1['column_2'].std()"
   ]
  },
  {
   "cell_type": "code",
   "execution_count": 26,
   "id": "5298020f-d0e2-4668-82dc-9cb17a312005",
   "metadata": {},
   "outputs": [],
   "source": [
    "# Q5. Replace the data present in the second row of column, ‘column_2’ by a string variable then find the\n",
    "# mean of column, column_2.\n",
    "# If you are getting errors in executing it then explain why.\n",
    "# [Hint: To replace the data use df1.loc[] and equate this to string data of your choice.]"
   ]
  },
  {
   "cell_type": "code",
   "execution_count": 27,
   "id": "e1215857-63e4-4ba6-b2cf-480d3ebc3b1f",
   "metadata": {},
   "outputs": [
    {
     "name": "stdout",
     "output_type": "stream",
     "text": [
      "Mean of column 'column_2':  0.5303132243839745\n"
     ]
    }
   ],
   "source": [
    "# We cannot replace the data in column 'column_2' with a string variable as the datatype of the column is float. \n",
    "# If we try to replace it with a string, it will result in a type error.\n",
    "\n",
    "# However, we can replace the data in column 'column_2' with a float value or NaN, and then find the mean of the column.\n",
    "\n",
    "import pandas as pd\n",
    "import numpy as np\n",
    "\n",
    "# Create DataFrame\n",
    "columns = ['column_1', 'column_2', 'column_3', 'column_4', 'column_5', 'column_6']\n",
    "indices = [1,2,3,4,5,6]\n",
    "df1 = pd.DataFrame(np.random.rand(6,6), columns = columns, index = indices)\n",
    "\n",
    "# Replace the data in the second row of column 'column_2' with NaN\n",
    "df1.loc[2, 'column_2'] = np.nan\n",
    "\n",
    "# Find the mean of column 'column_2'\n",
    "mean_column_2 = df1['column_2'].mean()\n",
    "print(\"Mean of column 'column_2': \", mean_column_2)\n"
   ]
  },
  {
   "cell_type": "code",
   "execution_count": 28,
   "id": "6f00918d-cc01-4867-8189-62d7c4a9a99a",
   "metadata": {},
   "outputs": [],
   "source": [
    "# Q6. What do you understand about the windows function in pandas and list the types of windows\n",
    "# functions?"
   ]
  },
  {
   "cell_type": "code",
   "execution_count": null,
   "id": "e44849d4-8cba-4b13-bb06-72574a5172d7",
   "metadata": {},
   "outputs": [],
   "source": [
    "In pandas, windows function is used for calculating metrics that depend on a rolling window of values. \n",
    "It allows the user to perform calculations on a subset of data, which is defined by the size of the window \n",
    "and the shifting of the window over the data.\n",
    "\n",
    "The types of window functions in pandas are:\n",
    "\n",
    "Rolling window function: It defines a fixed-size window that rolls over the data and applies a function to each window.\n",
    "\n",
    "Expanding window function: It includes all the previous data points in the calculation and expands the window size as \n",
    "it moves along the data.\n",
    "\n",
    "Exponentially-weighted window function: It assigns exponentially decreasing weights to the data points as they move away \n",
    "from the current point, with the most recent data point having the highest weight.\n",
    "\n",
    "Rolling grouped window function: It allows for applying a rolling window function on grouped data based on one or more keys.\n",
    "\n",
    "Expanding grouped window function: It applies an expanding window function on grouped data based on one or more keys.\n",
    "\n",
    "Aggregating window function: It applies a function to a window and aggregates the results by a grouping variable, such as \n",
    "time or category."
   ]
  },
  {
   "cell_type": "code",
   "execution_count": 29,
   "id": "bd635d04-6df4-4863-b46e-c737d54acd9d",
   "metadata": {},
   "outputs": [],
   "source": [
    "# Q7. Write a code to print only the current month and year at the time of answering this question.\n",
    "# [Hint: Use pandas.datetime function]"
   ]
  },
  {
   "cell_type": "code",
   "execution_count": 33,
   "id": "b2bcff87-d933-45af-8a69-853b9e56b77d",
   "metadata": {},
   "outputs": [
    {
     "name": "stdout",
     "output_type": "stream",
     "text": [
      "Current month and year: April 2023\n"
     ]
    }
   ],
   "source": [
    "# Pandas has a Timestamp function that can be used to get the current date and time. Here's the code to print only \n",
    "# the current month and year:\n",
    "\n",
    "import pandas as pd\n",
    "\n",
    "current_time = pd.Timestamp.now()\n",
    "print(\"Current month and year:\", current_time.strftime(\"%B %Y\"))"
   ]
  },
  {
   "cell_type": "code",
   "execution_count": 34,
   "id": "1e1d4efd-7b34-4e2b-ade6-07a9e546b389",
   "metadata": {},
   "outputs": [],
   "source": [
    "# Q8. Write a Python program that takes in two dates as input (in the format YYYY-MM-DD) and\n",
    "# calculates the difference between them in days, hours, and minutes using Pandas time delta. The\n",
    "# program should prompt the user to enter the dates and display the result."
   ]
  },
  {
   "cell_type": "code",
   "execution_count": 35,
   "id": "b0283801-c3af-4c02-a3e3-318e3c09f337",
   "metadata": {},
   "outputs": [
    {
     "name": "stdin",
     "output_type": "stream",
     "text": [
      "Enter the first date (YYYY-MM-DD):  2002-09-07\n",
      "Enter the second date (YYYY-MM-DD):  2023-04-07\n"
     ]
    },
    {
     "name": "stdout",
     "output_type": "stream",
     "text": [
      "The difference between 2002-09-07 and 2023-04-07 is: 7517 days, 0 hours, and 0 minutes.\n"
     ]
    }
   ],
   "source": [
    "import pandas as pd\n",
    "\n",
    "# Prompt the user to enter the first date\n",
    "date1 = input(\"Enter the first date (YYYY-MM-DD): \")\n",
    "\n",
    "# Prompt the user to enter the second date\n",
    "date2 = input(\"Enter the second date (YYYY-MM-DD): \")\n",
    "\n",
    "# Convert the input strings to Pandas datetime objects\n",
    "date1 = pd.to_datetime(date1)\n",
    "date2 = pd.to_datetime(date2)\n",
    "\n",
    "# Calculate the time difference between the two dates\n",
    "time_diff = date2 - date1\n",
    "\n",
    "# Extract the number of days, hours, and minutes from the time difference\n",
    "days = time_diff.days\n",
    "hours = time_diff.seconds // 3600\n",
    "minutes = (time_diff.seconds % 3600) // 60\n",
    "\n",
    "# Display the result\n",
    "print(f\"The difference between {date1.date()} and {date2.date()} is: {days} days, {hours} hours, and {minutes} minutes.\")\n"
   ]
  },
  {
   "cell_type": "code",
   "execution_count": 1,
   "id": "e5af998b-169c-49ae-939c-a682ce9ab81f",
   "metadata": {},
   "outputs": [],
   "source": [
    "# Q9. Write a Python program that reads a CSV file containing categorical data and converts a specified\n",
    "# column to a categorical data type. The program should prompt the user to enter the file path, column\n",
    "# name, and category order, and then display the sorted data."
   ]
  },
  {
   "cell_type": "code",
   "execution_count": null,
   "id": "b3595464-5040-4274-a11e-3e88bf941ddb",
   "metadata": {},
   "outputs": [],
   "source": [
    "import pandas as pd\n",
    "\n",
    "# Prompt the user for file path, column name, and category order\n",
    "file_path = input(\"Enter the file path: \")\n",
    "column_name = input(\"Enter the column name: \")\n",
    "category_order = input(\"Enter the category order (comma-separated): \").split(\",\")\n",
    "\n",
    "# Read the CSV file and convert the specified column to categorical data type\n",
    "df = pd.read_csv(file_path)\n",
    "df[column_name] = pd.Categorical(df[column_name], categories=category_order, ordered=True)\n",
    "\n",
    "# Sort the data based on the specified category order\n",
    "df_sorted = df.sort_values(column_name)\n",
    "\n",
    "# Display the sorted data\n",
    "print(df_sorted)"
   ]
  },
  {
   "cell_type": "code",
   "execution_count": 2,
   "id": "8b7b8dfa-2c25-4b4a-89fb-312b53315810",
   "metadata": {},
   "outputs": [],
   "source": [
    "# Q10. Write a Python program that reads a CSV file containing sales data for different products and\n",
    "# visualizes the data using a stacked bar chart to show the sales of each product category over time. The\n",
    "# program should prompt the user to enter the file path and display the chart."
   ]
  },
  {
   "cell_type": "code",
   "execution_count": null,
   "id": "220dd45b-a24b-40fe-8f37-d40896fd7c63",
   "metadata": {},
   "outputs": [],
   "source": [
    "import pandas as pd\n",
    "import matplotlib.pyplot as plt\n",
    "\n",
    "# Prompt user to enter file path\n",
    "file_path = input(\"Enter the file path: \")\n",
    "\n",
    "# Read the CSV file into a Pandas dataframe\n",
    "df = pd.read_csv(file_path)\n",
    "\n",
    "# Convert the date column to a datetime object\n",
    "df['Date'] = pd.to_datetime(df['Date'])\n",
    "\n",
    "# Group the data by product category and date, and calculate the sum of sales\n",
    "grouped_data = df.groupby(['Product Category', 'Date'])['Sales'].sum().reset_index()\n",
    "\n",
    "# Pivot the data to create a matrix with product categories as rows, dates as columns, and sales as values\n",
    "pivot_data = pd.pivot_table(grouped_data, values='Sales', index='Product Category', columns='Date')\n",
    "\n",
    "# Create a stacked bar chart\n",
    "pivot_data.plot(kind='bar', stacked=True)\n",
    "\n",
    "# Set the chart title and axis labels\n",
    "plt.title('Sales by Product Category')\n",
    "plt.xlabel('Product Category')\n",
    "plt.ylabel('Sales')\n",
    "\n",
    "# Display the chart\n",
    "plt.show()"
   ]
  },
  {
   "cell_type": "code",
   "execution_count": null,
   "id": "1f8c3834-999a-4d53-92e1-9e9019e62294",
   "metadata": {},
   "outputs": [],
   "source": [
    "Q11. You are given a CSV file containing student data that includes the student ID and their test score. Write\n",
    "a Python program that reads the CSV file, calculates the mean, median, and mode of the test scores, and\n",
    "displays the results in a table.\n",
    "The program should do the followingM\n",
    "I Prompt the user to enter the file path of the CSV file containing the student dataR\n",
    "I Read the CSV file into a Pandas DataFrameR\n",
    "I Calculate the mean, median, and mode of the test scores using Pandas toolsR\n",
    "I Display the mean, median, and mode in a table.\n",
    "Assume the CSV file contains the following columnsM\n",
    "I Student ID: The ID of the studentR\n",
    "I Test Score: The score of the student's test.\n",
    "Example usage of the program:\n",
    "Enter the file path of the CSV file containing the student data: student_data.csv\n",
    "+-----------+--------+\n",
    "| Statistic | Value |\n",
    "+-----------+--------+\n",
    "| Mean | 79.6 |\n",
    "| Median | 82 |\n",
    "| Mode | 85, 90 |\n",
    "+-----------+--------+\n",
    "Assume that the CSV file student_data.csv contains the following data:\n",
    "Student ID,Test Score\n",
    "1,85\n",
    "2,90\n",
    "3,80\n",
    "4,75\n",
    "5,85\n",
    "6,82\n",
    "7,78\n",
    "8,85\n",
    "9,90\n",
    "10,85\n",
    "The program should calculate the mean, median, and mode of the test scores and display the results\n",
    "in a table."
   ]
  },
  {
   "cell_type": "code",
   "execution_count": null,
   "id": "55ae6c5b-6e08-4377-8011-68d1dc4dec01",
   "metadata": {},
   "outputs": [],
   "source": [
    "import pandas as pd\n",
    "\n",
    "# Prompt the user to enter the file path of the CSV file containing the student data\n",
    "file_path = input(\"Enter the file path of the CSV file containing the student data: \")\n",
    "\n",
    "# Read the CSV file into a Pandas DataFrame\n",
    "df = pd.read_csv(file_path)\n",
    "\n",
    "# Calculate the mean, median, and mode of the test scores using Pandas tools\n",
    "mean = df['Test Score'].mean()\n",
    "median = df['Test Score'].median()\n",
    "mode = df['Test Score'].mode()\n",
    "\n",
    "# Display the mean, median, and mode in a table\n",
    "table = pd.DataFrame({'Statistic': ['Mean', 'Median', 'Mode'], 'Value': [mean, median, mode]})\n",
    "print(table)"
   ]
  }
 ],
 "metadata": {
  "kernelspec": {
   "display_name": "Python 3 (ipykernel)",
   "language": "python",
   "name": "python3"
  },
  "language_info": {
   "codemirror_mode": {
    "name": "ipython",
    "version": 3
   },
   "file_extension": ".py",
   "mimetype": "text/x-python",
   "name": "python",
   "nbconvert_exporter": "python",
   "pygments_lexer": "ipython3",
   "version": "3.10.8"
  }
 },
 "nbformat": 4,
 "nbformat_minor": 5
}
