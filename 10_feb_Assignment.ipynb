{
 "cells": [
  {
   "cell_type": "code",
   "execution_count": 1,
   "id": "5b5b499d-90d1-40ec-a88e-44ba97039d17",
   "metadata": {},
   "outputs": [],
   "source": [
    "# Q1. Which function is used to open a file? What are the different modes of opening a file? Explain each mode\n",
    "# of file opening."
   ]
  },
  {
   "cell_type": "code",
   "execution_count": 2,
   "id": "b3e8a234-c0ea-4b56-a19e-eb57e4c6ed6c",
   "metadata": {},
   "outputs": [],
   "source": [
    "# In Python, the built-in open() function is used to open a file. The open() function returns a file object \n",
    "# that allows you to read, write, or append to the file depending on the mode you choose.\n",
    "\n",
    "# The different modes of opening a file are:\n",
    "\n",
    "# 'r' (read mode): This is the default mode. In this mode, the file is opened for reading only. \n",
    "# If the file does not exist, an error will be raised.\n",
    "\n",
    "# 'w' (write mode): In this mode, the file is opened for writing. If the file already exists, its contents \n",
    "# are truncated. If the file does not exist, a new file is created.\n",
    "\n",
    "# 'a' (append mode): In this mode, the file is opened for writing, but any data written to the file is \n",
    "# appended to the end of the file rather than overwriting the existing content. If the file does not exist, \n",
    "# a new file is created.\n",
    "\n",
    "# 'x' (exclusive creation mode): In this mode, the file is opened for writing, but only if it does not \n",
    "# already exist. If the file already exists, an error will be raised.\n",
    "\n",
    "# 'b' (binary mode): In this mode, the file is opened in binary mode, which is used for non-text files such\n",
    "# as images, videos, or binary data.\n",
    "\n",
    "# 't' (text mode): This is the default mode. In this mode, the file is opened in text mode, which is used \n",
    "# for text files.\n",
    "\n",
    "# '+' (read and write mode): This mode allows you to read and write to the file simultaneously.\n",
    "\n",
    "# When opening a file, you can specify one or more of these modes by combining them using the + character. \n",
    "# For example, 'r+' opens the file for both reading and writing, while 'wb' opens the file in binary mode \n",
    "# for writing only."
   ]
  },
  {
   "cell_type": "code",
   "execution_count": 3,
   "id": "9fd52824-8d51-4362-930a-58ad200da2de",
   "metadata": {},
   "outputs": [],
   "source": [
    "# Q2. Why close() function is used? Why is it important to close a file?"
   ]
  },
  {
   "cell_type": "code",
   "execution_count": 4,
   "id": "e15af6b5-bff0-40ce-a4be-fc8ace19e3fa",
   "metadata": {},
   "outputs": [],
   "source": [
    "# The close() function is used in Python to close a file that was previously opened with the open() function. \n",
    "# It is important to close a file after you have finished reading from or writing to it. \n",
    "# When a file is closed, any resources used by the file, such as the memory buffer, are freed, \n",
    "# which can improve the performance of your program and avoid potential memory leaks.\n",
    "\n",
    "# If you do not explicitly close a file after using it, Python will eventually close the file automatically\n",
    "# when the program exits or when the file object is garbage collected. However, this is not considered good \n",
    "# practice because it can lead to resource leaks, especially if your program works with many files or if you \n",
    "# are running your program for a long time.\n",
    "\n",
    "# Closing a file is also important because it ensures that any pending writes or changes to the file are \n",
    "# actually written to disk before the file is closed. If you do not close a file, there is no guarantee that \n",
    "# all of the data that you have written to the file will be flushed to disk, which can result in data loss or\n",
    "# file corruption.\n",
    "\n",
    "# To avoid these potential issues, it is best to always close your files when you are finished with them by \n",
    "# calling the close() function. Alternatively, you can use a with statement to automatically close the file \n",
    "# for you when you are done with it, as the with statement guarantees that the file will be closed even if an\n",
    "# exception is raised."
   ]
  },
  {
   "cell_type": "code",
   "execution_count": 5,
   "id": "e0a870bc-1c98-412e-aead-a3ebbd1a1d08",
   "metadata": {},
   "outputs": [],
   "source": [
    "# Q3. Write a python program to create a text file. Write ‘I want to become a Data Scientist’ in that file. Then\n",
    "# close the file. Open this file and read the content of the file."
   ]
  },
  {
   "cell_type": "code",
   "execution_count": 6,
   "id": "86f85af7-6faf-4bf6-8279-7045840fcc68",
   "metadata": {},
   "outputs": [
    {
     "name": "stdout",
     "output_type": "stream",
     "text": [
      "I want to become a Data Scientist\n"
     ]
    }
   ],
   "source": [
    "# Create a text file and write to it\n",
    "file = open(\"my_text_file.txt\", \"w\")\n",
    "file.write(\"I want to become a Data Scientist\")\n",
    "file.close()\n",
    "\n",
    "# Open the file and read its contents\n",
    "file = open(\"my_text_file.txt\", \"r\")\n",
    "content = file.read()\n",
    "file.close()\n",
    "\n",
    "# Print the content of the file\n",
    "print(content)\n"
   ]
  },
  {
   "cell_type": "code",
   "execution_count": 7,
   "id": "28d2b389-64c1-4371-8572-6e4117776346",
   "metadata": {},
   "outputs": [],
   "source": [
    "# Q4. Explain the following with python code: read(), readline() and readlines()."
   ]
  },
  {
   "cell_type": "code",
   "execution_count": null,
   "id": "68f053bf-fd20-4811-bf6a-a8f0866516c3",
   "metadata": {},
   "outputs": [],
   "source": [
    "# In Python, there are several ways to read the contents of a file. Here's an explanation of read(), \n",
    "# readline(), and readlines() and examples of how to use them:\n",
    "\n",
    "# read(): The read() method reads the entire contents of a file and returns them as a single string. \n",
    "# It takes an optional argument that specifies the number of bytes to read. If no argument is specified, \n",
    "# read() reads the entire file. Here's an example:\n",
    "\n",
    "\n",
    "file = open(\"my_file.txt\", \"r\")\n",
    "content = file.read()\n",
    "file.close()\n",
    "print(content)\n",
    "\n",
    "# This code opens a file called \"my_file.txt\" in read mode, reads the entire contents of the file using the \n",
    "# read() method, stores the contents in the content variable, and then closes the file using the close() \n",
    "# method. Finally, it prints the contents of the file using the print() function.\n",
    "\n",
    "# readline(): The readline() method reads a single line from a file and returns it as a string. Each time \n",
    "# you call readline(), it reads the next line in the file. If there are no more lines in the file, readline()\n",
    "# returns an empty string. Here's an example:\n",
    "\n",
    "\n",
    "file = open(\"my_file.txt\", \"r\")\n",
    "line1 = file.readline()\n",
    "line2 = file.readline()\n",
    "file.close()\n",
    "print(line1)\n",
    "print(line2)\n",
    "\n",
    "\n",
    "# This code opens a file called \"my_file.txt\" in read mode, reads the first line of the file using readline() \n",
    "# and stores it in the line1 variable, reads the second line of the file using readline() and stores it in \n",
    "# the line2 variable, and then closes the file using the close() method. Finally, it prints the first and \n",
    "# second lines of the file using the print() function.\n",
    "\n",
    "# readlines(): The readlines() method reads all the lines of a file and returns them as a list of strings. \n",
    "# Each string in the list corresponds to a single line in the file, including the newline character at the \n",
    "# end of each line. Here's an example:\n",
    "\n",
    "\n",
    "file = open(\"my_file.txt\", \"r\")\n",
    "lines = file.readlines()\n",
    "file.close()\n",
    "print(lines)\n",
    "\n",
    "\n",
    "# This code opens a file called \"my_file.txt\" in read mode, reads all the lines in the file using the \n",
    "# readlines() method, stores the lines in the lines variable as a list of strings, and then closes the file \n",
    "# using the close() method. Finally, it prints the list of lines using the print() function.\n",
    "\n",
    "# Note: It's a good practice to always close the file after reading it to release the resources held by the \n",
    "# file object."
   ]
  },
  {
   "cell_type": "code",
   "execution_count": 8,
   "id": "48587d36-dc33-4870-bf66-77e3e8e0d6bf",
   "metadata": {},
   "outputs": [],
   "source": [
    "# Q5. Explain why with statement is used with open(). What is the advantage of using with statement and\n",
    "# open() together?"
   ]
  },
  {
   "cell_type": "code",
   "execution_count": null,
   "id": "76bf7702-95d7-46ff-b7ea-e0a9d27775b7",
   "metadata": {},
   "outputs": [],
   "source": [
    "# The with statement in Python is used to create a context in which a resource, such as a file, is used. \n",
    "# When the with statement is used with the open() function to open a file, it automatically takes care of \n",
    "# closing the file once the block of code within the with statement has completed, even if an exception is \n",
    "# raised. This is important because it helps ensure that the file is properly closed and any resources \n",
    "# associated with it are released, even if an error occurs.\n",
    "\n",
    "# Here's an example of using the with statement and open() function together:\n",
    "\n",
    "\n",
    "with open(\"example.txt\", \"r\") as file:\n",
    "    content = file.read()\n",
    "    print(content)\n",
    "    \n",
    "    \n",
    "# In this example, the with statement is used with the open() function to open a file called \"example.txt\" \n",
    "# in read mode. The file is automatically closed when the block of code within the with statement has \n",
    "# completed, even if an exception is raised. The contents of the file are read using the read() method of \n",
    "# the file object, stored in the content variable, and printed using the print() function.\n",
    "\n",
    "# The main advantage of using the with statement and open() function together is that it helps ensure that \n",
    "# files are properly closed and any resources associated with them are released. This can help prevent errors\n",
    "# and improve the reliability of your code. Additionally, using the with statement can help make your code \n",
    "# more concise and easier to read by eliminating the need for a separate close() statement."
   ]
  },
  {
   "cell_type": "code",
   "execution_count": 9,
   "id": "40e07e6b-15ef-4733-902c-e249594b98af",
   "metadata": {},
   "outputs": [],
   "source": [
    "# Q6. Explain the write() and writelines() functions. Give a suitable example."
   ]
  },
  {
   "cell_type": "code",
   "execution_count": null,
   "id": "66907455-9a73-4047-b768-87edde48e7f2",
   "metadata": {},
   "outputs": [],
   "source": [
    "# In Python, the write() and writelines() functions are used to write data to a file. Here's an explanation\n",
    "# of how they work and an example of how to use them:\n",
    "\n",
    "# write(): The write() function is used to write a string of characters to a file. It takes a single argument,\n",
    "# which is the string to be written. If the file does not exist, it will be created. If the file already \n",
    "# exists, the write() function will overwrite the existing contents of the file with the new data. Here's \n",
    "# an example:\n",
    "\n",
    "\n",
    "with open(\"example.txt\", \"w\") as file:\n",
    "    file.write(\"Hello, world!\")\n",
    "    \n",
    "    \n",
    "# This code uses the with statement and open() function to create a file called \"example.txt\" in write mode. \n",
    "# The write() function is then used to write the string \"Hello, world!\" to the file. The with statement \n",
    "# automatically closes the file when the block of code is finished.\n",
    "\n",
    "# writelines(): The writelines() function is used to write a list of strings to a file. Each string in the \n",
    "# list corresponds to a line in the file, including the newline character at the end of each line. If the \n",
    "# file does not exist, it will be created. If the file already exists, the writelines() function will \n",
    "# overwrite the existing contents of the file with the new data. Here's an example:\n",
    "\n",
    "\n",
    "lines = [\"Hello, world!\\n\", \"How are you?\\n\", \"Goodbye!\\n\"]\n",
    "with open(\"example.txt\", \"w\") as file:\n",
    "    file.writelines(lines)\n",
    "    \n",
    "# This code uses the with statement and open() function to create a file called \"example.txt\" in write mode.\n",
    "# The writelines() function is then used to write a list of strings to the file. Each string in the lines \n",
    "# list corresponds to a line in the file, including the newline character at the end of each line. \n",
    "# The with statement automatically closes the file when the block of code is finished.\n",
    "\n",
    "# Note: It's important to remember to include the newline character (\\n) at the end of each line when using \n",
    "# the writelines() function, as it does not automatically add it like the write() function does."
   ]
  }
 ],
 "metadata": {
  "kernelspec": {
   "display_name": "Python 3 (ipykernel)",
   "language": "python",
   "name": "python3"
  },
  "language_info": {
   "codemirror_mode": {
    "name": "ipython",
    "version": 3
   },
   "file_extension": ".py",
   "mimetype": "text/x-python",
   "name": "python",
   "nbconvert_exporter": "python",
   "pygments_lexer": "ipython3",
   "version": "3.10.8"
  }
 },
 "nbformat": 4,
 "nbformat_minor": 5
}
