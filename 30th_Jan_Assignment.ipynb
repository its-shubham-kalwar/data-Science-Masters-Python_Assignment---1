{
 "cells": [
  {
   "cell_type": "code",
   "execution_count": 1,
   "id": "9ff452d2-733b-4711-85fa-5d6fa6acaf24",
   "metadata": {},
   "outputs": [],
   "source": [
    "#  Assignment "
   ]
  },
  {
   "cell_type": "code",
   "execution_count": 2,
   "id": "9d0095d5-3588-4021-a71f-db49f495f431",
   "metadata": {},
   "outputs": [],
   "source": [
    "# Question no - 1 "
   ]
  },
  {
   "cell_type": "code",
   "execution_count": 4,
   "id": "a37de0f5-2be2-4432-8bba-42b71a1e95a9",
   "metadata": {},
   "outputs": [
    {
     "name": "stdin",
     "output_type": "stream",
     "text": [
      "Enter a marks:  59\n"
     ]
    },
    {
     "name": "stdout",
     "output_type": "stream",
     "text": [
      "Grade D\n"
     ]
    }
   ],
   "source": [
    "marks = int(input(\"Enter a marks: \"))\n",
    "if marks > 90:\n",
    "    print(\"Grade A\")\n",
    "elif marks >80 and marks <= 90 :\n",
    "    print(\"Grade B\")\n",
    "elif marks >=60 and marks <= 80 :\n",
    "    print(\"Grade C\")\n",
    "else :\n",
    "    print(\"Grade D\")"
   ]
  },
  {
   "cell_type": "code",
   "execution_count": 5,
   "id": "3b7840d1-df99-4959-b769-0bc290d7c1c4",
   "metadata": {},
   "outputs": [],
   "source": [
    "# Question no - 2"
   ]
  },
  {
   "cell_type": "code",
   "execution_count": 6,
   "id": "21da62fc-8b5f-450b-aa1f-beed19f23020",
   "metadata": {},
   "outputs": [
    {
     "name": "stdin",
     "output_type": "stream",
     "text": [
      "Enter Tax Amount:  49000\n"
     ]
    },
    {
     "name": "stdout",
     "output_type": "stream",
     "text": [
      "5%\n"
     ]
    }
   ],
   "source": [
    "Tax = int(input(\"Enter Tax Amount: \"))\n",
    "if Tax > 100000 :\n",
    "    print(\"15%\")\n",
    "elif Tax > 50000 and Tax <= 100000 :\n",
    "    print(\"10%\")\n",
    "else :\n",
    "    print(\"5%\")"
   ]
  },
  {
   "cell_type": "code",
   "execution_count": 7,
   "id": "740cfb0e-8d69-4fc2-8a80-f7521061292f",
   "metadata": {},
   "outputs": [],
   "source": [
    "# Question - 3"
   ]
  },
  {
   "cell_type": "code",
   "execution_count": 8,
   "id": "82063db6-dbc3-4fd9-bda4-30a9ba4baf60",
   "metadata": {},
   "outputs": [
    {
     "name": "stdin",
     "output_type": "stream",
     "text": [
      "Choose a city name - Delhi, Agra, jaipur:  Delhi\n"
     ]
    },
    {
     "name": "stdout",
     "output_type": "stream",
     "text": [
      "Red Fort\n"
     ]
    }
   ],
   "source": [
    "City = str(input(\"Choose a city name - Delhi, Agra, jaipur: \"))\n",
    "if City == \"Delhi\" :\n",
    "    print(\"Red Fort\")\n",
    "elif City == \"Agra\" :\n",
    "    print(\"Taj Mahal\")\n",
    "elif City == \"Jaipur\" :\n",
    "    print(\"Jaipur\")\n",
    "else :\n",
    "    print(\"Choose given city name  - Delhi, Agra, jaipur: \")"
   ]
  },
  {
   "cell_type": "code",
   "execution_count": 1,
   "id": "f297576c-954f-4efb-abe7-85d9269a2c0a",
   "metadata": {},
   "outputs": [],
   "source": [
    "# Question - 4 - Check how many times a given number can be divided by 3 before it is less than or equal to 10."
   ]
  },
  {
   "cell_type": "code",
   "execution_count": 10,
   "id": "95939475-bc87-493c-8f14-a76e0f3c9213",
   "metadata": {},
   "outputs": [
    {
     "name": "stdout",
     "output_type": "stream",
     "text": [
      "Total iteration required 3\n"
     ]
    }
   ],
   "source": [
    "count = 0\n",
    "number = 200\n",
    "while number > 10:\n",
    "    # divide number by 3\n",
    "    number = number / 3\n",
    "    # increase count\n",
    "    count = count + 1\n",
    "print('Total iteration required', count)"
   ]
  },
  {
   "cell_type": "code",
   "execution_count": 2,
   "id": "766bcfe8-a9ff-4468-b12f-097e93035f8c",
   "metadata": {},
   "outputs": [],
   "source": [
    "# Question - 5 - Why and when to use while loop in python give a detailed description with example."
   ]
  },
  {
   "cell_type": "code",
   "execution_count": null,
   "id": "bc6bfc53-be8a-48f7-b901-47d7eea2da7e",
   "metadata": {},
   "outputs": [],
   "source": [
    "Automate and repeat tasks.: As we know, while loops execute blocks of code over and over again until the condition is met it allows us to automate and repeat tasks in an efficient manner.\n",
    "\n",
    "Indefinite Iteration: The while loop will run as often as necessary to complete a particular task. When the user doesn’t know the number of iterations before execution, while loop is used instead of a for loop\n",
    "\n",
    "Reduce complexity: while loop is easy to write. using the loop, we don’t need to write the statements again and again. Instead, we can write statements we wanted to execute again and again inside the body of the loop thus, reducing the complexity of the code\n",
    "\n",
    "Infinite loop: If the code inside the while loop doesn’t modify the variables being tested in the loop condition, the loop will run forever.\n",
    "\n",
    "example - \n",
    "\n",
    "while True :\n",
    "    print(\"Hello world\")"
   ]
  },
  {
   "cell_type": "code",
   "execution_count": 3,
   "id": "a0619e09-4b95-4642-b91c-e97ec695a685",
   "metadata": {},
   "outputs": [],
   "source": [
    "# Question - 6 - Use nested while loop to print 3 different patterns."
   ]
  },
  {
   "cell_type": "code",
   "execution_count": 15,
   "id": "2b19f328-3ec3-456b-8494-ed4f36b44883",
   "metadata": {},
   "outputs": [
    {
     "name": "stdout",
     "output_type": "stream",
     "text": [
      "0 0 0 0 0 0 \n",
      "0 1 2 3 4 5 \n",
      "0 2 4 6 8 10 \n",
      "0 3 6 9 12 15 \n",
      "\n",
      "0 0 0 0 0 0 \n",
      "0 2 4 6 8 10 \n",
      "0 4 8 12 16 20 \n",
      "0 6 12 18 24 30 \n",
      "\n",
      "0 0 0 0 0 0 \n",
      "0 3 6 9 12 15 \n",
      "0 6 12 18 24 30 \n",
      "0 9 18 27 36 45 \n",
      "\n"
     ]
    }
   ],
   "source": [
    "i = 1\n",
    "while i <= 3 :\n",
    "    j = 0\n",
    "    while  j <= 3 :\n",
    "        k = 0\n",
    "        while  k <= 5 :\n",
    "            print(i*j*k, end=\" \")\n",
    "            k += 1\n",
    "        print()\n",
    "        j += 1\n",
    "    print()\n",
    "    i += 1"
   ]
  },
  {
   "cell_type": "code",
   "execution_count": 4,
   "id": "9116c25b-35dd-4d04-b322-f19a7a19931c",
   "metadata": {},
   "outputs": [],
   "source": [
    "# Reverse a while loop to display number from 10 to 1 in python."
   ]
  },
  {
   "cell_type": "code",
   "execution_count": 7,
   "id": "9f7ea461-d214-46d9-b58a-42f54125a247",
   "metadata": {},
   "outputs": [
    {
     "name": "stdin",
     "output_type": "stream",
     "text": [
      "Enter a numer :  10\n"
     ]
    },
    {
     "name": "stdout",
     "output_type": "stream",
     "text": [
      "Reversed Number: 1\n"
     ]
    }
   ],
   "source": [
    "num = int(input(\"Enter a numer : \"))\n",
    "reversed_num = 0\n",
    "\n",
    "while num != 0:\n",
    "    digit = num % 10\n",
    "    reversed_num = reversed_num * 10 + digit\n",
    "    num //= 10\n",
    "\n",
    "print(\"Reversed Number: \" + str(reversed_num))"
   ]
  },
  {
   "cell_type": "code",
   "execution_count": null,
   "id": "3eb2f8ef-ed4e-411b-9b8b-727e5d287666",
   "metadata": {},
   "outputs": [],
   "source": []
  }
 ],
 "metadata": {
  "kernelspec": {
   "display_name": "Python 3 (ipykernel)",
   "language": "python",
   "name": "python3"
  },
  "language_info": {
   "codemirror_mode": {
    "name": "ipython",
    "version": 3
   },
   "file_extension": ".py",
   "mimetype": "text/x-python",
   "name": "python",
   "nbconvert_exporter": "python",
   "pygments_lexer": "ipython3",
   "version": "3.10.8"
  }
 },
 "nbformat": 4,
 "nbformat_minor": 5
}
