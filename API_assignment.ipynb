{
 "cells": [
  {
   "cell_type": "code",
   "execution_count": 1,
   "id": "71221a76-c9c1-4c99-a891-dc5585a8e708",
   "metadata": {},
   "outputs": [],
   "source": [
    "# what is an api? Give an example, where an api is used in real life."
   ]
  },
  {
   "cell_type": "code",
   "execution_count": null,
   "id": "18bdac5e-5eb0-44de-acaa-aac72a632956",
   "metadata": {},
   "outputs": [],
   "source": [
    "# Application Programming Interface (API) is a software interface that allows two applications to interact with each other without any user intervention. API is a collection of software functions and procedures. In simple terms, API means a software code that can be accessed or executed. API is defined as a code that helps two different software’s to communicate and exchange data with each other.\n",
    "# Example of api - Universal logins , Third-party payment processing , Travel booking comparisons , Google Maps\n",
    "# Used in real life - Weather Snippets , Pay with PayPal , Twitter Bots , Travel Booking"
   ]
  },
  {
   "cell_type": "code",
   "execution_count": 2,
   "id": "3a397116-6420-4d6e-8809-1fd374ff2a92",
   "metadata": {},
   "outputs": [],
   "source": [
    "# give advantages and disadvantages of using api?"
   ]
  },
  {
   "cell_type": "code",
   "execution_count": null,
   "id": "2327e2b8-bd23-4a84-bbf0-272f14eef857",
   "metadata": {},
   "outputs": [],
   "source": [
    "# Advantages - Security benefits , Decreased Microservices complexity , Monitoring and Analytics\n",
    "# Disadvantages - learning curve problem , Configuring your application , Performance degradation "
   ]
  },
  {
   "cell_type": "code",
   "execution_count": 3,
   "id": "f98d4fb9-115a-4cca-87a8-e6b0ac7e4a2d",
   "metadata": {},
   "outputs": [],
   "source": [
    "# What is web api? Different between api and web api?"
   ]
  },
  {
   "cell_type": "code",
   "execution_count": null,
   "id": "634f4404-a271-43c2-98b2-90790c718508",
   "metadata": {},
   "outputs": [],
   "source": [
    "# Web API is back-end application(server side) where actual functionality to call service/database call is happening to store and retrieve the data.\n",
    "\n",
    "# Web Application is front end application(client side)which is calling web API to present the data retrieved from back-end.\n",
    "\n",
    "# Eg: To check the account balance in your mobile banking app, you are able to see your account details in front end. But all the calculations of interest /balance is happening in the back end."
   ]
  },
  {
   "cell_type": "code",
   "execution_count": 4,
   "id": "4a1cef52-7efa-4a30-afe1-fdcd5277df64",
   "metadata": {},
   "outputs": [],
   "source": [
    "# explain rest and soap architecture.Mention shortcomings of soap."
   ]
  },
  {
   "cell_type": "code",
   "execution_count": null,
   "id": "33d6f282-eba0-42de-adde-2ef2740a6f8c",
   "metadata": {},
   "outputs": [],
   "source": [
    "# SOAP stands for Simple Object Access Protocol is a network platform used in a web service to exchange or communicate data between two different machines on a network. It uses the XML format of data to transfer messages over the HTTP protocol. In Web services, SOAP allows the user request to interact with other programming languages. In this way, it provides a way to communicate between applications running on different platforms (Operating system), with programming languages and technologies used in web service.\n",
    "# REST stands for REpresentational State Transfer. It is an architectural style that provides standards between computer systems on a web service. It is a set of constraints used to create a lightweight, scalable, and maintainable web service that facilitates easy communication. It is a set of constraints used to create a lightweight, scalable and maintainable web service that makes easy communication with each other. All web services are based on the REST; hence it is called a RESTful service. The purpose of developing a RESTful web service is to make the web service more effective. The Roy Fielding develops it in 2000, who also developed the HTTP protocol. It does not depend on a specific protocol to use, but it's used HTTP/HTTPS.\n",
    "# shortcomings of soap - SOAP is used only XML format data , It is slow because it uses XML format , no security features , no state reference."
   ]
  },
  {
   "cell_type": "code",
   "execution_count": 5,
   "id": "280f2105-5291-4ca9-aee8-902d9be85096",
   "metadata": {},
   "outputs": [],
   "source": [
    "# differentiate between rest and soap."
   ]
  },
  {
   "cell_type": "code",
   "execution_count": null,
   "id": "9b704f1a-295d-42f9-bd41-d1c624b17192",
   "metadata": {},
   "outputs": [],
   "source": [
    "# SOAP is a protocol.\tREST is an architectural style.\n",
    "# SOAP stands for Simple Object Access Protocol.\tREST stands for REpresentational State Transfer.\n",
    "# SOAP can't use REST because it is a protocol.\tREST can use SOAP web services because it is a concept and can use any protocol like HTTP, SOAP.\n",
    "# SOAP uses services interfaces to expose the business logic.\tREST uses URI to expose business logic.\n",
    "# JAX-WS is the java API for SOAP web services.\tJAX-RS is the java API for RESTful web services.\n",
    "# SOAP defines standards to be strictly followed.\tREST does not define too much standards like SOAP.\n",
    "# SOAP requires more bandwidth and resource than REST.\tREST requires less bandwidth and resource than SOAP.\n",
    "# SOAP defines its own security.\tRESTful web services inherits security measures from the underlying transport.\n",
    "# SOAP permits XML data format only.\tREST permits different data format such as Plain text, HTML, XML, JSON etc.\n",
    "# SOAP is less preferred than REST.\tREST more preferred than SOAP."
   ]
  }
 ],
 "metadata": {
  "kernelspec": {
   "display_name": "Python 3 (ipykernel)",
   "language": "python",
   "name": "python3"
  },
  "language_info": {
   "codemirror_mode": {
    "name": "ipython",
    "version": 3
   },
   "file_extension": ".py",
   "mimetype": "text/x-python",
   "name": "python",
   "nbconvert_exporter": "python",
   "pygments_lexer": "ipython3",
   "version": "3.10.8"
  }
 },
 "nbformat": 4,
 "nbformat_minor": 5
}
